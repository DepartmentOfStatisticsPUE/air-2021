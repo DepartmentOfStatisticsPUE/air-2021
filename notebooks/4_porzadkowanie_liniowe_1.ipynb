{
  "nbformat": 4,
  "nbformat_minor": 0,
  "metadata": {
    "colab": {
      "name": "4-porzadkowanie-liniowe-1.ipynb",
      "provenance": [],
      "collapsed_sections": []
    },
    "kernelspec": {
      "name": "python3",
      "display_name": "Python 3"
    }
  },
  "cells": [
    {
      "cell_type": "markdown",
      "metadata": {
        "id": "W2bVsbqmg6-K"
      },
      "source": [
        "Importujemy potrzebne pakiety / moduły"
      ]
    },
    {
      "cell_type": "code",
      "metadata": {
        "id": "6Id2IjANgsZb"
      },
      "source": [
        "import pandas as pd\n",
        "import numpy as np"
      ],
      "execution_count": 2,
      "outputs": []
    },
    {
      "cell_type": "markdown",
      "metadata": {
        "id": "rdJBp5fFg-qo"
      },
      "source": [
        "Wczytujemy plik z powiatami"
      ]
    },
    {
      "cell_type": "code",
      "metadata": {
        "id": "PEjA3U4chAC2",
        "outputId": "aa3df0ad-48f5-43c4-a34c-27c62acff3a0",
        "colab": {
          "base_uri": "https://localhost:8080/"
        }
      },
      "source": [
        "powiaty = pd.read_excel(io = \"Powiaty.xls\")\n",
        "print(powiaty.head())\n",
        "print(powiaty.shape)"
      ],
      "execution_count": 9,
      "outputs": [
        {
          "output_type": "stream",
          "text": [
            "                   Powiaty   Id      X1_s  ...      X4_d      X5_d      X6_d\n",
            "0               chodzieski  251  0.638029  ...  0.282360  0.536464  0.064824\n",
            "1  czarnkowsko-trzcianecki  252  0.635018  ...  0.295556  0.512332  0.115621\n",
            "2             gnieźnieński  253  0.571948  ...  0.308769  0.468553  0.246254\n",
            "3                gostyński  254  0.707542  ...  0.362074  0.470871  0.077338\n",
            "4                grodziski  255  0.645110  ...  0.412271  0.417134  0.141414\n",
            "\n",
            "[5 rows x 8 columns]\n",
            "(35, 8)\n"
          ],
          "name": "stdout"
        }
      ]
    },
    {
      "cell_type": "markdown",
      "metadata": {
        "id": "jIv-W05Hhqv4"
      },
      "source": [
        "+ x1s - udział procentowy zatrudnionych w sektorze prywatnym w liczbie zatrudnionych ogółem;\n",
        "+ x2s - przeciętne miesięczne wynagrodzenie (brutto);\n",
        "+ x3d - stopa bezrobocia rejestrowanego;\n",
        "+ x4d - udział procentowy bezrobotnych do 25 roku życia w ogólnej liczbie bezrobotnych;\n",
        "+ x5d - udział procentowy długotrwale bezrobotnych w ogólnej liczbie bezrobotnych;\n",
        "+ x6d - udział procentowy bezrobotnych bez stażu lub ze stażem do 1 roku w ogólnej liczbie bezrobotnych;"
      ]
    },
    {
      "cell_type": "code",
      "metadata": {
        "id": "LmiPESgVhJ_t",
        "outputId": "c1d4abb8-ef8e-480d-fa69-88685a249972",
        "colab": {
          "base_uri": "https://localhost:8080/",
          "height": 288
        }
      },
      "source": [
        "powiaty.describe()"
      ],
      "execution_count": 6,
      "outputs": [
        {
          "output_type": "execute_result",
          "data": {
            "text/html": [
              "<div>\n",
              "<style scoped>\n",
              "    .dataframe tbody tr th:only-of-type {\n",
              "        vertical-align: middle;\n",
              "    }\n",
              "\n",
              "    .dataframe tbody tr th {\n",
              "        vertical-align: top;\n",
              "    }\n",
              "\n",
              "    .dataframe thead th {\n",
              "        text-align: right;\n",
              "    }\n",
              "</style>\n",
              "<table border=\"1\" class=\"dataframe\">\n",
              "  <thead>\n",
              "    <tr style=\"text-align: right;\">\n",
              "      <th></th>\n",
              "      <th>Id</th>\n",
              "      <th>X1_s</th>\n",
              "      <th>X2_s</th>\n",
              "      <th>X3_d</th>\n",
              "      <th>X4_d</th>\n",
              "      <th>X5_d</th>\n",
              "      <th>X6_d</th>\n",
              "    </tr>\n",
              "  </thead>\n",
              "  <tbody>\n",
              "    <tr>\n",
              "      <th>count</th>\n",
              "      <td>35.000000</td>\n",
              "      <td>35.000000</td>\n",
              "      <td>35.000000</td>\n",
              "      <td>35.000000</td>\n",
              "      <td>35.000000</td>\n",
              "      <td>35.000000</td>\n",
              "      <td>35.000000</td>\n",
              "    </tr>\n",
              "    <tr>\n",
              "      <th>mean</th>\n",
              "      <td>268.000000</td>\n",
              "      <td>0.612881</td>\n",
              "      <td>1829.547429</td>\n",
              "      <td>0.180771</td>\n",
              "      <td>0.333395</td>\n",
              "      <td>0.477209</td>\n",
              "      <td>0.146212</td>\n",
              "    </tr>\n",
              "    <tr>\n",
              "      <th>std</th>\n",
              "      <td>10.246951</td>\n",
              "      <td>0.104079</td>\n",
              "      <td>245.764738</td>\n",
              "      <td>0.048488</td>\n",
              "      <td>0.039804</td>\n",
              "      <td>0.059129</td>\n",
              "      <td>0.087077</td>\n",
              "    </tr>\n",
              "    <tr>\n",
              "      <th>min</th>\n",
              "      <td>251.000000</td>\n",
              "      <td>0.215894</td>\n",
              "      <td>1356.200000</td>\n",
              "      <td>0.069000</td>\n",
              "      <td>0.242877</td>\n",
              "      <td>0.348723</td>\n",
              "      <td>0.064824</td>\n",
              "    </tr>\n",
              "    <tr>\n",
              "      <th>25%</th>\n",
              "      <td>259.500000</td>\n",
              "      <td>0.575835</td>\n",
              "      <td>1666.365000</td>\n",
              "      <td>0.142500</td>\n",
              "      <td>0.306919</td>\n",
              "      <td>0.436512</td>\n",
              "      <td>0.088203</td>\n",
              "    </tr>\n",
              "    <tr>\n",
              "      <th>50%</th>\n",
              "      <td>268.000000</td>\n",
              "      <td>0.617031</td>\n",
              "      <td>1795.930000</td>\n",
              "      <td>0.182000</td>\n",
              "      <td>0.336082</td>\n",
              "      <td>0.470871</td>\n",
              "      <td>0.124622</td>\n",
              "    </tr>\n",
              "    <tr>\n",
              "      <th>75%</th>\n",
              "      <td>276.500000</td>\n",
              "      <td>0.651491</td>\n",
              "      <td>1948.235000</td>\n",
              "      <td>0.222000</td>\n",
              "      <td>0.366205</td>\n",
              "      <td>0.518288</td>\n",
              "      <td>0.160100</td>\n",
              "    </tr>\n",
              "    <tr>\n",
              "      <th>max</th>\n",
              "      <td>285.000000</td>\n",
              "      <td>0.813250</td>\n",
              "      <td>2512.130000</td>\n",
              "      <td>0.279000</td>\n",
              "      <td>0.412271</td>\n",
              "      <td>0.602793</td>\n",
              "      <td>0.493064</td>\n",
              "    </tr>\n",
              "  </tbody>\n",
              "</table>\n",
              "</div>"
            ],
            "text/plain": [
              "               Id       X1_s         X2_s  ...       X4_d       X5_d       X6_d\n",
              "count   35.000000  35.000000    35.000000  ...  35.000000  35.000000  35.000000\n",
              "mean   268.000000   0.612881  1829.547429  ...   0.333395   0.477209   0.146212\n",
              "std     10.246951   0.104079   245.764738  ...   0.039804   0.059129   0.087077\n",
              "min    251.000000   0.215894  1356.200000  ...   0.242877   0.348723   0.064824\n",
              "25%    259.500000   0.575835  1666.365000  ...   0.306919   0.436512   0.088203\n",
              "50%    268.000000   0.617031  1795.930000  ...   0.336082   0.470871   0.124622\n",
              "75%    276.500000   0.651491  1948.235000  ...   0.366205   0.518288   0.160100\n",
              "max    285.000000   0.813250  2512.130000  ...   0.412271   0.602793   0.493064\n",
              "\n",
              "[8 rows x 7 columns]"
            ]
          },
          "metadata": {
            "tags": []
          },
          "execution_count": 6
        }
      ]
    },
    {
      "cell_type": "markdown",
      "metadata": {
        "id": "5kVvbsDhjyEu"
      },
      "source": [
        "Tworzymy dwie zmienne, będące wynikiem unitaryzacji zerowanej. Zastosujemy następujące wzory:\n",
        "\n",
        "\n",
        "*   Stymulanty\n",
        "\n",
        "$$\n",
        "z_{ik}= \\frac{x_{ik} - \\min(x_{ik})}{\\max(x_{ik}) - \\min(x_{ik})} \n",
        "$$\n",
        "*   Destymulanty\n",
        "\n",
        "$$\n",
        "z_{ik}= \\frac{\\max(x_{ik})-x_{ik}}{\\max(x_{ik}) - \\min(x_{ik})} \n",
        "$$\n",
        "\n",
        "\n"
      ]
    },
    {
      "cell_type": "code",
      "metadata": {
        "id": "pHBWtfc8kVPz",
        "outputId": "942d0751-0ed5-4ad0-a393-385a3a53b44f",
        "colab": {
          "base_uri": "https://localhost:8080/"
        }
      },
      "source": [
        "powiaty[\"z1\"] = (powiaty[\"X1_s\"] - np.min(powiaty[\"X1_s\"])) / (np.max(powiaty[\"X1_s\"]) - np.min(powiaty[\"X1_s\"]))\n",
        "powiaty[\"z1\"].describe()"
      ],
      "execution_count": 11,
      "outputs": [
        {
          "output_type": "execute_result",
          "data": {
            "text/plain": [
              "count    35.000000\n",
              "mean      0.664574\n",
              "std       0.174233\n",
              "min       0.000000\n",
              "25%       0.602556\n",
              "50%       0.671521\n",
              "75%       0.729207\n",
              "max       1.000000\n",
              "Name: z1, dtype: float64"
            ]
          },
          "metadata": {
            "tags": []
          },
          "execution_count": 11
        }
      ]
    },
    {
      "cell_type": "code",
      "metadata": {
        "id": "T19IkKrYlog8",
        "outputId": "e492a9bf-a65c-453f-cd17-641745ba9956",
        "colab": {
          "base_uri": "https://localhost:8080/"
        }
      },
      "source": [
        "powiaty[\"z4\"] = (np.max(powiaty[\"X4_d\"]) - powiaty[\"X4_d\"] ) / (np.max(powiaty[\"X4_d\"]) - np.min(powiaty[\"X4_d\"]))\n",
        "powiaty[\"z4\"].describe()"
      ],
      "execution_count": 13,
      "outputs": [
        {
          "output_type": "execute_result",
          "data": {
            "text/plain": [
              "count    35.000000\n",
              "mean      0.465635\n",
              "std       0.234979\n",
              "min       0.000000\n",
              "25%       0.271943\n",
              "50%       0.449770\n",
              "75%       0.621935\n",
              "max       1.000000\n",
              "Name: z4, dtype: float64"
            ]
          },
          "metadata": {
            "tags": []
          },
          "execution_count": 13
        }
      ]
    },
    {
      "cell_type": "code",
      "metadata": {
        "id": "vqgfG8zVmjWs",
        "outputId": "b613751b-1af5-4fd4-91a6-fcb96646b22d",
        "colab": {
          "base_uri": "https://localhost:8080/",
          "height": 296
        }
      },
      "source": [
        "## zależnosć między odsetkiem zatrudnionych w sektorze prywatnym do \n",
        "## udziału osób młodych (do 25 roku życia) do wszystkich bezrobotnych\n",
        "powiaty.plot.scatter(x = \"z1\", y = \"z4\") "
      ],
      "execution_count": 15,
      "outputs": [
        {
          "output_type": "execute_result",
          "data": {
            "text/plain": [
              "<matplotlib.axes._subplots.AxesSubplot at 0x7f2102c7c6d8>"
            ]
          },
          "metadata": {
            "tags": []
          },
          "execution_count": 15
        },
        {
          "output_type": "display_data",
          "data": {
            "image/png": "[encoded data removed]",
            "text/plain": [
              "<Figure size 432x288 with 1 Axes>"
            ]
          },
          "metadata": {
            "tags": [],
            "needs_background": "light"
          }
        }
      ]
    },
    {
      "cell_type": "code",
      "metadata": {
        "id": "hdV6T0BrnM1-",
        "outputId": "3d36ca39-7b95-40b8-99a5-596a8a3cfaf5",
        "colab": {
          "base_uri": "https://localhost:8080/",
          "height": 288
        }
      },
      "source": [
        "## stymulanty\n",
        "powiaty[\"z1\"] = (powiaty[\"X1_s\"] - np.min(powiaty[\"X1_s\"])) / (np.max(powiaty[\"X1_s\"]) - np.min(powiaty[\"X1_s\"]))\n",
        "powiaty[\"z2\"] = (powiaty[\"X2_s\"] - np.min(powiaty[\"X2_s\"])) / (np.max(powiaty[\"X2_s\"]) - np.min(powiaty[\"X2_s\"]))\n",
        "## destymulanty\n",
        "powiaty[\"z3\"] = (np.max(powiaty[\"X3_d\"]) - powiaty[\"X3_d\"] ) / (np.max(powiaty[\"X3_d\"]) - np.min(powiaty[\"X3_d\"]))\n",
        "powiaty[\"z4\"] = (np.max(powiaty[\"X4_d\"]) - powiaty[\"X4_d\"] ) / (np.max(powiaty[\"X4_d\"]) - np.min(powiaty[\"X4_d\"]))\n",
        "powiaty[\"z5\"] = (np.max(powiaty[\"X5_d\"]) - powiaty[\"X5_d\"] ) / (np.max(powiaty[\"X5_d\"]) - np.min(powiaty[\"X5_d\"]))\n",
        "powiaty[\"z6\"] = (np.max(powiaty[\"X6_d\"]) - powiaty[\"X6_d\"] ) / (np.max(powiaty[\"X6_d\"]) - np.min(powiaty[\"X6_d\"]))\n",
        "\n",
        "powiaty[[\"z1\", \"z2\", \"z3\", \"z4\", \"z5\", \"z6\"]].describe()\n",
        "powiaty.loc[:, 'z1':'z6'].describe()"
      ],
      "execution_count": 23,
      "outputs": [
        {
          "output_type": "execute_result",
          "data": {
            "text/html": [
              "<div>\n",
              "<style scoped>\n",
              "    .dataframe tbody tr th:only-of-type {\n",
              "        vertical-align: middle;\n",
              "    }\n",
              "\n",
              "    .dataframe tbody tr th {\n",
              "        vertical-align: top;\n",
              "    }\n",
              "\n",
              "    .dataframe thead th {\n",
              "        text-align: right;\n",
              "    }\n",
              "</style>\n",
              "<table border=\"1\" class=\"dataframe\">\n",
              "  <thead>\n",
              "    <tr style=\"text-align: right;\">\n",
              "      <th></th>\n",
              "      <th>z1</th>\n",
              "      <th>z4</th>\n",
              "      <th>z2</th>\n",
              "      <th>z3</th>\n",
              "      <th>z5</th>\n",
              "      <th>z6</th>\n",
              "    </tr>\n",
              "  </thead>\n",
              "  <tbody>\n",
              "    <tr>\n",
              "      <th>count</th>\n",
              "      <td>35.000000</td>\n",
              "      <td>35.000000</td>\n",
              "      <td>35.000000</td>\n",
              "      <td>35.000000</td>\n",
              "      <td>35.000000</td>\n",
              "      <td>35.000000</td>\n",
              "    </tr>\n",
              "    <tr>\n",
              "      <th>mean</th>\n",
              "      <td>0.664574</td>\n",
              "      <td>0.465635</td>\n",
              "      <td>0.409495</td>\n",
              "      <td>0.467755</td>\n",
              "      <td>0.494289</td>\n",
              "      <td>0.809949</td>\n",
              "    </tr>\n",
              "    <tr>\n",
              "      <th>std</th>\n",
              "      <td>0.174233</td>\n",
              "      <td>0.234979</td>\n",
              "      <td>0.212612</td>\n",
              "      <td>0.230894</td>\n",
              "      <td>0.232728</td>\n",
              "      <td>0.203337</td>\n",
              "    </tr>\n",
              "    <tr>\n",
              "      <th>min</th>\n",
              "      <td>0.000000</td>\n",
              "      <td>0.000000</td>\n",
              "      <td>0.000000</td>\n",
              "      <td>0.000000</td>\n",
              "      <td>0.000000</td>\n",
              "      <td>0.000000</td>\n",
              "    </tr>\n",
              "    <tr>\n",
              "      <th>25%</th>\n",
              "      <td>0.602556</td>\n",
              "      <td>0.271943</td>\n",
              "      <td>0.268325</td>\n",
              "      <td>0.271429</td>\n",
              "      <td>0.332606</td>\n",
              "      <td>0.777517</td>\n",
              "    </tr>\n",
              "    <tr>\n",
              "      <th>50%</th>\n",
              "      <td>0.671521</td>\n",
              "      <td>0.449770</td>\n",
              "      <td>0.380412</td>\n",
              "      <td>0.461905</td>\n",
              "      <td>0.519235</td>\n",
              "      <td>0.860363</td>\n",
              "    </tr>\n",
              "    <tr>\n",
              "      <th>75%</th>\n",
              "      <td>0.729207</td>\n",
              "      <td>0.621935</td>\n",
              "      <td>0.512172</td>\n",
              "      <td>0.650000</td>\n",
              "      <td>0.654467</td>\n",
              "      <td>0.945407</td>\n",
              "    </tr>\n",
              "    <tr>\n",
              "      <th>max</th>\n",
              "      <td>1.000000</td>\n",
              "      <td>1.000000</td>\n",
              "      <td>1.000000</td>\n",
              "      <td>1.000000</td>\n",
              "      <td>1.000000</td>\n",
              "      <td>1.000000</td>\n",
              "    </tr>\n",
              "  </tbody>\n",
              "</table>\n",
              "</div>"
            ],
            "text/plain": [
              "              z1         z4         z2         z3         z5         z6\n",
              "count  35.000000  35.000000  35.000000  35.000000  35.000000  35.000000\n",
              "mean    0.664574   0.465635   0.409495   0.467755   0.494289   0.809949\n",
              "std     0.174233   0.234979   0.212612   0.230894   0.232728   0.203337\n",
              "min     0.000000   0.000000   0.000000   0.000000   0.000000   0.000000\n",
              "25%     0.602556   0.271943   0.268325   0.271429   0.332606   0.777517\n",
              "50%     0.671521   0.449770   0.380412   0.461905   0.519235   0.860363\n",
              "75%     0.729207   0.621935   0.512172   0.650000   0.654467   0.945407\n",
              "max     1.000000   1.000000   1.000000   1.000000   1.000000   1.000000"
            ]
          },
          "metadata": {
            "tags": []
          },
          "execution_count": 23
        }
      ]
    },
    {
      "cell_type": "markdown",
      "metadata": {
        "id": "JKIUm6OOo4J3"
      },
      "source": [
        "Stworzymy miernik syntetyczny\n",
        "\n",
        "$$\n",
        "q_i = \\frac{\\sum_{k=1}^{K} z_{ik}}{K} \\times 100\\%\n",
        "$$\n",
        "\n",
        "Jak policzyć?\n",
        "\n",
        "+ `zbior.mean(axis = 0)` -- liczmy średnią po wierszach dla każdej kolumny (dostajemy wektor o długości równej liczbie kolumn)\n",
        "\n",
        "+ `zbior.mean(axis = 1)` -- liczmy średnią po kolumnach dla każdego wiersza (dostajemy wektor o długości równej liczbie wierszy)"
      ]
    },
    {
      "cell_type": "code",
      "metadata": {
        "id": "ku8bLkbYoUVM",
        "outputId": "949df786-6147-4004-979e-99f9affb1c8a",
        "colab": {
          "base_uri": "https://localhost:8080/",
          "height": 1000
        }
      },
      "source": [
        "powiaty[\"miernik\"] = powiaty.loc[:, 'z1':'z6'].mean(axis = 1) \n",
        "powiaty.sort_values(by = \"miernik\",   ascending=False, inplace=True)\n",
        "powiaty[[\"Powiaty\", \"miernik\"]]"
      ],
      "execution_count": 33,
      "outputs": [
        {
          "output_type": "execute_result",
          "data": {
            "text/html": [
              "<div>\n",
              "<style scoped>\n",
              "    .dataframe tbody tr th:only-of-type {\n",
              "        vertical-align: middle;\n",
              "    }\n",
              "\n",
              "    .dataframe tbody tr th {\n",
              "        vertical-align: top;\n",
              "    }\n",
              "\n",
              "    .dataframe thead th {\n",
              "        text-align: right;\n",
              "    }\n",
              "</style>\n",
              "<table border=\"1\" class=\"dataframe\">\n",
              "  <thead>\n",
              "    <tr style=\"text-align: right;\">\n",
              "      <th></th>\n",
              "      <th>Powiaty</th>\n",
              "      <th>miernik</th>\n",
              "    </tr>\n",
              "  </thead>\n",
              "  <tbody>\n",
              "    <tr>\n",
              "      <th>34</th>\n",
              "      <td>Poznań</td>\n",
              "      <td>0.867575</td>\n",
              "    </tr>\n",
              "    <tr>\n",
              "      <th>20</th>\n",
              "      <td>poznański</td>\n",
              "      <td>0.796835</td>\n",
              "    </tr>\n",
              "    <tr>\n",
              "      <th>33</th>\n",
              "      <td>Leszno</td>\n",
              "      <td>0.691035</td>\n",
              "    </tr>\n",
              "    <tr>\n",
              "      <th>31</th>\n",
              "      <td>Kalisz</td>\n",
              "      <td>0.643147</td>\n",
              "    </tr>\n",
              "    <tr>\n",
              "      <th>23</th>\n",
              "      <td>szamotulski</td>\n",
              "      <td>0.629432</td>\n",
              "    </tr>\n",
              "    <tr>\n",
              "      <th>28</th>\n",
              "      <td>wolsztyński</td>\n",
              "      <td>0.625491</td>\n",
              "    </tr>\n",
              "    <tr>\n",
              "      <th>12</th>\n",
              "      <td>leszczyński</td>\n",
              "      <td>0.625481</td>\n",
              "    </tr>\n",
              "    <tr>\n",
              "      <th>17</th>\n",
              "      <td>ostrzeszowski</td>\n",
              "      <td>0.618537</td>\n",
              "    </tr>\n",
              "    <tr>\n",
              "      <th>10</th>\n",
              "      <td>kościański</td>\n",
              "      <td>0.612419</td>\n",
              "    </tr>\n",
              "    <tr>\n",
              "      <th>24</th>\n",
              "      <td>średzki</td>\n",
              "      <td>0.601480</td>\n",
              "    </tr>\n",
              "    <tr>\n",
              "      <th>32</th>\n",
              "      <td>Konin</td>\n",
              "      <td>0.599757</td>\n",
              "    </tr>\n",
              "    <tr>\n",
              "      <th>13</th>\n",
              "      <td>międzychodzki</td>\n",
              "      <td>0.588654</td>\n",
              "    </tr>\n",
              "    <tr>\n",
              "      <th>25</th>\n",
              "      <td>śremski</td>\n",
              "      <td>0.577358</td>\n",
              "    </tr>\n",
              "    <tr>\n",
              "      <th>14</th>\n",
              "      <td>nowotomyski</td>\n",
              "      <td>0.576002</td>\n",
              "    </tr>\n",
              "    <tr>\n",
              "      <th>3</th>\n",
              "      <td>gostyński</td>\n",
              "      <td>0.568549</td>\n",
              "    </tr>\n",
              "    <tr>\n",
              "      <th>21</th>\n",
              "      <td>rawicki</td>\n",
              "      <td>0.566985</td>\n",
              "    </tr>\n",
              "    <tr>\n",
              "      <th>18</th>\n",
              "      <td>pilski</td>\n",
              "      <td>0.562546</td>\n",
              "    </tr>\n",
              "    <tr>\n",
              "      <th>4</th>\n",
              "      <td>grodziski</td>\n",
              "      <td>0.554943</td>\n",
              "    </tr>\n",
              "    <tr>\n",
              "      <th>0</th>\n",
              "      <td>chodzieski</td>\n",
              "      <td>0.536059</td>\n",
              "    </tr>\n",
              "    <tr>\n",
              "      <th>16</th>\n",
              "      <td>ostrowski</td>\n",
              "      <td>0.529157</td>\n",
              "    </tr>\n",
              "    <tr>\n",
              "      <th>7</th>\n",
              "      <td>kępiński</td>\n",
              "      <td>0.528314</td>\n",
              "    </tr>\n",
              "    <tr>\n",
              "      <th>1</th>\n",
              "      <td>czarnkowsko-trzcianecki</td>\n",
              "      <td>0.526655</td>\n",
              "    </tr>\n",
              "    <tr>\n",
              "      <th>30</th>\n",
              "      <td>złotowski</td>\n",
              "      <td>0.497160</td>\n",
              "    </tr>\n",
              "    <tr>\n",
              "      <th>11</th>\n",
              "      <td>krotoszyński</td>\n",
              "      <td>0.489971</td>\n",
              "    </tr>\n",
              "    <tr>\n",
              "      <th>2</th>\n",
              "      <td>gnieźnieński</td>\n",
              "      <td>0.486751</td>\n",
              "    </tr>\n",
              "    <tr>\n",
              "      <th>26</th>\n",
              "      <td>turecki</td>\n",
              "      <td>0.481182</td>\n",
              "    </tr>\n",
              "    <tr>\n",
              "      <th>15</th>\n",
              "      <td>obornicki</td>\n",
              "      <td>0.467892</td>\n",
              "    </tr>\n",
              "    <tr>\n",
              "      <th>29</th>\n",
              "      <td>wrzesiński</td>\n",
              "      <td>0.459157</td>\n",
              "    </tr>\n",
              "    <tr>\n",
              "      <th>27</th>\n",
              "      <td>wągrowiecki</td>\n",
              "      <td>0.447456</td>\n",
              "    </tr>\n",
              "    <tr>\n",
              "      <th>6</th>\n",
              "      <td>kaliski</td>\n",
              "      <td>0.439388</td>\n",
              "    </tr>\n",
              "    <tr>\n",
              "      <th>8</th>\n",
              "      <td>kolski</td>\n",
              "      <td>0.437525</td>\n",
              "    </tr>\n",
              "    <tr>\n",
              "      <th>19</th>\n",
              "      <td>pleszewski</td>\n",
              "      <td>0.435867</td>\n",
              "    </tr>\n",
              "    <tr>\n",
              "      <th>22</th>\n",
              "      <td>słupecki</td>\n",
              "      <td>0.429735</td>\n",
              "    </tr>\n",
              "    <tr>\n",
              "      <th>9</th>\n",
              "      <td>koniński</td>\n",
              "      <td>0.420625</td>\n",
              "    </tr>\n",
              "    <tr>\n",
              "      <th>5</th>\n",
              "      <td>jarociński</td>\n",
              "      <td>0.399115</td>\n",
              "    </tr>\n",
              "  </tbody>\n",
              "</table>\n",
              "</div>"
            ],
            "text/plain": [
              "                    Powiaty   miernik\n",
              "34                   Poznań  0.867575\n",
              "20                poznański  0.796835\n",
              "33                   Leszno  0.691035\n",
              "31                   Kalisz  0.643147\n",
              "23              szamotulski  0.629432\n",
              "28              wolsztyński  0.625491\n",
              "12              leszczyński  0.625481\n",
              "17            ostrzeszowski  0.618537\n",
              "10               kościański  0.612419\n",
              "24                  średzki  0.601480\n",
              "32                    Konin  0.599757\n",
              "13            międzychodzki  0.588654\n",
              "25                  śremski  0.577358\n",
              "14              nowotomyski  0.576002\n",
              "3                 gostyński  0.568549\n",
              "21                  rawicki  0.566985\n",
              "18                   pilski  0.562546\n",
              "4                 grodziski  0.554943\n",
              "0                chodzieski  0.536059\n",
              "16                ostrowski  0.529157\n",
              "7                  kępiński  0.528314\n",
              "1   czarnkowsko-trzcianecki  0.526655\n",
              "30                złotowski  0.497160\n",
              "11             krotoszyński  0.489971\n",
              "2              gnieźnieński  0.486751\n",
              "26                  turecki  0.481182\n",
              "15                obornicki  0.467892\n",
              "29               wrzesiński  0.459157\n",
              "27              wągrowiecki  0.447456\n",
              "6                   kaliski  0.439388\n",
              "8                    kolski  0.437525\n",
              "19               pleszewski  0.435867\n",
              "22                 słupecki  0.429735\n",
              "9                  koniński  0.420625\n",
              "5                jarociński  0.399115"
            ]
          },
          "metadata": {
            "tags": []
          },
          "execution_count": 33
        }
      ]
    },
    {
      "cell_type": "markdown",
      "metadata": {
        "id": "iZ7dB1Ztquw0"
      },
      "source": [
        "Jednym ze sposobów weryfikacji jest badanie korelacji z zmiennymi użytymi w analizie (tymi X, a nie Z)\n"
      ]
    },
    {
      "cell_type": "code",
      "metadata": {
        "id": "TAFt-kJVq2Ak",
        "outputId": "ee2f7f3f-38d9-4ae5-be82-ba83886a6cd1",
        "colab": {
          "base_uri": "https://localhost:8080/"
        }
      },
      "source": [
        "np.corrcoef(powiaty[\"miernik\"], powiaty[\"X1_s\"])\n",
        "np.corrcoef(powiaty[\"miernik\"], powiaty[\"X2_s\"])"
      ],
      "execution_count": 39,
      "outputs": [
        {
          "output_type": "execute_result",
          "data": {
            "text/plain": [
              "array([[1.        , 0.34950736],\n",
              "       [0.34950736, 1.        ]])"
            ]
          },
          "metadata": {
            "tags": []
          },
          "execution_count": 39
        }
      ]
    }
  ]
}
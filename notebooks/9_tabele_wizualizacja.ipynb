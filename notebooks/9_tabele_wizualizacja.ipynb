{
  "nbformat": 4,
  "nbformat_minor": 0,
  "metadata": {
    "colab": {
      "name": "9-tabele-wizualizacja.ipynb",
      "provenance": [],
      "collapsed_sections": []
    },
    "kernelspec": {
      "name": "python3",
      "display_name": "Python 3"
    }
  },
  "cells": [
    {
      "cell_type": "code",
      "metadata": {
        "id": "w5Le33qKyb7_"
      },
      "source": [
        "import pandas as pd\n",
        "import numpy as np\n",
        "import seaborn as sns"
      ],
      "execution_count": 2,
      "outputs": []
    },
    {
      "cell_type": "code",
      "metadata": {
        "colab": {
          "base_uri": "https://localhost:8080/",
          "height": 198
        },
        "id": "vBqc0dZl1kON",
        "outputId": "460d0e63-0f0c-4737-95ad-a29791dce568"
      },
      "source": [
        "gosp = pd.read_excel(\"gospodarstwa.xlsx\").dropna()\n",
        "gosp = gosp.loc[gosp.dochg >0]\n",
        "gosp.head()"
      ],
      "execution_count": 4,
      "outputs": [
        {
          "output_type": "execute_result",
          "data": {
            "text/html": [
              "<div>\n",
              "<style scoped>\n",
              "    .dataframe tbody tr th:only-of-type {\n",
              "        vertical-align: middle;\n",
              "    }\n",
              "\n",
              "    .dataframe tbody tr th {\n",
              "        vertical-align: top;\n",
              "    }\n",
              "\n",
              "    .dataframe thead th {\n",
              "        text-align: right;\n",
              "    }\n",
              "</style>\n",
              "<table border=\"1\" class=\"dataframe\">\n",
              "  <thead>\n",
              "    <tr style=\"text-align: right;\">\n",
              "      <th></th>\n",
              "      <th>klm</th>\n",
              "      <th>woj</th>\n",
              "      <th>trb</th>\n",
              "      <th>zut</th>\n",
              "      <th>d21</th>\n",
              "      <th>d32</th>\n",
              "      <th>d345</th>\n",
              "      <th>d347</th>\n",
              "      <th>d348</th>\n",
              "      <th>d36</th>\n",
              "      <th>d38</th>\n",
              "      <th>d61</th>\n",
              "      <th>d63</th>\n",
              "      <th>los</th>\n",
              "      <th>dochg</th>\n",
              "      <th>wydg</th>\n",
              "    </tr>\n",
              "  </thead>\n",
              "  <tbody>\n",
              "    <tr>\n",
              "      <th>0</th>\n",
              "      <td>1</td>\n",
              "      <td>2</td>\n",
              "      <td>11</td>\n",
              "      <td>5</td>\n",
              "      <td>2</td>\n",
              "      <td>1</td>\n",
              "      <td>1</td>\n",
              "      <td>2</td>\n",
              "      <td>1</td>\n",
              "      <td>69</td>\n",
              "      <td>2</td>\n",
              "      <td>3</td>\n",
              "      <td>3</td>\n",
              "      <td>1.0</td>\n",
              "      <td>1191.41</td>\n",
              "      <td>1037.29</td>\n",
              "    </tr>\n",
              "    <tr>\n",
              "      <th>1</th>\n",
              "      <td>1</td>\n",
              "      <td>2</td>\n",
              "      <td>6</td>\n",
              "      <td>1</td>\n",
              "      <td>2</td>\n",
              "      <td>1</td>\n",
              "      <td>2</td>\n",
              "      <td>2</td>\n",
              "      <td>1</td>\n",
              "      <td>74</td>\n",
              "      <td>3</td>\n",
              "      <td>4</td>\n",
              "      <td>2</td>\n",
              "      <td>2.0</td>\n",
              "      <td>821.00</td>\n",
              "      <td>887.01</td>\n",
              "    </tr>\n",
              "    <tr>\n",
              "      <th>2</th>\n",
              "      <td>1</td>\n",
              "      <td>2</td>\n",
              "      <td>3</td>\n",
              "      <td>1</td>\n",
              "      <td>1</td>\n",
              "      <td>3</td>\n",
              "      <td>1</td>\n",
              "      <td>2</td>\n",
              "      <td>1</td>\n",
              "      <td>83</td>\n",
              "      <td>3</td>\n",
              "      <td>4</td>\n",
              "      <td>1</td>\n",
              "      <td>4.0</td>\n",
              "      <td>6669.87</td>\n",
              "      <td>6792.13</td>\n",
              "    </tr>\n",
              "    <tr>\n",
              "      <th>3</th>\n",
              "      <td>1</td>\n",
              "      <td>2</td>\n",
              "      <td>12</td>\n",
              "      <td>5</td>\n",
              "      <td>2</td>\n",
              "      <td>1</td>\n",
              "      <td>3</td>\n",
              "      <td>3</td>\n",
              "      <td>2</td>\n",
              "      <td>44</td>\n",
              "      <td>2</td>\n",
              "      <td>4</td>\n",
              "      <td>1</td>\n",
              "      <td>3.0</td>\n",
              "      <td>1872.59</td>\n",
              "      <td>1806.83</td>\n",
              "    </tr>\n",
              "    <tr>\n",
              "      <th>4</th>\n",
              "      <td>1</td>\n",
              "      <td>2</td>\n",
              "      <td>1</td>\n",
              "      <td>5</td>\n",
              "      <td>1</td>\n",
              "      <td>3</td>\n",
              "      <td>1</td>\n",
              "      <td>2</td>\n",
              "      <td>1</td>\n",
              "      <td>110</td>\n",
              "      <td>5</td>\n",
              "      <td>4</td>\n",
              "      <td>2</td>\n",
              "      <td>2.0</td>\n",
              "      <td>1731.44</td>\n",
              "      <td>2795.08</td>\n",
              "    </tr>\n",
              "  </tbody>\n",
              "</table>\n",
              "</div>"
            ],
            "text/plain": [
              "   klm  woj  trb  zut  d21  d32  ...  d38  d61  d63  los    dochg     wydg\n",
              "0    1    2   11    5    2    1  ...    2    3    3  1.0  1191.41  1037.29\n",
              "1    1    2    6    1    2    1  ...    3    4    2  2.0   821.00   887.01\n",
              "2    1    2    3    1    1    3  ...    3    4    1  4.0  6669.87  6792.13\n",
              "3    1    2   12    5    2    1  ...    2    4    1  3.0  1872.59  1806.83\n",
              "4    1    2    1    5    1    3  ...    5    4    2  2.0  1731.44  2795.08\n",
              "\n",
              "[5 rows x 16 columns]"
            ]
          },
          "metadata": {
            "tags": []
          },
          "execution_count": 4
        }
      ]
    },
    {
      "cell_type": "markdown",
      "metadata": {
        "id": "a3Dv3ZDi8bSJ"
      },
      "source": [
        "# Tabele przestawne z `pd.pivot_table`"
      ]
    },
    {
      "cell_type": "markdown",
      "metadata": {
        "id": "PZwvlk-R19Mj"
      },
      "source": [
        "Zaczniemy od tabel przestawnych w pandas. Do tego służy funkcja `pivot_table`, która ma następujace argumenty:\n",
        "\n",
        "  + `data` -- zbiór danych (ramka danych)\n",
        "  + `values` -- podajemy jaką zmienną agregujemy\n",
        "  + `index` -- według jakiej zmiennej agregujemy\n",
        "  + `aggfunc` -- funkcja, którą wykorzystujemy do agregacji"
      ]
    },
    {
      "cell_type": "code",
      "metadata": {
        "colab": {
          "base_uri": "https://localhost:8080/",
          "height": 258
        },
        "id": "a-5MJxFE2Wtn",
        "outputId": "9051622d-652e-4578-cf68-d6b2675712db"
      },
      "source": [
        "pd.pivot_table(data = gosp, values = \"dochg\", index = \"klm\", aggfunc = \"mean\")"
      ],
      "execution_count": 5,
      "outputs": [
        {
          "output_type": "execute_result",
          "data": {
            "text/html": [
              "<div>\n",
              "<style scoped>\n",
              "    .dataframe tbody tr th:only-of-type {\n",
              "        vertical-align: middle;\n",
              "    }\n",
              "\n",
              "    .dataframe tbody tr th {\n",
              "        vertical-align: top;\n",
              "    }\n",
              "\n",
              "    .dataframe thead th {\n",
              "        text-align: right;\n",
              "    }\n",
              "</style>\n",
              "<table border=\"1\" class=\"dataframe\">\n",
              "  <thead>\n",
              "    <tr style=\"text-align: right;\">\n",
              "      <th></th>\n",
              "      <th>dochg</th>\n",
              "    </tr>\n",
              "    <tr>\n",
              "      <th>klm</th>\n",
              "      <th></th>\n",
              "    </tr>\n",
              "  </thead>\n",
              "  <tbody>\n",
              "    <tr>\n",
              "      <th>1</th>\n",
              "      <td>2717.274306</td>\n",
              "    </tr>\n",
              "    <tr>\n",
              "      <th>2</th>\n",
              "      <td>2278.732023</td>\n",
              "    </tr>\n",
              "    <tr>\n",
              "      <th>3</th>\n",
              "      <td>2098.115417</td>\n",
              "    </tr>\n",
              "    <tr>\n",
              "      <th>4</th>\n",
              "      <td>2104.753672</td>\n",
              "    </tr>\n",
              "    <tr>\n",
              "      <th>5</th>\n",
              "      <td>2026.121005</td>\n",
              "    </tr>\n",
              "    <tr>\n",
              "      <th>6</th>\n",
              "      <td>1932.435334</td>\n",
              "    </tr>\n",
              "  </tbody>\n",
              "</table>\n",
              "</div>"
            ],
            "text/plain": [
              "           dochg\n",
              "klm             \n",
              "1    2717.274306\n",
              "2    2278.732023\n",
              "3    2098.115417\n",
              "4    2104.753672\n",
              "5    2026.121005\n",
              "6    1932.435334"
            ]
          },
          "metadata": {
            "tags": []
          },
          "execution_count": 5
        }
      ]
    },
    {
      "cell_type": "code",
      "metadata": {
        "colab": {
          "base_uri": "https://localhost:8080/",
          "height": 258
        },
        "id": "FKcoG4N226SQ",
        "outputId": "a6d90374-ca93-4ff4-8a91-b87cfe7f60af"
      },
      "source": [
        "gosp.pivot_table(values = \"dochg\", index = \"klm\", aggfunc = \"mean\")"
      ],
      "execution_count": 6,
      "outputs": [
        {
          "output_type": "execute_result",
          "data": {
            "text/html": [
              "<div>\n",
              "<style scoped>\n",
              "    .dataframe tbody tr th:only-of-type {\n",
              "        vertical-align: middle;\n",
              "    }\n",
              "\n",
              "    .dataframe tbody tr th {\n",
              "        vertical-align: top;\n",
              "    }\n",
              "\n",
              "    .dataframe thead th {\n",
              "        text-align: right;\n",
              "    }\n",
              "</style>\n",
              "<table border=\"1\" class=\"dataframe\">\n",
              "  <thead>\n",
              "    <tr style=\"text-align: right;\">\n",
              "      <th></th>\n",
              "      <th>dochg</th>\n",
              "    </tr>\n",
              "    <tr>\n",
              "      <th>klm</th>\n",
              "      <th></th>\n",
              "    </tr>\n",
              "  </thead>\n",
              "  <tbody>\n",
              "    <tr>\n",
              "      <th>1</th>\n",
              "      <td>2717.274306</td>\n",
              "    </tr>\n",
              "    <tr>\n",
              "      <th>2</th>\n",
              "      <td>2278.732023</td>\n",
              "    </tr>\n",
              "    <tr>\n",
              "      <th>3</th>\n",
              "      <td>2098.115417</td>\n",
              "    </tr>\n",
              "    <tr>\n",
              "      <th>4</th>\n",
              "      <td>2104.753672</td>\n",
              "    </tr>\n",
              "    <tr>\n",
              "      <th>5</th>\n",
              "      <td>2026.121005</td>\n",
              "    </tr>\n",
              "    <tr>\n",
              "      <th>6</th>\n",
              "      <td>1932.435334</td>\n",
              "    </tr>\n",
              "  </tbody>\n",
              "</table>\n",
              "</div>"
            ],
            "text/plain": [
              "           dochg\n",
              "klm             \n",
              "1    2717.274306\n",
              "2    2278.732023\n",
              "3    2098.115417\n",
              "4    2104.753672\n",
              "5    2026.121005\n",
              "6    1932.435334"
            ]
          },
          "metadata": {
            "tags": []
          },
          "execution_count": 6
        }
      ]
    },
    {
      "cell_type": "code",
      "metadata": {
        "colab": {
          "base_uri": "https://localhost:8080/",
          "height": 558
        },
        "id": "BpKSMsFp3GKj",
        "outputId": "e67280ff-acaa-4bca-d9f6-f49517178465"
      },
      "source": [
        "gosp.pivot_table(values = 'dochg', index = 'woj', columns = 'klm', aggfunc = \"count\")"
      ],
      "execution_count": 8,
      "outputs": [
        {
          "output_type": "execute_result",
          "data": {
            "text/html": [
              "<div>\n",
              "<style scoped>\n",
              "    .dataframe tbody tr th:only-of-type {\n",
              "        vertical-align: middle;\n",
              "    }\n",
              "\n",
              "    .dataframe tbody tr th {\n",
              "        vertical-align: top;\n",
              "    }\n",
              "\n",
              "    .dataframe thead th {\n",
              "        text-align: right;\n",
              "    }\n",
              "</style>\n",
              "<table border=\"1\" class=\"dataframe\">\n",
              "  <thead>\n",
              "    <tr style=\"text-align: right;\">\n",
              "      <th>klm</th>\n",
              "      <th>1</th>\n",
              "      <th>2</th>\n",
              "      <th>3</th>\n",
              "      <th>4</th>\n",
              "      <th>5</th>\n",
              "      <th>6</th>\n",
              "    </tr>\n",
              "    <tr>\n",
              "      <th>woj</th>\n",
              "      <th></th>\n",
              "      <th></th>\n",
              "      <th></th>\n",
              "      <th></th>\n",
              "      <th></th>\n",
              "      <th></th>\n",
              "    </tr>\n",
              "  </thead>\n",
              "  <tbody>\n",
              "    <tr>\n",
              "      <th>2</th>\n",
              "      <td>639.0</td>\n",
              "      <td>NaN</td>\n",
              "      <td>241.0</td>\n",
              "      <td>684.0</td>\n",
              "      <td>407.0</td>\n",
              "      <td>691.0</td>\n",
              "    </tr>\n",
              "    <tr>\n",
              "      <th>4</th>\n",
              "      <td>NaN</td>\n",
              "      <td>480.0</td>\n",
              "      <td>266.0</td>\n",
              "      <td>95.0</td>\n",
              "      <td>355.0</td>\n",
              "      <td>541.0</td>\n",
              "    </tr>\n",
              "    <tr>\n",
              "      <th>6</th>\n",
              "      <td>NaN</td>\n",
              "      <td>335.0</td>\n",
              "      <td>NaN</td>\n",
              "      <td>388.0</td>\n",
              "      <td>200.0</td>\n",
              "      <td>887.0</td>\n",
              "    </tr>\n",
              "    <tr>\n",
              "      <th>8</th>\n",
              "      <td>NaN</td>\n",
              "      <td>NaN</td>\n",
              "      <td>240.0</td>\n",
              "      <td>146.0</td>\n",
              "      <td>195.0</td>\n",
              "      <td>242.0</td>\n",
              "    </tr>\n",
              "    <tr>\n",
              "      <th>10</th>\n",
              "      <td>883.0</td>\n",
              "      <td>NaN</td>\n",
              "      <td>NaN</td>\n",
              "      <td>647.0</td>\n",
              "      <td>215.0</td>\n",
              "      <td>717.0</td>\n",
              "    </tr>\n",
              "    <tr>\n",
              "      <th>12</th>\n",
              "      <td>747.0</td>\n",
              "      <td>NaN</td>\n",
              "      <td>95.0</td>\n",
              "      <td>333.0</td>\n",
              "      <td>286.0</td>\n",
              "      <td>1077.0</td>\n",
              "    </tr>\n",
              "    <tr>\n",
              "      <th>14</th>\n",
              "      <td>1739.0</td>\n",
              "      <td>242.0</td>\n",
              "      <td>73.0</td>\n",
              "      <td>661.0</td>\n",
              "      <td>452.0</td>\n",
              "      <td>1310.0</td>\n",
              "    </tr>\n",
              "    <tr>\n",
              "      <th>16</th>\n",
              "      <td>NaN</td>\n",
              "      <td>NaN</td>\n",
              "      <td>168.0</td>\n",
              "      <td>192.0</td>\n",
              "      <td>167.0</td>\n",
              "      <td>376.0</td>\n",
              "    </tr>\n",
              "    <tr>\n",
              "      <th>18</th>\n",
              "      <td>NaN</td>\n",
              "      <td>NaN</td>\n",
              "      <td>142.0</td>\n",
              "      <td>385.0</td>\n",
              "      <td>192.0</td>\n",
              "      <td>806.0</td>\n",
              "    </tr>\n",
              "    <tr>\n",
              "      <th>20</th>\n",
              "      <td>NaN</td>\n",
              "      <td>291.0</td>\n",
              "      <td>NaN</td>\n",
              "      <td>191.0</td>\n",
              "      <td>144.0</td>\n",
              "      <td>398.0</td>\n",
              "    </tr>\n",
              "    <tr>\n",
              "      <th>22</th>\n",
              "      <td>NaN</td>\n",
              "      <td>700.0</td>\n",
              "      <td>95.0</td>\n",
              "      <td>282.0</td>\n",
              "      <td>268.0</td>\n",
              "      <td>436.0</td>\n",
              "    </tr>\n",
              "    <tr>\n",
              "      <th>24</th>\n",
              "      <td>NaN</td>\n",
              "      <td>1102.0</td>\n",
              "      <td>1141.0</td>\n",
              "      <td>942.0</td>\n",
              "      <td>290.0</td>\n",
              "      <td>765.0</td>\n",
              "    </tr>\n",
              "    <tr>\n",
              "      <th>26</th>\n",
              "      <td>NaN</td>\n",
              "      <td>192.0</td>\n",
              "      <td>NaN</td>\n",
              "      <td>237.0</td>\n",
              "      <td>96.0</td>\n",
              "      <td>506.0</td>\n",
              "    </tr>\n",
              "    <tr>\n",
              "      <th>28</th>\n",
              "      <td>NaN</td>\n",
              "      <td>NaN</td>\n",
              "      <td>297.0</td>\n",
              "      <td>241.0</td>\n",
              "      <td>239.0</td>\n",
              "      <td>402.0</td>\n",
              "    </tr>\n",
              "    <tr>\n",
              "      <th>30</th>\n",
              "      <td>551.0</td>\n",
              "      <td>NaN</td>\n",
              "      <td>96.0</td>\n",
              "      <td>600.0</td>\n",
              "      <td>428.0</td>\n",
              "      <td>979.0</td>\n",
              "    </tr>\n",
              "    <tr>\n",
              "      <th>32</th>\n",
              "      <td>NaN</td>\n",
              "      <td>390.0</td>\n",
              "      <td>96.0</td>\n",
              "      <td>284.0</td>\n",
              "      <td>293.0</td>\n",
              "      <td>382.0</td>\n",
              "    </tr>\n",
              "  </tbody>\n",
              "</table>\n",
              "</div>"
            ],
            "text/plain": [
              "klm       1       2       3      4      5       6\n",
              "woj                                              \n",
              "2     639.0     NaN   241.0  684.0  407.0   691.0\n",
              "4       NaN   480.0   266.0   95.0  355.0   541.0\n",
              "6       NaN   335.0     NaN  388.0  200.0   887.0\n",
              "8       NaN     NaN   240.0  146.0  195.0   242.0\n",
              "10    883.0     NaN     NaN  647.0  215.0   717.0\n",
              "12    747.0     NaN    95.0  333.0  286.0  1077.0\n",
              "14   1739.0   242.0    73.0  661.0  452.0  1310.0\n",
              "16      NaN     NaN   168.0  192.0  167.0   376.0\n",
              "18      NaN     NaN   142.0  385.0  192.0   806.0\n",
              "20      NaN   291.0     NaN  191.0  144.0   398.0\n",
              "22      NaN   700.0    95.0  282.0  268.0   436.0\n",
              "24      NaN  1102.0  1141.0  942.0  290.0   765.0\n",
              "26      NaN   192.0     NaN  237.0   96.0   506.0\n",
              "28      NaN     NaN   297.0  241.0  239.0   402.0\n",
              "30    551.0     NaN    96.0  600.0  428.0   979.0\n",
              "32      NaN   390.0    96.0  284.0  293.0   382.0"
            ]
          },
          "metadata": {
            "tags": []
          },
          "execution_count": 8
        }
      ]
    },
    {
      "cell_type": "code",
      "metadata": {
        "colab": {
          "base_uri": "https://localhost:8080/",
          "height": 258
        },
        "id": "t9KjgEHC3yC5",
        "outputId": "a447a4e8-1e8c-40fc-a437-5be6103bfe93"
      },
      "source": [
        "gosp.pivot_table(values = [\"dochg\", \"wydg\"], index = \"klm\", aggfunc = np.mean)"
      ],
      "execution_count": 10,
      "outputs": [
        {
          "output_type": "execute_result",
          "data": {
            "text/html": [
              "<div>\n",
              "<style scoped>\n",
              "    .dataframe tbody tr th:only-of-type {\n",
              "        vertical-align: middle;\n",
              "    }\n",
              "\n",
              "    .dataframe tbody tr th {\n",
              "        vertical-align: top;\n",
              "    }\n",
              "\n",
              "    .dataframe thead th {\n",
              "        text-align: right;\n",
              "    }\n",
              "</style>\n",
              "<table border=\"1\" class=\"dataframe\">\n",
              "  <thead>\n",
              "    <tr style=\"text-align: right;\">\n",
              "      <th></th>\n",
              "      <th>dochg</th>\n",
              "      <th>wydg</th>\n",
              "    </tr>\n",
              "    <tr>\n",
              "      <th>klm</th>\n",
              "      <th></th>\n",
              "      <th></th>\n",
              "    </tr>\n",
              "  </thead>\n",
              "  <tbody>\n",
              "    <tr>\n",
              "      <th>1</th>\n",
              "      <td>2717.274306</td>\n",
              "      <td>2527.413060</td>\n",
              "    </tr>\n",
              "    <tr>\n",
              "      <th>2</th>\n",
              "      <td>2278.732023</td>\n",
              "      <td>2142.426147</td>\n",
              "    </tr>\n",
              "    <tr>\n",
              "      <th>3</th>\n",
              "      <td>2098.115417</td>\n",
              "      <td>1996.723736</td>\n",
              "    </tr>\n",
              "    <tr>\n",
              "      <th>4</th>\n",
              "      <td>2104.753672</td>\n",
              "      <td>1988.971737</td>\n",
              "    </tr>\n",
              "    <tr>\n",
              "      <th>5</th>\n",
              "      <td>2026.121005</td>\n",
              "      <td>1906.742404</td>\n",
              "    </tr>\n",
              "    <tr>\n",
              "      <th>6</th>\n",
              "      <td>1932.435334</td>\n",
              "      <td>1802.402206</td>\n",
              "    </tr>\n",
              "  </tbody>\n",
              "</table>\n",
              "</div>"
            ],
            "text/plain": [
              "           dochg         wydg\n",
              "klm                          \n",
              "1    2717.274306  2527.413060\n",
              "2    2278.732023  2142.426147\n",
              "3    2098.115417  1996.723736\n",
              "4    2104.753672  1988.971737\n",
              "5    2026.121005  1906.742404\n",
              "6    1932.435334  1802.402206"
            ]
          },
          "metadata": {
            "tags": []
          },
          "execution_count": 10
        }
      ]
    },
    {
      "cell_type": "code",
      "metadata": {
        "colab": {
          "base_uri": "https://localhost:8080/",
          "height": 258
        },
        "id": "sTJDSK1S4JHH",
        "outputId": "42a9fb3e-4f32-482e-ae54-34fd7661f368"
      },
      "source": [
        "gosp.pivot_table(values = [\"dochg\", \"wydg\"], index = \"klm\", aggfunc = lambda x: sum(x > 10000))"
      ],
      "execution_count": 15,
      "outputs": [
        {
          "output_type": "execute_result",
          "data": {
            "text/html": [
              "<div>\n",
              "<style scoped>\n",
              "    .dataframe tbody tr th:only-of-type {\n",
              "        vertical-align: middle;\n",
              "    }\n",
              "\n",
              "    .dataframe tbody tr th {\n",
              "        vertical-align: top;\n",
              "    }\n",
              "\n",
              "    .dataframe thead th {\n",
              "        text-align: right;\n",
              "    }\n",
              "</style>\n",
              "<table border=\"1\" class=\"dataframe\">\n",
              "  <thead>\n",
              "    <tr style=\"text-align: right;\">\n",
              "      <th></th>\n",
              "      <th>dochg</th>\n",
              "      <th>wydg</th>\n",
              "    </tr>\n",
              "    <tr>\n",
              "      <th>klm</th>\n",
              "      <th></th>\n",
              "      <th></th>\n",
              "    </tr>\n",
              "  </thead>\n",
              "  <tbody>\n",
              "    <tr>\n",
              "      <th>1</th>\n",
              "      <td>55.0</td>\n",
              "      <td>45.0</td>\n",
              "    </tr>\n",
              "    <tr>\n",
              "      <th>2</th>\n",
              "      <td>11.0</td>\n",
              "      <td>16.0</td>\n",
              "    </tr>\n",
              "    <tr>\n",
              "      <th>3</th>\n",
              "      <td>2.0</td>\n",
              "      <td>18.0</td>\n",
              "    </tr>\n",
              "    <tr>\n",
              "      <th>4</th>\n",
              "      <td>11.0</td>\n",
              "      <td>28.0</td>\n",
              "    </tr>\n",
              "    <tr>\n",
              "      <th>5</th>\n",
              "      <td>10.0</td>\n",
              "      <td>17.0</td>\n",
              "    </tr>\n",
              "    <tr>\n",
              "      <th>6</th>\n",
              "      <td>33.0</td>\n",
              "      <td>20.0</td>\n",
              "    </tr>\n",
              "  </tbody>\n",
              "</table>\n",
              "</div>"
            ],
            "text/plain": [
              "     dochg  wydg\n",
              "klm             \n",
              "1     55.0  45.0\n",
              "2     11.0  16.0\n",
              "3      2.0  18.0\n",
              "4     11.0  28.0\n",
              "5     10.0  17.0\n",
              "6     33.0  20.0"
            ]
          },
          "metadata": {
            "tags": []
          },
          "execution_count": 15
        }
      ]
    },
    {
      "cell_type": "code",
      "metadata": {
        "colab": {
          "base_uri": "https://localhost:8080/",
          "height": 258
        },
        "id": "RO1ii6Pb4iTD",
        "outputId": "037a992e-f085-48b4-c50e-19672d5727a7"
      },
      "source": [
        "gosp.pivot_table(values = [\"dochg\", \"wydg\"], index = \"klm\", aggfunc = lambda x: np.mean(x)/np.median(x))"
      ],
      "execution_count": 16,
      "outputs": [
        {
          "output_type": "execute_result",
          "data": {
            "text/html": [
              "<div>\n",
              "<style scoped>\n",
              "    .dataframe tbody tr th:only-of-type {\n",
              "        vertical-align: middle;\n",
              "    }\n",
              "\n",
              "    .dataframe tbody tr th {\n",
              "        vertical-align: top;\n",
              "    }\n",
              "\n",
              "    .dataframe thead th {\n",
              "        text-align: right;\n",
              "    }\n",
              "</style>\n",
              "<table border=\"1\" class=\"dataframe\">\n",
              "  <thead>\n",
              "    <tr style=\"text-align: right;\">\n",
              "      <th></th>\n",
              "      <th>dochg</th>\n",
              "      <th>wydg</th>\n",
              "    </tr>\n",
              "    <tr>\n",
              "      <th>klm</th>\n",
              "      <th></th>\n",
              "      <th></th>\n",
              "    </tr>\n",
              "  </thead>\n",
              "  <tbody>\n",
              "    <tr>\n",
              "      <th>1</th>\n",
              "      <td>1.234996</td>\n",
              "      <td>1.248598</td>\n",
              "    </tr>\n",
              "    <tr>\n",
              "      <th>2</th>\n",
              "      <td>1.151861</td>\n",
              "      <td>1.180374</td>\n",
              "    </tr>\n",
              "    <tr>\n",
              "      <th>3</th>\n",
              "      <td>1.127249</td>\n",
              "      <td>1.183935</td>\n",
              "    </tr>\n",
              "    <tr>\n",
              "      <th>4</th>\n",
              "      <td>1.137705</td>\n",
              "      <td>1.181735</td>\n",
              "    </tr>\n",
              "    <tr>\n",
              "      <th>5</th>\n",
              "      <td>1.158512</td>\n",
              "      <td>1.186501</td>\n",
              "    </tr>\n",
              "    <tr>\n",
              "      <th>6</th>\n",
              "      <td>1.187277</td>\n",
              "      <td>1.185409</td>\n",
              "    </tr>\n",
              "  </tbody>\n",
              "</table>\n",
              "</div>"
            ],
            "text/plain": [
              "        dochg      wydg\n",
              "klm                    \n",
              "1    1.234996  1.248598\n",
              "2    1.151861  1.180374\n",
              "3    1.127249  1.183935\n",
              "4    1.137705  1.181735\n",
              "5    1.158512  1.186501\n",
              "6    1.187277  1.185409"
            ]
          },
          "metadata": {
            "tags": []
          },
          "execution_count": 16
        }
      ]
    },
    {
      "cell_type": "code",
      "metadata": {
        "colab": {
          "base_uri": "https://localhost:8080/",
          "height": 1000
        },
        "id": "cTzN0igv4434",
        "outputId": "0bb25afe-631f-46cb-e1ab-33ee217f7ec7"
      },
      "source": [
        "gosp.pivot_table(values = 'dochg', \n",
        "                 index = [\"klm\", \"d347\"], \n",
        "                 aggfunc = [np.mean, np.median])"
      ],
      "execution_count": 19,
      "outputs": [
        {
          "output_type": "execute_result",
          "data": {
            "text/html": [
              "<div>\n",
              "<style scoped>\n",
              "    .dataframe tbody tr th:only-of-type {\n",
              "        vertical-align: middle;\n",
              "    }\n",
              "\n",
              "    .dataframe tbody tr th {\n",
              "        vertical-align: top;\n",
              "    }\n",
              "\n",
              "    .dataframe thead tr th {\n",
              "        text-align: left;\n",
              "    }\n",
              "\n",
              "    .dataframe thead tr:last-of-type th {\n",
              "        text-align: right;\n",
              "    }\n",
              "</style>\n",
              "<table border=\"1\" class=\"dataframe\">\n",
              "  <thead>\n",
              "    <tr>\n",
              "      <th></th>\n",
              "      <th></th>\n",
              "      <th>mean</th>\n",
              "      <th>median</th>\n",
              "    </tr>\n",
              "    <tr>\n",
              "      <th></th>\n",
              "      <th></th>\n",
              "      <th>dochg</th>\n",
              "      <th>dochg</th>\n",
              "    </tr>\n",
              "    <tr>\n",
              "      <th>klm</th>\n",
              "      <th>d347</th>\n",
              "      <th></th>\n",
              "      <th></th>\n",
              "    </tr>\n",
              "  </thead>\n",
              "  <tbody>\n",
              "    <tr>\n",
              "      <th rowspan=\"5\" valign=\"top\">1</th>\n",
              "      <th>1</th>\n",
              "      <td>2787.887148</td>\n",
              "      <td>2300.000</td>\n",
              "    </tr>\n",
              "    <tr>\n",
              "      <th>2</th>\n",
              "      <td>2870.089670</td>\n",
              "      <td>2311.000</td>\n",
              "    </tr>\n",
              "    <tr>\n",
              "      <th>3</th>\n",
              "      <td>1613.160072</td>\n",
              "      <td>1311.220</td>\n",
              "    </tr>\n",
              "    <tr>\n",
              "      <th>4</th>\n",
              "      <td>2753.901900</td>\n",
              "      <td>2017.700</td>\n",
              "    </tr>\n",
              "    <tr>\n",
              "      <th>5</th>\n",
              "      <td>1076.751818</td>\n",
              "      <td>1044.500</td>\n",
              "    </tr>\n",
              "    <tr>\n",
              "      <th rowspan=\"5\" valign=\"top\">2</th>\n",
              "      <th>1</th>\n",
              "      <td>2396.283861</td>\n",
              "      <td>2086.650</td>\n",
              "    </tr>\n",
              "    <tr>\n",
              "      <th>2</th>\n",
              "      <td>2298.718789</td>\n",
              "      <td>1974.650</td>\n",
              "    </tr>\n",
              "    <tr>\n",
              "      <th>3</th>\n",
              "      <td>1574.002969</td>\n",
              "      <td>1404.650</td>\n",
              "    </tr>\n",
              "    <tr>\n",
              "      <th>4</th>\n",
              "      <td>2285.931382</td>\n",
              "      <td>2000.000</td>\n",
              "    </tr>\n",
              "    <tr>\n",
              "      <th>5</th>\n",
              "      <td>1416.370833</td>\n",
              "      <td>837.730</td>\n",
              "    </tr>\n",
              "    <tr>\n",
              "      <th rowspan=\"5\" valign=\"top\">3</th>\n",
              "      <th>1</th>\n",
              "      <td>2217.522893</td>\n",
              "      <td>1987.810</td>\n",
              "    </tr>\n",
              "    <tr>\n",
              "      <th>2</th>\n",
              "      <td>2246.584228</td>\n",
              "      <td>1980.500</td>\n",
              "    </tr>\n",
              "    <tr>\n",
              "      <th>3</th>\n",
              "      <td>1355.470977</td>\n",
              "      <td>1198.320</td>\n",
              "    </tr>\n",
              "    <tr>\n",
              "      <th>4</th>\n",
              "      <td>2319.930500</td>\n",
              "      <td>2000.000</td>\n",
              "    </tr>\n",
              "    <tr>\n",
              "      <th>5</th>\n",
              "      <td>1055.100000</td>\n",
              "      <td>1055.100</td>\n",
              "    </tr>\n",
              "    <tr>\n",
              "      <th rowspan=\"5\" valign=\"top\">4</th>\n",
              "      <th>1</th>\n",
              "      <td>2205.732575</td>\n",
              "      <td>1947.280</td>\n",
              "    </tr>\n",
              "    <tr>\n",
              "      <th>2</th>\n",
              "      <td>2294.275993</td>\n",
              "      <td>2000.970</td>\n",
              "    </tr>\n",
              "    <tr>\n",
              "      <th>3</th>\n",
              "      <td>1393.294524</td>\n",
              "      <td>1240.990</td>\n",
              "    </tr>\n",
              "    <tr>\n",
              "      <th>4</th>\n",
              "      <td>2198.131369</td>\n",
              "      <td>1898.285</td>\n",
              "    </tr>\n",
              "    <tr>\n",
              "      <th>5</th>\n",
              "      <td>2025.258947</td>\n",
              "      <td>1684.540</td>\n",
              "    </tr>\n",
              "    <tr>\n",
              "      <th rowspan=\"5\" valign=\"top\">5</th>\n",
              "      <th>1</th>\n",
              "      <td>2104.362796</td>\n",
              "      <td>1864.195</td>\n",
              "    </tr>\n",
              "    <tr>\n",
              "      <th>2</th>\n",
              "      <td>2155.747528</td>\n",
              "      <td>1893.235</td>\n",
              "    </tr>\n",
              "    <tr>\n",
              "      <th>3</th>\n",
              "      <td>1387.038309</td>\n",
              "      <td>1243.565</td>\n",
              "    </tr>\n",
              "    <tr>\n",
              "      <th>4</th>\n",
              "      <td>2789.680758</td>\n",
              "      <td>2019.530</td>\n",
              "    </tr>\n",
              "    <tr>\n",
              "      <th>5</th>\n",
              "      <td>1585.082857</td>\n",
              "      <td>1678.100</td>\n",
              "    </tr>\n",
              "    <tr>\n",
              "      <th rowspan=\"5\" valign=\"top\">6</th>\n",
              "      <th>1</th>\n",
              "      <td>2155.122529</td>\n",
              "      <td>1910.960</td>\n",
              "    </tr>\n",
              "    <tr>\n",
              "      <th>2</th>\n",
              "      <td>2162.526054</td>\n",
              "      <td>1818.000</td>\n",
              "    </tr>\n",
              "    <tr>\n",
              "      <th>3</th>\n",
              "      <td>1425.100199</td>\n",
              "      <td>1228.130</td>\n",
              "    </tr>\n",
              "    <tr>\n",
              "      <th>4</th>\n",
              "      <td>2143.275956</td>\n",
              "      <td>1850.000</td>\n",
              "    </tr>\n",
              "    <tr>\n",
              "      <th>5</th>\n",
              "      <td>1436.190000</td>\n",
              "      <td>1282.735</td>\n",
              "    </tr>\n",
              "  </tbody>\n",
              "</table>\n",
              "</div>"
            ],
            "text/plain": [
              "                 mean    median\n",
              "                dochg     dochg\n",
              "klm d347                       \n",
              "1   1     2787.887148  2300.000\n",
              "    2     2870.089670  2311.000\n",
              "    3     1613.160072  1311.220\n",
              "    4     2753.901900  2017.700\n",
              "    5     1076.751818  1044.500\n",
              "2   1     2396.283861  2086.650\n",
              "    2     2298.718789  1974.650\n",
              "    3     1574.002969  1404.650\n",
              "    4     2285.931382  2000.000\n",
              "    5     1416.370833   837.730\n",
              "3   1     2217.522893  1987.810\n",
              "    2     2246.584228  1980.500\n",
              "    3     1355.470977  1198.320\n",
              "    4     2319.930500  2000.000\n",
              "    5     1055.100000  1055.100\n",
              "4   1     2205.732575  1947.280\n",
              "    2     2294.275993  2000.970\n",
              "    3     1393.294524  1240.990\n",
              "    4     2198.131369  1898.285\n",
              "    5     2025.258947  1684.540\n",
              "5   1     2104.362796  1864.195\n",
              "    2     2155.747528  1893.235\n",
              "    3     1387.038309  1243.565\n",
              "    4     2789.680758  2019.530\n",
              "    5     1585.082857  1678.100\n",
              "6   1     2155.122529  1910.960\n",
              "    2     2162.526054  1818.000\n",
              "    3     1425.100199  1228.130\n",
              "    4     2143.275956  1850.000\n",
              "    5     1436.190000  1282.735"
            ]
          },
          "metadata": {
            "tags": []
          },
          "execution_count": 19
        }
      ]
    },
    {
      "cell_type": "code",
      "metadata": {
        "colab": {
          "base_uri": "https://localhost:8080/",
          "height": 978
        },
        "id": "lVdgrofc5p_W",
        "outputId": "37bd9834-eb72-404d-d0c2-294ce4bfb1ca"
      },
      "source": [
        "gosp.pivot_table(values = 'dochg', \n",
        "                 index = [\"klm\", \"d347\"], \n",
        "                 aggfunc = {\"dochg\": np.mean})"
      ],
      "execution_count": 23,
      "outputs": [
        {
          "output_type": "execute_result",
          "data": {
            "text/html": [
              "<div>\n",
              "<style scoped>\n",
              "    .dataframe tbody tr th:only-of-type {\n",
              "        vertical-align: middle;\n",
              "    }\n",
              "\n",
              "    .dataframe tbody tr th {\n",
              "        vertical-align: top;\n",
              "    }\n",
              "\n",
              "    .dataframe thead th {\n",
              "        text-align: right;\n",
              "    }\n",
              "</style>\n",
              "<table border=\"1\" class=\"dataframe\">\n",
              "  <thead>\n",
              "    <tr style=\"text-align: right;\">\n",
              "      <th></th>\n",
              "      <th></th>\n",
              "      <th>dochg</th>\n",
              "    </tr>\n",
              "    <tr>\n",
              "      <th>klm</th>\n",
              "      <th>d347</th>\n",
              "      <th></th>\n",
              "    </tr>\n",
              "  </thead>\n",
              "  <tbody>\n",
              "    <tr>\n",
              "      <th rowspan=\"5\" valign=\"top\">1</th>\n",
              "      <th>1</th>\n",
              "      <td>2787.887148</td>\n",
              "    </tr>\n",
              "    <tr>\n",
              "      <th>2</th>\n",
              "      <td>2870.089670</td>\n",
              "    </tr>\n",
              "    <tr>\n",
              "      <th>3</th>\n",
              "      <td>1613.160072</td>\n",
              "    </tr>\n",
              "    <tr>\n",
              "      <th>4</th>\n",
              "      <td>2753.901900</td>\n",
              "    </tr>\n",
              "    <tr>\n",
              "      <th>5</th>\n",
              "      <td>1076.751818</td>\n",
              "    </tr>\n",
              "    <tr>\n",
              "      <th rowspan=\"5\" valign=\"top\">2</th>\n",
              "      <th>1</th>\n",
              "      <td>2396.283861</td>\n",
              "    </tr>\n",
              "    <tr>\n",
              "      <th>2</th>\n",
              "      <td>2298.718789</td>\n",
              "    </tr>\n",
              "    <tr>\n",
              "      <th>3</th>\n",
              "      <td>1574.002969</td>\n",
              "    </tr>\n",
              "    <tr>\n",
              "      <th>4</th>\n",
              "      <td>2285.931382</td>\n",
              "    </tr>\n",
              "    <tr>\n",
              "      <th>5</th>\n",
              "      <td>1416.370833</td>\n",
              "    </tr>\n",
              "    <tr>\n",
              "      <th rowspan=\"5\" valign=\"top\">3</th>\n",
              "      <th>1</th>\n",
              "      <td>2217.522893</td>\n",
              "    </tr>\n",
              "    <tr>\n",
              "      <th>2</th>\n",
              "      <td>2246.584228</td>\n",
              "    </tr>\n",
              "    <tr>\n",
              "      <th>3</th>\n",
              "      <td>1355.470977</td>\n",
              "    </tr>\n",
              "    <tr>\n",
              "      <th>4</th>\n",
              "      <td>2319.930500</td>\n",
              "    </tr>\n",
              "    <tr>\n",
              "      <th>5</th>\n",
              "      <td>1055.100000</td>\n",
              "    </tr>\n",
              "    <tr>\n",
              "      <th rowspan=\"5\" valign=\"top\">4</th>\n",
              "      <th>1</th>\n",
              "      <td>2205.732575</td>\n",
              "    </tr>\n",
              "    <tr>\n",
              "      <th>2</th>\n",
              "      <td>2294.275993</td>\n",
              "    </tr>\n",
              "    <tr>\n",
              "      <th>3</th>\n",
              "      <td>1393.294524</td>\n",
              "    </tr>\n",
              "    <tr>\n",
              "      <th>4</th>\n",
              "      <td>2198.131369</td>\n",
              "    </tr>\n",
              "    <tr>\n",
              "      <th>5</th>\n",
              "      <td>2025.258947</td>\n",
              "    </tr>\n",
              "    <tr>\n",
              "      <th rowspan=\"5\" valign=\"top\">5</th>\n",
              "      <th>1</th>\n",
              "      <td>2104.362796</td>\n",
              "    </tr>\n",
              "    <tr>\n",
              "      <th>2</th>\n",
              "      <td>2155.747528</td>\n",
              "    </tr>\n",
              "    <tr>\n",
              "      <th>3</th>\n",
              "      <td>1387.038309</td>\n",
              "    </tr>\n",
              "    <tr>\n",
              "      <th>4</th>\n",
              "      <td>2789.680758</td>\n",
              "    </tr>\n",
              "    <tr>\n",
              "      <th>5</th>\n",
              "      <td>1585.082857</td>\n",
              "    </tr>\n",
              "    <tr>\n",
              "      <th rowspan=\"5\" valign=\"top\">6</th>\n",
              "      <th>1</th>\n",
              "      <td>2155.122529</td>\n",
              "    </tr>\n",
              "    <tr>\n",
              "      <th>2</th>\n",
              "      <td>2162.526054</td>\n",
              "    </tr>\n",
              "    <tr>\n",
              "      <th>3</th>\n",
              "      <td>1425.100199</td>\n",
              "    </tr>\n",
              "    <tr>\n",
              "      <th>4</th>\n",
              "      <td>2143.275956</td>\n",
              "    </tr>\n",
              "    <tr>\n",
              "      <th>5</th>\n",
              "      <td>1436.190000</td>\n",
              "    </tr>\n",
              "  </tbody>\n",
              "</table>\n",
              "</div>"
            ],
            "text/plain": [
              "                dochg\n",
              "klm d347             \n",
              "1   1     2787.887148\n",
              "    2     2870.089670\n",
              "    3     1613.160072\n",
              "    4     2753.901900\n",
              "    5     1076.751818\n",
              "2   1     2396.283861\n",
              "    2     2298.718789\n",
              "    3     1574.002969\n",
              "    4     2285.931382\n",
              "    5     1416.370833\n",
              "3   1     2217.522893\n",
              "    2     2246.584228\n",
              "    3     1355.470977\n",
              "    4     2319.930500\n",
              "    5     1055.100000\n",
              "4   1     2205.732575\n",
              "    2     2294.275993\n",
              "    3     1393.294524\n",
              "    4     2198.131369\n",
              "    5     2025.258947\n",
              "5   1     2104.362796\n",
              "    2     2155.747528\n",
              "    3     1387.038309\n",
              "    4     2789.680758\n",
              "    5     1585.082857\n",
              "6   1     2155.122529\n",
              "    2     2162.526054\n",
              "    3     1425.100199\n",
              "    4     2143.275956\n",
              "    5     1436.190000"
            ]
          },
          "metadata": {
            "tags": []
          },
          "execution_count": 23
        }
      ]
    },
    {
      "cell_type": "code",
      "metadata": {
        "colab": {
          "base_uri": "https://localhost:8080/",
          "height": 948
        },
        "id": "f110M3sO6KHE",
        "outputId": "3953ca4e-ef5e-42f8-c1ad-8d89889d8291"
      },
      "source": [
        "tabela = gosp.pivot_table(values = 'dochg', \n",
        "                          index = [\"klm\", \"d347\"], \n",
        "                          aggfunc = [np.mean, np.median])\n",
        "\n",
        "tabela.stack().reset_index()"
      ],
      "execution_count": 29,
      "outputs": [
        {
          "output_type": "execute_result",
          "data": {
            "text/html": [
              "<div>\n",
              "<style scoped>\n",
              "    .dataframe tbody tr th:only-of-type {\n",
              "        vertical-align: middle;\n",
              "    }\n",
              "\n",
              "    .dataframe tbody tr th {\n",
              "        vertical-align: top;\n",
              "    }\n",
              "\n",
              "    .dataframe thead th {\n",
              "        text-align: right;\n",
              "    }\n",
              "</style>\n",
              "<table border=\"1\" class=\"dataframe\">\n",
              "  <thead>\n",
              "    <tr style=\"text-align: right;\">\n",
              "      <th></th>\n",
              "      <th>klm</th>\n",
              "      <th>d347</th>\n",
              "      <th>level_2</th>\n",
              "      <th>mean</th>\n",
              "      <th>median</th>\n",
              "    </tr>\n",
              "  </thead>\n",
              "  <tbody>\n",
              "    <tr>\n",
              "      <th>0</th>\n",
              "      <td>1</td>\n",
              "      <td>1</td>\n",
              "      <td>dochg</td>\n",
              "      <td>2787.887148</td>\n",
              "      <td>2300.000</td>\n",
              "    </tr>\n",
              "    <tr>\n",
              "      <th>1</th>\n",
              "      <td>1</td>\n",
              "      <td>2</td>\n",
              "      <td>dochg</td>\n",
              "      <td>2870.089670</td>\n",
              "      <td>2311.000</td>\n",
              "    </tr>\n",
              "    <tr>\n",
              "      <th>2</th>\n",
              "      <td>1</td>\n",
              "      <td>3</td>\n",
              "      <td>dochg</td>\n",
              "      <td>1613.160072</td>\n",
              "      <td>1311.220</td>\n",
              "    </tr>\n",
              "    <tr>\n",
              "      <th>3</th>\n",
              "      <td>1</td>\n",
              "      <td>4</td>\n",
              "      <td>dochg</td>\n",
              "      <td>2753.901900</td>\n",
              "      <td>2017.700</td>\n",
              "    </tr>\n",
              "    <tr>\n",
              "      <th>4</th>\n",
              "      <td>1</td>\n",
              "      <td>5</td>\n",
              "      <td>dochg</td>\n",
              "      <td>1076.751818</td>\n",
              "      <td>1044.500</td>\n",
              "    </tr>\n",
              "    <tr>\n",
              "      <th>5</th>\n",
              "      <td>2</td>\n",
              "      <td>1</td>\n",
              "      <td>dochg</td>\n",
              "      <td>2396.283861</td>\n",
              "      <td>2086.650</td>\n",
              "    </tr>\n",
              "    <tr>\n",
              "      <th>6</th>\n",
              "      <td>2</td>\n",
              "      <td>2</td>\n",
              "      <td>dochg</td>\n",
              "      <td>2298.718789</td>\n",
              "      <td>1974.650</td>\n",
              "    </tr>\n",
              "    <tr>\n",
              "      <th>7</th>\n",
              "      <td>2</td>\n",
              "      <td>3</td>\n",
              "      <td>dochg</td>\n",
              "      <td>1574.002969</td>\n",
              "      <td>1404.650</td>\n",
              "    </tr>\n",
              "    <tr>\n",
              "      <th>8</th>\n",
              "      <td>2</td>\n",
              "      <td>4</td>\n",
              "      <td>dochg</td>\n",
              "      <td>2285.931382</td>\n",
              "      <td>2000.000</td>\n",
              "    </tr>\n",
              "    <tr>\n",
              "      <th>9</th>\n",
              "      <td>2</td>\n",
              "      <td>5</td>\n",
              "      <td>dochg</td>\n",
              "      <td>1416.370833</td>\n",
              "      <td>837.730</td>\n",
              "    </tr>\n",
              "    <tr>\n",
              "      <th>10</th>\n",
              "      <td>3</td>\n",
              "      <td>1</td>\n",
              "      <td>dochg</td>\n",
              "      <td>2217.522893</td>\n",
              "      <td>1987.810</td>\n",
              "    </tr>\n",
              "    <tr>\n",
              "      <th>11</th>\n",
              "      <td>3</td>\n",
              "      <td>2</td>\n",
              "      <td>dochg</td>\n",
              "      <td>2246.584228</td>\n",
              "      <td>1980.500</td>\n",
              "    </tr>\n",
              "    <tr>\n",
              "      <th>12</th>\n",
              "      <td>3</td>\n",
              "      <td>3</td>\n",
              "      <td>dochg</td>\n",
              "      <td>1355.470977</td>\n",
              "      <td>1198.320</td>\n",
              "    </tr>\n",
              "    <tr>\n",
              "      <th>13</th>\n",
              "      <td>3</td>\n",
              "      <td>4</td>\n",
              "      <td>dochg</td>\n",
              "      <td>2319.930500</td>\n",
              "      <td>2000.000</td>\n",
              "    </tr>\n",
              "    <tr>\n",
              "      <th>14</th>\n",
              "      <td>3</td>\n",
              "      <td>5</td>\n",
              "      <td>dochg</td>\n",
              "      <td>1055.100000</td>\n",
              "      <td>1055.100</td>\n",
              "    </tr>\n",
              "    <tr>\n",
              "      <th>15</th>\n",
              "      <td>4</td>\n",
              "      <td>1</td>\n",
              "      <td>dochg</td>\n",
              "      <td>2205.732575</td>\n",
              "      <td>1947.280</td>\n",
              "    </tr>\n",
              "    <tr>\n",
              "      <th>16</th>\n",
              "      <td>4</td>\n",
              "      <td>2</td>\n",
              "      <td>dochg</td>\n",
              "      <td>2294.275993</td>\n",
              "      <td>2000.970</td>\n",
              "    </tr>\n",
              "    <tr>\n",
              "      <th>17</th>\n",
              "      <td>4</td>\n",
              "      <td>3</td>\n",
              "      <td>dochg</td>\n",
              "      <td>1393.294524</td>\n",
              "      <td>1240.990</td>\n",
              "    </tr>\n",
              "    <tr>\n",
              "      <th>18</th>\n",
              "      <td>4</td>\n",
              "      <td>4</td>\n",
              "      <td>dochg</td>\n",
              "      <td>2198.131369</td>\n",
              "      <td>1898.285</td>\n",
              "    </tr>\n",
              "    <tr>\n",
              "      <th>19</th>\n",
              "      <td>4</td>\n",
              "      <td>5</td>\n",
              "      <td>dochg</td>\n",
              "      <td>2025.258947</td>\n",
              "      <td>1684.540</td>\n",
              "    </tr>\n",
              "    <tr>\n",
              "      <th>20</th>\n",
              "      <td>5</td>\n",
              "      <td>1</td>\n",
              "      <td>dochg</td>\n",
              "      <td>2104.362796</td>\n",
              "      <td>1864.195</td>\n",
              "    </tr>\n",
              "    <tr>\n",
              "      <th>21</th>\n",
              "      <td>5</td>\n",
              "      <td>2</td>\n",
              "      <td>dochg</td>\n",
              "      <td>2155.747528</td>\n",
              "      <td>1893.235</td>\n",
              "    </tr>\n",
              "    <tr>\n",
              "      <th>22</th>\n",
              "      <td>5</td>\n",
              "      <td>3</td>\n",
              "      <td>dochg</td>\n",
              "      <td>1387.038309</td>\n",
              "      <td>1243.565</td>\n",
              "    </tr>\n",
              "    <tr>\n",
              "      <th>23</th>\n",
              "      <td>5</td>\n",
              "      <td>4</td>\n",
              "      <td>dochg</td>\n",
              "      <td>2789.680758</td>\n",
              "      <td>2019.530</td>\n",
              "    </tr>\n",
              "    <tr>\n",
              "      <th>24</th>\n",
              "      <td>5</td>\n",
              "      <td>5</td>\n",
              "      <td>dochg</td>\n",
              "      <td>1585.082857</td>\n",
              "      <td>1678.100</td>\n",
              "    </tr>\n",
              "    <tr>\n",
              "      <th>25</th>\n",
              "      <td>6</td>\n",
              "      <td>1</td>\n",
              "      <td>dochg</td>\n",
              "      <td>2155.122529</td>\n",
              "      <td>1910.960</td>\n",
              "    </tr>\n",
              "    <tr>\n",
              "      <th>26</th>\n",
              "      <td>6</td>\n",
              "      <td>2</td>\n",
              "      <td>dochg</td>\n",
              "      <td>2162.526054</td>\n",
              "      <td>1818.000</td>\n",
              "    </tr>\n",
              "    <tr>\n",
              "      <th>27</th>\n",
              "      <td>6</td>\n",
              "      <td>3</td>\n",
              "      <td>dochg</td>\n",
              "      <td>1425.100199</td>\n",
              "      <td>1228.130</td>\n",
              "    </tr>\n",
              "    <tr>\n",
              "      <th>28</th>\n",
              "      <td>6</td>\n",
              "      <td>4</td>\n",
              "      <td>dochg</td>\n",
              "      <td>2143.275956</td>\n",
              "      <td>1850.000</td>\n",
              "    </tr>\n",
              "    <tr>\n",
              "      <th>29</th>\n",
              "      <td>6</td>\n",
              "      <td>5</td>\n",
              "      <td>dochg</td>\n",
              "      <td>1436.190000</td>\n",
              "      <td>1282.735</td>\n",
              "    </tr>\n",
              "  </tbody>\n",
              "</table>\n",
              "</div>"
            ],
            "text/plain": [
              "    klm  d347 level_2         mean    median\n",
              "0     1     1   dochg  2787.887148  2300.000\n",
              "1     1     2   dochg  2870.089670  2311.000\n",
              "2     1     3   dochg  1613.160072  1311.220\n",
              "3     1     4   dochg  2753.901900  2017.700\n",
              "4     1     5   dochg  1076.751818  1044.500\n",
              "5     2     1   dochg  2396.283861  2086.650\n",
              "6     2     2   dochg  2298.718789  1974.650\n",
              "7     2     3   dochg  1574.002969  1404.650\n",
              "8     2     4   dochg  2285.931382  2000.000\n",
              "9     2     5   dochg  1416.370833   837.730\n",
              "10    3     1   dochg  2217.522893  1987.810\n",
              "11    3     2   dochg  2246.584228  1980.500\n",
              "12    3     3   dochg  1355.470977  1198.320\n",
              "13    3     4   dochg  2319.930500  2000.000\n",
              "14    3     5   dochg  1055.100000  1055.100\n",
              "15    4     1   dochg  2205.732575  1947.280\n",
              "16    4     2   dochg  2294.275993  2000.970\n",
              "17    4     3   dochg  1393.294524  1240.990\n",
              "18    4     4   dochg  2198.131369  1898.285\n",
              "19    4     5   dochg  2025.258947  1684.540\n",
              "20    5     1   dochg  2104.362796  1864.195\n",
              "21    5     2   dochg  2155.747528  1893.235\n",
              "22    5     3   dochg  1387.038309  1243.565\n",
              "23    5     4   dochg  2789.680758  2019.530\n",
              "24    5     5   dochg  1585.082857  1678.100\n",
              "25    6     1   dochg  2155.122529  1910.960\n",
              "26    6     2   dochg  2162.526054  1818.000\n",
              "27    6     3   dochg  1425.100199  1228.130\n",
              "28    6     4   dochg  2143.275956  1850.000\n",
              "29    6     5   dochg  1436.190000  1282.735"
            ]
          },
          "metadata": {
            "tags": []
          },
          "execution_count": 29
        }
      ]
    },
    {
      "cell_type": "code",
      "metadata": {
        "colab": {
          "base_uri": "https://localhost:8080/",
          "height": 258
        },
        "id": "wfQ7vcLu7ZCN",
        "outputId": "d3f2dbe4-4b95-48c0-fd10-16da7aa65251"
      },
      "source": [
        "gosp.pivot_table(values = \"wydg\", index = \"klm\", \n",
        "                 aggfunc = {('pow_5k' , lambda x: sum(x > 5000)), \n",
        "                            ('pow_10k', lambda x: sum(x > 10000))})"
      ],
      "execution_count": 38,
      "outputs": [
        {
          "output_type": "execute_result",
          "data": {
            "text/html": [
              "<div>\n",
              "<style scoped>\n",
              "    .dataframe tbody tr th:only-of-type {\n",
              "        vertical-align: middle;\n",
              "    }\n",
              "\n",
              "    .dataframe tbody tr th {\n",
              "        vertical-align: top;\n",
              "    }\n",
              "\n",
              "    .dataframe thead th {\n",
              "        text-align: right;\n",
              "    }\n",
              "</style>\n",
              "<table border=\"1\" class=\"dataframe\">\n",
              "  <thead>\n",
              "    <tr style=\"text-align: right;\">\n",
              "      <th></th>\n",
              "      <th>pow_10k</th>\n",
              "      <th>pow_5k</th>\n",
              "    </tr>\n",
              "    <tr>\n",
              "      <th>klm</th>\n",
              "      <th></th>\n",
              "      <th></th>\n",
              "    </tr>\n",
              "  </thead>\n",
              "  <tbody>\n",
              "    <tr>\n",
              "      <th>1</th>\n",
              "      <td>45.0</td>\n",
              "      <td>370.0</td>\n",
              "    </tr>\n",
              "    <tr>\n",
              "      <th>2</th>\n",
              "      <td>16.0</td>\n",
              "      <td>135.0</td>\n",
              "    </tr>\n",
              "    <tr>\n",
              "      <th>3</th>\n",
              "      <td>18.0</td>\n",
              "      <td>76.0</td>\n",
              "    </tr>\n",
              "    <tr>\n",
              "      <th>4</th>\n",
              "      <td>28.0</td>\n",
              "      <td>172.0</td>\n",
              "    </tr>\n",
              "    <tr>\n",
              "      <th>5</th>\n",
              "      <td>17.0</td>\n",
              "      <td>107.0</td>\n",
              "    </tr>\n",
              "    <tr>\n",
              "      <th>6</th>\n",
              "      <td>20.0</td>\n",
              "      <td>241.0</td>\n",
              "    </tr>\n",
              "  </tbody>\n",
              "</table>\n",
              "</div>"
            ],
            "text/plain": [
              "     pow_10k  pow_5k\n",
              "klm                 \n",
              "1       45.0   370.0\n",
              "2       16.0   135.0\n",
              "3       18.0    76.0\n",
              "4       28.0   172.0\n",
              "5       17.0   107.0\n",
              "6       20.0   241.0"
            ]
          },
          "metadata": {
            "tags": []
          },
          "execution_count": 38
        }
      ]
    },
    {
      "cell_type": "markdown",
      "metadata": {
        "id": "nryK4ViQ8Wyi"
      },
      "source": [
        "# Wizualizacja danych z pakietem `seaborn`"
      ]
    },
    {
      "cell_type": "markdown",
      "metadata": {
        "id": "bg5RJKWf83Ow"
      },
      "source": [
        "Tworzymy histogram z wykorzystaniem pakietu `seaborn`"
      ]
    },
    {
      "cell_type": "code",
      "metadata": {
        "colab": {
          "base_uri": "https://localhost:8080/",
          "height": 296
        },
        "id": "j0aAol5r8Z3_",
        "outputId": "307eadea-4483-4498-a6f0-62a2fe592a11"
      },
      "source": [
        "sns.histplot(data = gosp, x = \"wydg\")"
      ],
      "execution_count": 41,
      "outputs": [
        {
          "output_type": "execute_result",
          "data": {
            "text/plain": [
              "<matplotlib.axes._subplots.AxesSubplot at 0x7fd666b354e0>"
            ]
          },
          "metadata": {
            "tags": []
          },
          "execution_count": 41
        },
        {
          "output_type": "display_data",
          "data": {
            "image/png": "[encoded data removed]",
            "text/plain": [
              "<Figure size 432x288 with 1 Axes>"
            ]
          },
          "metadata": {
            "tags": [],
            "needs_background": "light"
          }
        }
      ]
    },
    {
      "cell_type": "code",
      "metadata": {
        "colab": {
          "base_uri": "https://localhost:8080/",
          "height": 300
        },
        "id": "VjpiSLGN9IEc",
        "outputId": "2e51d23f-ed32-48c5-f5ae-2783f0774142"
      },
      "source": [
        "sns.histplot(x = np.log(gosp[\"wydg\"]), bins = 50)"
      ],
      "execution_count": 50,
      "outputs": [
        {
          "output_type": "execute_result",
          "data": {
            "text/plain": [
              "<matplotlib.axes._subplots.AxesSubplot at 0x7fd670a8a5f8>"
            ]
          },
          "metadata": {
            "tags": []
          },
          "execution_count": 50
        },
        {
          "output_type": "display_data",
          "data": {
            "image/png": "[encoded data removed]",
            "text/plain": [
              "<Figure size 432x288 with 1 Axes>"
            ]
          },
          "metadata": {
            "tags": [],
            "needs_background": "light"
          }
        }
      ]
    },
    {
      "cell_type": "code",
      "metadata": {
        "colab": {
          "base_uri": "https://localhost:8080/",
          "height": 336
        },
        "id": "cXBlrbOL-Roh",
        "outputId": "41bba67a-f50c-4a18-97f0-3de656a79888"
      },
      "source": [
        "sns.distplot(x = np.log(gosp[\"wydg\"]), bins = 50, hist= False)"
      ],
      "execution_count": 56,
      "outputs": [
        {
          "output_type": "stream",
          "text": [
            "/usr/local/lib/python3.6/dist-packages/seaborn/distributions.py:2557: FutureWarning: `distplot` is a deprecated function and will be removed in a future version. Please adapt your code to use either `displot` (a figure-level function with similar flexibility) or `kdeplot` (an axes-level function for kernel density plots).\n",
            "  warnings.warn(msg, FutureWarning)\n"
          ],
          "name": "stderr"
        },
        {
          "output_type": "execute_result",
          "data": {
            "text/plain": [
              "<matplotlib.axes._subplots.AxesSubplot at 0x7fd65cdd56a0>"
            ]
          },
          "metadata": {
            "tags": []
          },
          "execution_count": 56
        },
        {
          "output_type": "display_data",
          "data": {
            "image/png": "[encoded data removed]",
            "text/plain": [
              "<Figure size 432x288 with 1 Axes>"
            ]
          },
          "metadata": {
            "tags": [],
            "needs_background": "light"
          }
        }
      ]
    },
    {
      "cell_type": "code",
      "metadata": {
        "colab": {
          "base_uri": "https://localhost:8080/",
          "height": 386
        },
        "id": "q2ETOQZU-5uv",
        "outputId": "ac34de7f-95f0-420b-ba5f-ba1fd78fb454"
      },
      "source": [
        "sns.displot(x = np.log(gosp[\"wydg\"]), kind = \"kde\",  hue = gosp[\"klm\"])"
      ],
      "execution_count": 59,
      "outputs": [
        {
          "output_type": "execute_result",
          "data": {
            "text/plain": [
              "<seaborn.axisgrid.FacetGrid at 0x7fd65cb72400>"
            ]
          },
          "metadata": {
            "tags": []
          },
          "execution_count": 59
        },
        {
          "output_type": "display_data",
          "data": {
            "image/png": "[encoded data removed]",
            "text/plain": [
              "<Figure size 402.375x360 with 1 Axes>"
            ]
          },
          "metadata": {
            "tags": [],
            "needs_background": "light"
          }
        }
      ]
    },
    {
      "cell_type": "code",
      "metadata": {
        "colab": {
          "base_uri": "https://localhost:8080/",
          "height": 225
        },
        "id": "gNHDTjM7_lpO",
        "outputId": "794a3e7d-73ef-4698-c231-2f17132d0a53"
      },
      "source": [
        "sns.displot(x = np.log(gosp[\"wydg\"]), kind = \"hist\", col = gosp[\"klm\"])"
      ],
      "execution_count": 62,
      "outputs": [
        {
          "output_type": "execute_result",
          "data": {
            "text/plain": [
              "<seaborn.axisgrid.FacetGrid at 0x7fd65bdfe4e0>"
            ]
          },
          "metadata": {
            "tags": []
          },
          "execution_count": 62
        },
        {
          "output_type": "display_data",
          "data": {
            "image/png": "[encoded data removed]",
            "text/plain": [
              "<Figure size 2160x360 with 6 Axes>"
            ]
          },
          "metadata": {
            "tags": [],
            "needs_background": "light"
          }
        }
      ]
    },
    {
      "cell_type": "code",
      "metadata": {
        "colab": {
          "base_uri": "https://localhost:8080/",
          "height": 458
        },
        "id": "wboMn6RWAR9K",
        "outputId": "c99eb2c0-2c4e-4f92-ccd1-d819690aff08"
      },
      "source": [
        "sns.jointplot(x = np.log(gosp[\"dochg\"]), y = np.log(gosp[\"wydg\"]), alpha = 0.1)"
      ],
      "execution_count": 71,
      "outputs": [
        {
          "output_type": "execute_result",
          "data": {
            "text/plain": [
              "<seaborn.axisgrid.JointGrid at 0x7fd657b67e10>"
            ]
          },
          "metadata": {
            "tags": []
          },
          "execution_count": 71
        },
        {
          "output_type": "display_data",
          "data": {
            "image/png": "[encoded data removed]",
            "text/plain": [
              "<Figure size 432x432 with 3 Axes>"
            ]
          },
          "metadata": {
            "tags": [],
            "needs_background": "light"
          }
        }
      ]
    },
    {
      "cell_type": "code",
      "metadata": {
        "colab": {
          "base_uri": "https://localhost:8080/",
          "height": 296
        },
        "id": "g3NVlQ2kB1NL",
        "outputId": "92b54b31-eccc-4933-b285-e8b2895c36da"
      },
      "source": [
        "sns.boxplot(x = gosp.d63, y = np.log(gosp.dochg), palette = \"BrBG\")"
      ],
      "execution_count": 86,
      "outputs": [
        {
          "output_type": "execute_result",
          "data": {
            "text/plain": [
              "<matplotlib.axes._subplots.AxesSubplot at 0x7fd647c63518>"
            ]
          },
          "metadata": {
            "tags": []
          },
          "execution_count": 86
        },
        {
          "output_type": "display_data",
          "data": {
            "image/png": "[encoded data removed]",
            "text/plain": [
              "<Figure size 432x288 with 1 Axes>"
            ]
          },
          "metadata": {
            "tags": [],
            "needs_background": "light"
          }
        }
      ]
    },
    {
      "cell_type": "code",
      "metadata": {
        "colab": {
          "base_uri": "https://localhost:8080/",
          "height": 258
        },
        "id": "DJOvNUfxCdIH",
        "outputId": "14593145-1135-4f27-84e1-8632257a834e"
      },
      "source": [
        "gosp.pivot_table(values = \"dochg\", \n",
        "                 index = \"d63\", \n",
        "                 aggfunc = {(\"mediana\", np.median), (\"średnia\", np.mean)})"
      ],
      "execution_count": 79,
      "outputs": [
        {
          "output_type": "execute_result",
          "data": {
            "text/html": [
              "<div>\n",
              "<style scoped>\n",
              "    .dataframe tbody tr th:only-of-type {\n",
              "        vertical-align: middle;\n",
              "    }\n",
              "\n",
              "    .dataframe tbody tr th {\n",
              "        vertical-align: top;\n",
              "    }\n",
              "\n",
              "    .dataframe thead th {\n",
              "        text-align: right;\n",
              "    }\n",
              "</style>\n",
              "<table border=\"1\" class=\"dataframe\">\n",
              "  <thead>\n",
              "    <tr style=\"text-align: right;\">\n",
              "      <th></th>\n",
              "      <th>mediana</th>\n",
              "      <th>średnia</th>\n",
              "    </tr>\n",
              "    <tr>\n",
              "      <th>d63</th>\n",
              "      <th></th>\n",
              "      <th></th>\n",
              "    </tr>\n",
              "  </thead>\n",
              "  <tbody>\n",
              "    <tr>\n",
              "      <th>1</th>\n",
              "      <td>1199.320</td>\n",
              "      <td>1365.057137</td>\n",
              "    </tr>\n",
              "    <tr>\n",
              "      <th>2</th>\n",
              "      <td>1549.250</td>\n",
              "      <td>1736.274390</td>\n",
              "    </tr>\n",
              "    <tr>\n",
              "      <th>3</th>\n",
              "      <td>1977.000</td>\n",
              "      <td>2206.640157</td>\n",
              "    </tr>\n",
              "    <tr>\n",
              "      <th>4</th>\n",
              "      <td>2732.300</td>\n",
              "      <td>3072.951669</td>\n",
              "    </tr>\n",
              "    <tr>\n",
              "      <th>5</th>\n",
              "      <td>3618.645</td>\n",
              "      <td>4314.058254</td>\n",
              "    </tr>\n",
              "    <tr>\n",
              "      <th>6</th>\n",
              "      <td>4754.460</td>\n",
              "      <td>5773.696447</td>\n",
              "    </tr>\n",
              "  </tbody>\n",
              "</table>\n",
              "</div>"
            ],
            "text/plain": [
              "      mediana      średnia\n",
              "d63                       \n",
              "1    1199.320  1365.057137\n",
              "2    1549.250  1736.274390\n",
              "3    1977.000  2206.640157\n",
              "4    2732.300  3072.951669\n",
              "5    3618.645  4314.058254\n",
              "6    4754.460  5773.696447"
            ]
          },
          "metadata": {
            "tags": []
          },
          "execution_count": 79
        }
      ]
    },
    {
      "cell_type": "code",
      "metadata": {
        "colab": {
          "base_uri": "https://localhost:8080/",
          "height": 296
        },
        "id": "Ybm46zPAD1EN",
        "outputId": "6e669bb1-f5aa-4ccb-f056-20669102866f"
      },
      "source": [
        "sns.scatterplot(x = np.log(gosp.dochg), y = np.log(gosp.wydg), alpha = 0.1)\n",
        "sns.regplot(x = np.log(gosp.dochg), y = np.log(gosp.wydg), scatter = False)"
      ],
      "execution_count": 96,
      "outputs": [
        {
          "output_type": "execute_result",
          "data": {
            "text/plain": [
              "<matplotlib.axes._subplots.AxesSubplot at 0x7fd645ccac18>"
            ]
          },
          "metadata": {
            "tags": []
          },
          "execution_count": 96
        },
        {
          "output_type": "display_data",
          "data": {
            "image/png": "[encoded data removed]",
            "text/plain": [
              "<Figure size 432x288 with 1 Axes>"
            ]
          },
          "metadata": {
            "tags": [],
            "needs_background": "light"
          }
        }
      ]
    },
    {
      "cell_type": "code",
      "metadata": {
        "colab": {
          "base_uri": "https://localhost:8080/",
          "height": 567
        },
        "id": "9PvY63EfFOev",
        "outputId": "118cede2-42b6-4d62-c2e6-1e812fc25281"
      },
      "source": [
        "sns.pairplot(data = gosp, vars = [\"dochg\", \"wydg\", \"d36\"])"
      ],
      "execution_count": 97,
      "outputs": [
        {
          "output_type": "execute_result",
          "data": {
            "text/plain": [
              "<seaborn.axisgrid.PairGrid at 0x7fd645cc09e8>"
            ]
          },
          "metadata": {
            "tags": []
          },
          "execution_count": 97
        },
        {
          "output_type": "display_data",
          "data": {
            "image/png": "[encoded data removed]",
            "text/plain": [
              "<Figure size 540x540 with 12 Axes>"
            ]
          },
          "metadata": {
            "tags": [],
            "needs_background": "light"
          }
        }
      ]
    }
  ]
}
{
  "nbformat": 4,
  "nbformat_minor": 0,
  "metadata": {
    "colab": {
      "name": "6-topsis.ipynb",
      "provenance": [],
      "collapsed_sections": []
    },
    "kernelspec": {
      "name": "python3",
      "display_name": "Python 3"
    }
  },
  "cells": [
    {
      "cell_type": "markdown",
      "metadata": {
        "id": "K8XTGDlyqlvP"
      },
      "source": [
        "Wczytujemy biblioteki\n"
      ]
    },
    {
      "cell_type": "code",
      "metadata": {
        "id": "zFnOIxS2qXym"
      },
      "source": [
        "import pandas as pd\n",
        "import numpy as np"
      ],
      "execution_count": 1,
      "outputs": []
    },
    {
      "cell_type": "markdown",
      "metadata": {
        "id": "hnDgBMvvqpRI"
      },
      "source": [
        "Wczytujemy dane o powiatach\n"
      ]
    },
    {
      "cell_type": "code",
      "metadata": {
        "colab": {
          "base_uri": "https://localhost:8080/",
          "height": 198
        },
        "id": "WYtlKBAQqsc7",
        "outputId": "2b2ae7af-4f3a-4193-de0b-24668c11d297"
      },
      "source": [
        "powiaty = pd.read_excel(io = \"Powiaty.xls\")\n",
        "powiaty.head()"
      ],
      "execution_count": 2,
      "outputs": [
        {
          "output_type": "execute_result",
          "data": {
            "text/html": [
              "<div>\n",
              "<style scoped>\n",
              "    .dataframe tbody tr th:only-of-type {\n",
              "        vertical-align: middle;\n",
              "    }\n",
              "\n",
              "    .dataframe tbody tr th {\n",
              "        vertical-align: top;\n",
              "    }\n",
              "\n",
              "    .dataframe thead th {\n",
              "        text-align: right;\n",
              "    }\n",
              "</style>\n",
              "<table border=\"1\" class=\"dataframe\">\n",
              "  <thead>\n",
              "    <tr style=\"text-align: right;\">\n",
              "      <th></th>\n",
              "      <th>Powiaty</th>\n",
              "      <th>Id</th>\n",
              "      <th>X1_s</th>\n",
              "      <th>X2_s</th>\n",
              "      <th>X3_d</th>\n",
              "      <th>X4_d</th>\n",
              "      <th>X5_d</th>\n",
              "      <th>X6_d</th>\n",
              "    </tr>\n",
              "  </thead>\n",
              "  <tbody>\n",
              "    <tr>\n",
              "      <th>0</th>\n",
              "      <td>chodzieski</td>\n",
              "      <td>251</td>\n",
              "      <td>0.638029</td>\n",
              "      <td>1648.80</td>\n",
              "      <td>0.231</td>\n",
              "      <td>0.282360</td>\n",
              "      <td>0.536464</td>\n",
              "      <td>0.064824</td>\n",
              "    </tr>\n",
              "    <tr>\n",
              "      <th>1</th>\n",
              "      <td>czarnkowsko-trzcianecki</td>\n",
              "      <td>252</td>\n",
              "      <td>0.635018</td>\n",
              "      <td>1800.35</td>\n",
              "      <td>0.248</td>\n",
              "      <td>0.295556</td>\n",
              "      <td>0.512332</td>\n",
              "      <td>0.115621</td>\n",
              "    </tr>\n",
              "    <tr>\n",
              "      <th>2</th>\n",
              "      <td>gnieźnieński</td>\n",
              "      <td>253</td>\n",
              "      <td>0.571948</td>\n",
              "      <td>1801.16</td>\n",
              "      <td>0.232</td>\n",
              "      <td>0.308769</td>\n",
              "      <td>0.468553</td>\n",
              "      <td>0.246254</td>\n",
              "    </tr>\n",
              "    <tr>\n",
              "      <th>3</th>\n",
              "      <td>gostyński</td>\n",
              "      <td>254</td>\n",
              "      <td>0.707542</td>\n",
              "      <td>1815.27</td>\n",
              "      <td>0.194</td>\n",
              "      <td>0.362074</td>\n",
              "      <td>0.470871</td>\n",
              "      <td>0.077338</td>\n",
              "    </tr>\n",
              "    <tr>\n",
              "      <th>4</th>\n",
              "      <td>grodziski</td>\n",
              "      <td>255</td>\n",
              "      <td>0.645110</td>\n",
              "      <td>1710.91</td>\n",
              "      <td>0.121</td>\n",
              "      <td>0.412271</td>\n",
              "      <td>0.417134</td>\n",
              "      <td>0.141414</td>\n",
              "    </tr>\n",
              "  </tbody>\n",
              "</table>\n",
              "</div>"
            ],
            "text/plain": [
              "                   Powiaty   Id      X1_s  ...      X4_d      X5_d      X6_d\n",
              "0               chodzieski  251  0.638029  ...  0.282360  0.536464  0.064824\n",
              "1  czarnkowsko-trzcianecki  252  0.635018  ...  0.295556  0.512332  0.115621\n",
              "2             gnieźnieński  253  0.571948  ...  0.308769  0.468553  0.246254\n",
              "3                gostyński  254  0.707542  ...  0.362074  0.470871  0.077338\n",
              "4                grodziski  255  0.645110  ...  0.412271  0.417134  0.141414\n",
              "\n",
              "[5 rows x 8 columns]"
            ]
          },
          "metadata": {
            "tags": []
          },
          "execution_count": 2
        }
      ]
    },
    {
      "cell_type": "markdown",
      "metadata": {
        "id": "amCVA9wUq_Hv"
      },
      "source": [
        "1. Standaryzacja zmiennych zgodnie ze wzorem\n",
        "\n",
        "$$\n",
        "z_{ij} = \\frac{x_{ij}}{\\sqrt{\\sum_{i=1}^n x_{ij}^2}}\n",
        "$$"
      ]
    },
    {
      "cell_type": "code",
      "metadata": {
        "colab": {
          "base_uri": "https://localhost:8080/"
        },
        "id": "so0f8H7qrP3T",
        "outputId": "fdffb9c7-9194-4ccf-9b55-bb13dc8d6cf6"
      },
      "source": [
        "z_s=(powiaty[[\"X1_s\", \"X2_s\", \"X3_d\", \"X4_d\", \"X5_d\", \"X6_d\"]]**2)**(1/2)\n",
        "z_mianownik = z_s.sum(axis = 0)\n",
        "z_mianownik"
      ],
      "execution_count": 19,
      "outputs": [
        {
          "output_type": "execute_result",
          "data": {
            "text/plain": [
              "X1_s       21.450852\n",
              "X2_s    64034.160000\n",
              "X3_d        6.327000\n",
              "X4_d       11.668822\n",
              "X5_d       16.702309\n",
              "X6_d        5.117419\n",
              "dtype: float64"
            ]
          },
          "metadata": {
            "tags": []
          },
          "execution_count": 19
        }
      ]
    },
    {
      "cell_type": "code",
      "metadata": {
        "colab": {
          "base_uri": "https://localhost:8080/",
          "height": 198
        },
        "id": "3d6g6OQ9sa_r",
        "outputId": "c202c6f0-638e-4114-93c9-885ee5806e6a"
      },
      "source": [
        "z = powiaty[[\"X1_s\", \"X2_s\", \"X3_d\", \"X4_d\", \"X5_d\", \"X6_d\"]] / z_mianownik\n",
        "z.head()"
      ],
      "execution_count": 22,
      "outputs": [
        {
          "output_type": "execute_result",
          "data": {
            "text/html": [
              "<div>\n",
              "<style scoped>\n",
              "    .dataframe tbody tr th:only-of-type {\n",
              "        vertical-align: middle;\n",
              "    }\n",
              "\n",
              "    .dataframe tbody tr th {\n",
              "        vertical-align: top;\n",
              "    }\n",
              "\n",
              "    .dataframe thead th {\n",
              "        text-align: right;\n",
              "    }\n",
              "</style>\n",
              "<table border=\"1\" class=\"dataframe\">\n",
              "  <thead>\n",
              "    <tr style=\"text-align: right;\">\n",
              "      <th></th>\n",
              "      <th>X1_s</th>\n",
              "      <th>X2_s</th>\n",
              "      <th>X3_d</th>\n",
              "      <th>X4_d</th>\n",
              "      <th>X5_d</th>\n",
              "      <th>X6_d</th>\n",
              "    </tr>\n",
              "  </thead>\n",
              "  <tbody>\n",
              "    <tr>\n",
              "      <th>0</th>\n",
              "      <td>0.029744</td>\n",
              "      <td>0.025749</td>\n",
              "      <td>0.036510</td>\n",
              "      <td>0.024198</td>\n",
              "      <td>0.032119</td>\n",
              "      <td>0.012667</td>\n",
              "    </tr>\n",
              "    <tr>\n",
              "      <th>1</th>\n",
              "      <td>0.029603</td>\n",
              "      <td>0.028115</td>\n",
              "      <td>0.039197</td>\n",
              "      <td>0.025329</td>\n",
              "      <td>0.030674</td>\n",
              "      <td>0.022594</td>\n",
              "    </tr>\n",
              "    <tr>\n",
              "      <th>2</th>\n",
              "      <td>0.026663</td>\n",
              "      <td>0.028128</td>\n",
              "      <td>0.036668</td>\n",
              "      <td>0.026461</td>\n",
              "      <td>0.028053</td>\n",
              "      <td>0.048121</td>\n",
              "    </tr>\n",
              "    <tr>\n",
              "      <th>3</th>\n",
              "      <td>0.032984</td>\n",
              "      <td>0.028348</td>\n",
              "      <td>0.030662</td>\n",
              "      <td>0.031029</td>\n",
              "      <td>0.028192</td>\n",
              "      <td>0.015113</td>\n",
              "    </tr>\n",
              "    <tr>\n",
              "      <th>4</th>\n",
              "      <td>0.030074</td>\n",
              "      <td>0.026719</td>\n",
              "      <td>0.019124</td>\n",
              "      <td>0.035331</td>\n",
              "      <td>0.024975</td>\n",
              "      <td>0.027634</td>\n",
              "    </tr>\n",
              "  </tbody>\n",
              "</table>\n",
              "</div>"
            ],
            "text/plain": [
              "       X1_s      X2_s      X3_d      X4_d      X5_d      X6_d\n",
              "0  0.029744  0.025749  0.036510  0.024198  0.032119  0.012667\n",
              "1  0.029603  0.028115  0.039197  0.025329  0.030674  0.022594\n",
              "2  0.026663  0.028128  0.036668  0.026461  0.028053  0.048121\n",
              "3  0.032984  0.028348  0.030662  0.031029  0.028192  0.015113\n",
              "4  0.030074  0.026719  0.019124  0.035331  0.024975  0.027634"
            ]
          },
          "metadata": {
            "tags": []
          },
          "execution_count": 22
        }
      ]
    },
    {
      "cell_type": "markdown",
      "metadata": {
        "id": "zEexKR5VtLUC"
      },
      "source": [
        "2. Wyznaczamy wartości dla obiektów idealnych i antyidelanych"
      ]
    },
    {
      "cell_type": "code",
      "metadata": {
        "colab": {
          "base_uri": "https://localhost:8080/"
        },
        "id": "qehjaDLhtPSe",
        "outputId": "f8c1667b-2741-49f5-83c8-da4b8c260036"
      },
      "source": [
        "obiekt_idealny = [max(z.X1_s), max(z.X2_s), min(z.X3_d), min(z.X4_d), min(z.X5_d), min(z.X6_d)]\n",
        "obiekt_antyidealny = [min(z.X1_s), min(z.X2_s), max(z.X3_d), max(z.X4_d), max(z.X5_d), max(z.X6_d)]\n",
        "\n",
        "print(obiekt_idealny)\n",
        "print(obiekt_antyidealny)"
      ],
      "execution_count": 30,
      "outputs": [
        {
          "output_type": "stream",
          "text": [
            "[0.03791226822644914, 0.03923109165482924, 0.010905642484589851, 0.020814156529841768, 0.020878709685617336, 0.012667408253809955]\n",
            "[0.01006457993643032, 0.021179320537663027, 0.04409672830725461, 0.03533097374500791, 0.0360904127622585, 0.09635014635061602]\n"
          ],
          "name": "stdout"
        }
      ]
    },
    {
      "cell_type": "markdown",
      "metadata": {
        "id": "3Y29atxRuHBy"
      },
      "source": [
        "3. Obliczamy odległości $d_i^{+}$ i $d_{i}^{-}$"
      ]
    },
    {
      "cell_type": "code",
      "metadata": {
        "colab": {
          "base_uri": "https://localhost:8080/"
        },
        "id": "X-rX_RF3uMmo",
        "outputId": "5a9abdda-f97a-4190-83e3-a6753527e06f"
      },
      "source": [
        "## \n",
        "d_plus = np.sqrt( ((z - obiekt_idealny)**2).sum(axis = 1) )\n",
        "d_minus = np.sqrt( ((z - obiekt_antyidealny)**2).sum(axis = 1) )\n",
        "d_plus.head()"
      ],
      "execution_count": 50,
      "outputs": [
        {
          "output_type": "execute_result",
          "data": {
            "text/plain": [
              "0    0.032278\n",
              "1    0.034754\n",
              "2    0.047475\n",
              "3    0.026398\n",
              "4    0.027149\n",
              "dtype: float64"
            ]
          },
          "metadata": {
            "tags": []
          },
          "execution_count": 50
        }
      ]
    },
    {
      "cell_type": "markdown",
      "metadata": {
        "id": "TbUlidjmuu1a"
      },
      "source": [
        "4. Oblicamy "
      ]
    },
    {
      "cell_type": "code",
      "metadata": {
        "colab": {
          "base_uri": "https://localhost:8080/",
          "height": 348
        },
        "id": "e6flFPB4utpI",
        "outputId": "cd86bb14-9b53-4c50-ee78-05034bc796e7"
      },
      "source": [
        "powiaty[\"d_minus\"] = d_minus\n",
        "powiaty[\"d_plus\"] = d_plus\n",
        "powiaty[\"R\"] = d_minus / (d_minus+d_plus)\n",
        "powiaty.sort_values(by = \"R\",  ascending = False, inplace=True)\n",
        "powiaty.head(10)"
      ],
      "execution_count": 55,
      "outputs": [
        {
          "output_type": "execute_result",
          "data": {
            "text/html": [
              "<div>\n",
              "<style scoped>\n",
              "    .dataframe tbody tr th:only-of-type {\n",
              "        vertical-align: middle;\n",
              "    }\n",
              "\n",
              "    .dataframe tbody tr th {\n",
              "        vertical-align: top;\n",
              "    }\n",
              "\n",
              "    .dataframe thead th {\n",
              "        text-align: right;\n",
              "    }\n",
              "</style>\n",
              "<table border=\"1\" class=\"dataframe\">\n",
              "  <thead>\n",
              "    <tr style=\"text-align: right;\">\n",
              "      <th></th>\n",
              "      <th>Powiaty</th>\n",
              "      <th>Id</th>\n",
              "      <th>X1_s</th>\n",
              "      <th>X2_s</th>\n",
              "      <th>X3_d</th>\n",
              "      <th>X4_d</th>\n",
              "      <th>X5_d</th>\n",
              "      <th>X6_d</th>\n",
              "      <th>d_minus</th>\n",
              "      <th>d_plus</th>\n",
              "      <th>R</th>\n",
              "    </tr>\n",
              "  </thead>\n",
              "  <tbody>\n",
              "    <tr>\n",
              "      <th>20</th>\n",
              "      <td>poznański</td>\n",
              "      <td>275</td>\n",
              "      <td>0.813250</td>\n",
              "      <td>2037.67</td>\n",
              "      <td>0.100</td>\n",
              "      <td>0.323125</td>\n",
              "      <td>0.358899</td>\n",
              "      <td>0.127830</td>\n",
              "      <td>0.083991</td>\n",
              "      <td>0.016678</td>\n",
              "      <td>0.834329</td>\n",
              "    </tr>\n",
              "    <tr>\n",
              "      <th>33</th>\n",
              "      <td>Leszno</td>\n",
              "      <td>266</td>\n",
              "      <td>0.614669</td>\n",
              "      <td>1969.70</td>\n",
              "      <td>0.148</td>\n",
              "      <td>0.296974</td>\n",
              "      <td>0.425248</td>\n",
              "      <td>0.088528</td>\n",
              "      <td>0.085591</td>\n",
              "      <td>0.019424</td>\n",
              "      <td>0.815033</td>\n",
              "    </tr>\n",
              "    <tr>\n",
              "      <th>17</th>\n",
              "      <td>ostrzeszowski</td>\n",
              "      <td>271</td>\n",
              "      <td>0.640974</td>\n",
              "      <td>1783.28</td>\n",
              "      <td>0.140</td>\n",
              "      <td>0.340949</td>\n",
              "      <td>0.463062</td>\n",
              "      <td>0.066007</td>\n",
              "      <td>0.089394</td>\n",
              "      <td>0.020917</td>\n",
              "      <td>0.810379</td>\n",
              "    </tr>\n",
              "    <tr>\n",
              "      <th>12</th>\n",
              "      <td>leszczyński</td>\n",
              "      <td>265</td>\n",
              "      <td>0.715630</td>\n",
              "      <td>1850.48</td>\n",
              "      <td>0.140</td>\n",
              "      <td>0.381076</td>\n",
              "      <td>0.427414</td>\n",
              "      <td>0.085224</td>\n",
              "      <td>0.086913</td>\n",
              "      <td>0.020779</td>\n",
              "      <td>0.807053</td>\n",
              "    </tr>\n",
              "    <tr>\n",
              "      <th>23</th>\n",
              "      <td>szamotulski</td>\n",
              "      <td>277</td>\n",
              "      <td>0.636074</td>\n",
              "      <td>2031.21</td>\n",
              "      <td>0.146</td>\n",
              "      <td>0.374053</td>\n",
              "      <td>0.428977</td>\n",
              "      <td>0.087879</td>\n",
              "      <td>0.085585</td>\n",
              "      <td>0.021036</td>\n",
              "      <td>0.802707</td>\n",
              "    </tr>\n",
              "    <tr>\n",
              "      <th>28</th>\n",
              "      <td>wolsztyński</td>\n",
              "      <td>280</td>\n",
              "      <td>0.757820</td>\n",
              "      <td>1532.20</td>\n",
              "      <td>0.135</td>\n",
              "      <td>0.380205</td>\n",
              "      <td>0.384430</td>\n",
              "      <td>0.082378</td>\n",
              "      <td>0.088220</td>\n",
              "      <td>0.022462</td>\n",
              "      <td>0.797061</td>\n",
              "    </tr>\n",
              "    <tr>\n",
              "      <th>25</th>\n",
              "      <td>śremski</td>\n",
              "      <td>285</td>\n",
              "      <td>0.617139</td>\n",
              "      <td>1821.54</td>\n",
              "      <td>0.155</td>\n",
              "      <td>0.373748</td>\n",
              "      <td>0.451580</td>\n",
              "      <td>0.074750</td>\n",
              "      <td>0.086958</td>\n",
              "      <td>0.023497</td>\n",
              "      <td>0.787268</td>\n",
              "    </tr>\n",
              "    <tr>\n",
              "      <th>24</th>\n",
              "      <td>średzki</td>\n",
              "      <td>284</td>\n",
              "      <td>0.652566</td>\n",
              "      <td>1919.95</td>\n",
              "      <td>0.182</td>\n",
              "      <td>0.342647</td>\n",
              "      <td>0.469901</td>\n",
              "      <td>0.067310</td>\n",
              "      <td>0.088020</td>\n",
              "      <td>0.024220</td>\n",
              "      <td>0.784216</td>\n",
              "    </tr>\n",
              "    <tr>\n",
              "      <th>21</th>\n",
              "      <td>rawicki</td>\n",
              "      <td>276</td>\n",
              "      <td>0.650416</td>\n",
              "      <td>1512.14</td>\n",
              "      <td>0.132</td>\n",
              "      <td>0.362693</td>\n",
              "      <td>0.451304</td>\n",
              "      <td>0.085950</td>\n",
              "      <td>0.085938</td>\n",
              "      <td>0.023682</td>\n",
              "      <td>0.783962</td>\n",
              "    </tr>\n",
              "    <tr>\n",
              "      <th>34</th>\n",
              "      <td>Poznań</td>\n",
              "      <td>274</td>\n",
              "      <td>0.603762</td>\n",
              "      <td>2395.19</td>\n",
              "      <td>0.069</td>\n",
              "      <td>0.261404</td>\n",
              "      <td>0.348723</td>\n",
              "      <td>0.164741</td>\n",
              "      <td>0.078782</td>\n",
              "      <td>0.021965</td>\n",
              "      <td>0.781982</td>\n",
              "    </tr>\n",
              "  </tbody>\n",
              "</table>\n",
              "</div>"
            ],
            "text/plain": [
              "          Powiaty   Id      X1_s  ...   d_minus    d_plus         R\n",
              "20      poznański  275  0.813250  ...  0.083991  0.016678  0.834329\n",
              "33         Leszno  266  0.614669  ...  0.085591  0.019424  0.815033\n",
              "17  ostrzeszowski  271  0.640974  ...  0.089394  0.020917  0.810379\n",
              "12    leszczyński  265  0.715630  ...  0.086913  0.020779  0.807053\n",
              "23    szamotulski  277  0.636074  ...  0.085585  0.021036  0.802707\n",
              "28    wolsztyński  280  0.757820  ...  0.088220  0.022462  0.797061\n",
              "25        śremski  285  0.617139  ...  0.086958  0.023497  0.787268\n",
              "24        średzki  284  0.652566  ...  0.088020  0.024220  0.784216\n",
              "21        rawicki  276  0.650416  ...  0.085938  0.023682  0.783962\n",
              "34         Poznań  274  0.603762  ...  0.078782  0.021965  0.781982\n",
              "\n",
              "[10 rows x 11 columns]"
            ]
          },
          "metadata": {
            "tags": []
          },
          "execution_count": 55
        }
      ]
    }
  ]
}
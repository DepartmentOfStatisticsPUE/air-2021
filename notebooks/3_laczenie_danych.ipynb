{
  "nbformat": 4,
  "nbformat_minor": 0,
  "metadata": {
    "colab": {
      "name": "3-laczenie-danych.ipynb",
      "provenance": [],
      "collapsed_sections": []
    },
    "kernelspec": {
      "name": "python3",
      "display_name": "Python 3"
    }
  },
  "cells": [
    {
      "cell_type": "markdown",
      "metadata": {
        "id": "utSpwl3VZfKW"
      },
      "source": [
        "Wczytujemy moduły potrzebne na dzisiejsze zajęcia\n"
      ]
    },
    {
      "cell_type": "code",
      "metadata": {
        "id": "-7-NedHPYtHy"
      },
      "source": [
        "import pandas as pd\n",
        "import numpy as np\n",
        "import os ## funkcja listdir\n",
        "import glob ## glob"
      ],
      "execution_count": 6,
      "outputs": []
    },
    {
      "cell_type": "markdown",
      "metadata": {
        "id": "7J1o2IJNZjZB"
      },
      "source": [
        "Wczytujemy dane na potrzeby zajęć - sprawdzamy ścieżki z modułem `os`\n",
        "\n"
      ]
    },
    {
      "cell_type": "code",
      "metadata": {
        "id": "LXK8mwMUZlVD",
        "outputId": "c028abfe-d697-4409-962e-c74b01508cbe",
        "colab": {
          "base_uri": "https://localhost:8080/"
        }
      },
      "source": [
        "os.listdir()"
      ],
      "execution_count": 4,
      "outputs": [
        {
          "output_type": "execute_result",
          "data": {
            "text/plain": [
              "['.config', 'wyn_2016.xlsx', 'wyn_2018.xlsx', 'sample_data']"
            ]
          },
          "metadata": {
            "tags": []
          },
          "execution_count": 4
        }
      ]
    },
    {
      "cell_type": "code",
      "metadata": {
        "id": "IQvLUmGyaAmo",
        "outputId": "6f6a18e0-cbef-407d-dd55-473f025fadb2",
        "colab": {
          "base_uri": "https://localhost:8080/",
          "height": 35
        }
      },
      "source": [
        "os.getcwd() "
      ],
      "execution_count": 13,
      "outputs": [
        {
          "output_type": "execute_result",
          "data": {
            "application/vnd.google.colaboratory.intrinsic+json": {
              "type": "string"
            },
            "text/plain": [
              "'/content'"
            ]
          },
          "metadata": {
            "tags": []
          },
          "execution_count": 13
        }
      ]
    },
    {
      "cell_type": "code",
      "metadata": {
        "id": "TJXimH8waSVK",
        "outputId": "dc99a4bd-3f69-4276-9630-d3125e425483",
        "colab": {
          "base_uri": "https://localhost:8080/",
          "height": 35
        }
      },
      "source": [
        "os.getcwd()  + \"/\" + os.listdir()[1]"
      ],
      "execution_count": 16,
      "outputs": [
        {
          "output_type": "execute_result",
          "data": {
            "application/vnd.google.colaboratory.intrinsic+json": {
              "type": "string"
            },
            "text/plain": [
              "'/content/wyn_2016.xlsx'"
            ]
          },
          "metadata": {
            "tags": []
          },
          "execution_count": 16
        }
      ]
    },
    {
      "cell_type": "markdown",
      "metadata": {
        "id": "EFg8ZwqfatUg"
      },
      "source": [
        "Znamy ścieżki to wczytujemy dane z 2016 i 2018 roku\n"
      ]
    },
    {
      "cell_type": "code",
      "metadata": {
        "id": "b4okCZTmaxNv",
        "outputId": "a8374218-617a-40a6-b191-6b489dbac50a",
        "colab": {
          "base_uri": "https://localhost:8080/",
          "height": 198
        }
      },
      "source": [
        "dane2016 = pd.read_excel(io = \"/content/wyn_2016.xlsx\", sheet_name = 1)\n",
        "dane2018 = pd.read_excel(io = \"/content/wyn_2018.xlsx\", sheet_name = 1)\n",
        "dane2018.head()"
      ],
      "execution_count": 17,
      "outputs": [
        {
          "output_type": "execute_result",
          "data": {
            "text/html": [
              "<div>\n",
              "<style scoped>\n",
              "    .dataframe tbody tr th:only-of-type {\n",
              "        vertical-align: middle;\n",
              "    }\n",
              "\n",
              "    .dataframe tbody tr th {\n",
              "        vertical-align: top;\n",
              "    }\n",
              "\n",
              "    .dataframe thead th {\n",
              "        text-align: right;\n",
              "    }\n",
              "</style>\n",
              "<table border=\"1\" class=\"dataframe\">\n",
              "  <thead>\n",
              "    <tr style=\"text-align: right;\">\n",
              "      <th></th>\n",
              "      <th>Kod</th>\n",
              "      <th>Nazwa</th>\n",
              "      <th>Wyszczególnienie</th>\n",
              "      <th>Rok</th>\n",
              "      <th>Wartosc</th>\n",
              "      <th>Jednostka miary</th>\n",
              "      <th>Atrybut</th>\n",
              "    </tr>\n",
              "  </thead>\n",
              "  <tbody>\n",
              "    <tr>\n",
              "      <th>0</th>\n",
              "      <td>201000</td>\n",
              "      <td>Powiat bolesławiecki</td>\n",
              "      <td>ogółem</td>\n",
              "      <td>2018</td>\n",
              "      <td>4214.66</td>\n",
              "      <td>zł</td>\n",
              "      <td></td>\n",
              "    </tr>\n",
              "    <tr>\n",
              "      <th>1</th>\n",
              "      <td>202000</td>\n",
              "      <td>Powiat dzierżoniowski</td>\n",
              "      <td>ogółem</td>\n",
              "      <td>2018</td>\n",
              "      <td>4024.94</td>\n",
              "      <td>zł</td>\n",
              "      <td></td>\n",
              "    </tr>\n",
              "    <tr>\n",
              "      <th>2</th>\n",
              "      <td>203000</td>\n",
              "      <td>Powiat głogowski</td>\n",
              "      <td>ogółem</td>\n",
              "      <td>2018</td>\n",
              "      <td>4077.69</td>\n",
              "      <td>zł</td>\n",
              "      <td></td>\n",
              "    </tr>\n",
              "    <tr>\n",
              "      <th>3</th>\n",
              "      <td>204000</td>\n",
              "      <td>Powiat górowski</td>\n",
              "      <td>ogółem</td>\n",
              "      <td>2018</td>\n",
              "      <td>3815.89</td>\n",
              "      <td>zł</td>\n",
              "      <td></td>\n",
              "    </tr>\n",
              "    <tr>\n",
              "      <th>4</th>\n",
              "      <td>205000</td>\n",
              "      <td>Powiat jaworski</td>\n",
              "      <td>ogółem</td>\n",
              "      <td>2018</td>\n",
              "      <td>4029.64</td>\n",
              "      <td>zł</td>\n",
              "      <td></td>\n",
              "    </tr>\n",
              "  </tbody>\n",
              "</table>\n",
              "</div>"
            ],
            "text/plain": [
              "      Kod                  Nazwa  ... Jednostka miary  Atrybut\n",
              "0  201000   Powiat bolesławiecki  ...              zł         \n",
              "1  202000  Powiat dzierżoniowski  ...              zł         \n",
              "2  203000       Powiat głogowski  ...              zł         \n",
              "3  204000        Powiat górowski  ...              zł         \n",
              "4  205000        Powiat jaworski  ...              zł         \n",
              "\n",
              "[5 rows x 7 columns]"
            ]
          },
          "metadata": {
            "tags": []
          },
          "execution_count": 17
        }
      ]
    },
    {
      "cell_type": "code",
      "metadata": {
        "id": "HCuXMG5gbRZU"
      },
      "source": [
        "pow2016=dane2016[[\"Kod\", \"Nazwa\", \"Wartosc\"]]\n",
        "pow2018=dane2018[[\"Kod\", \"Wartosc\"]]\n",
        "pow2016.rename(columns = {\"Wartosc\": \"Wartosc2016\"}, inplace = True)\n",
        "pow2018.rename(columns = {\"Wartosc\": \"Wartosc2018\"}, inplace = True)\n",
        "pow2016[\"Kod\"]=pow2016.Kod.astype(str).str.pad(width=7,side=\"left\", fillchar=\"0\")\n",
        "pow2018[\"Kod\"]=pow2018.Kod.astype(str).str.pad(width=7,side=\"left\", fillchar=\"0\")"
      ],
      "execution_count": null,
      "outputs": []
    },
    {
      "cell_type": "code",
      "metadata": {
        "id": "J6KsnFoFcEim",
        "outputId": "80d36f55-926c-428b-e93c-d1ad3e9e4b0b",
        "colab": {
          "base_uri": "https://localhost:8080/",
          "height": 198
        }
      },
      "source": [
        "pow2018.head()"
      ],
      "execution_count": 22,
      "outputs": [
        {
          "output_type": "execute_result",
          "data": {
            "text/html": [
              "<div>\n",
              "<style scoped>\n",
              "    .dataframe tbody tr th:only-of-type {\n",
              "        vertical-align: middle;\n",
              "    }\n",
              "\n",
              "    .dataframe tbody tr th {\n",
              "        vertical-align: top;\n",
              "    }\n",
              "\n",
              "    .dataframe thead th {\n",
              "        text-align: right;\n",
              "    }\n",
              "</style>\n",
              "<table border=\"1\" class=\"dataframe\">\n",
              "  <thead>\n",
              "    <tr style=\"text-align: right;\">\n",
              "      <th></th>\n",
              "      <th>Kod</th>\n",
              "      <th>Wartosc2018</th>\n",
              "    </tr>\n",
              "  </thead>\n",
              "  <tbody>\n",
              "    <tr>\n",
              "      <th>0</th>\n",
              "      <td>0201000</td>\n",
              "      <td>4214.66</td>\n",
              "    </tr>\n",
              "    <tr>\n",
              "      <th>1</th>\n",
              "      <td>0202000</td>\n",
              "      <td>4024.94</td>\n",
              "    </tr>\n",
              "    <tr>\n",
              "      <th>2</th>\n",
              "      <td>0203000</td>\n",
              "      <td>4077.69</td>\n",
              "    </tr>\n",
              "    <tr>\n",
              "      <th>3</th>\n",
              "      <td>0204000</td>\n",
              "      <td>3815.89</td>\n",
              "    </tr>\n",
              "    <tr>\n",
              "      <th>4</th>\n",
              "      <td>0205000</td>\n",
              "      <td>4029.64</td>\n",
              "    </tr>\n",
              "  </tbody>\n",
              "</table>\n",
              "</div>"
            ],
            "text/plain": [
              "       Kod  Wartosc2018\n",
              "0  0201000      4214.66\n",
              "1  0202000      4024.94\n",
              "2  0203000      4077.69\n",
              "3  0204000      3815.89\n",
              "4  0205000      4029.64"
            ]
          },
          "metadata": {
            "tags": []
          },
          "execution_count": 22
        }
      ]
    },
    {
      "cell_type": "code",
      "metadata": {
        "id": "wkV38KvecV6J",
        "outputId": "d19579b0-8899-466c-e14a-5827bb0f8ee2",
        "colab": {
          "base_uri": "https://localhost:8080/"
        }
      },
      "source": [
        "print(pow2016.shape)\n",
        "print(pow2018.shape)"
      ],
      "execution_count": 27,
      "outputs": [
        {
          "output_type": "stream",
          "text": [
            "(380, 3)\n",
            "(380, 2)\n"
          ],
          "name": "stdout"
        }
      ]
    },
    {
      "cell_type": "markdown",
      "metadata": {
        "id": "Cvaj2ITqcsjc"
      },
      "source": [
        "Aby w pythonie połączyć dwie bazy danych należy zastosować funkcję `pd.merge()`, która ma następujące argumenty:\n",
        "\n",
        "+ `left` -- zbiór danych z lewej strony\n",
        "+ `right` -- zbiór danych z prawej strony\n",
        "+ `how` -- jak łączymy dane (`inner`, `left`, `right`, `anti`)\n",
        "+ `on` -- klucze połączeniowe ale stosujemy wyłącznie gdy mamy te same nazwy w obydwu bazach danych\n",
        "+ `left_on` i `right_on` -- gdy nie mamy tych samych nazw\n"
      ]
    },
    {
      "cell_type": "code",
      "metadata": {
        "id": "3OTz4Uclcr4G",
        "outputId": "e4ca2bef-563f-4336-bfd3-05351a2ce7bd",
        "colab": {
          "base_uri": "https://localhost:8080/",
          "height": 215
        }
      },
      "source": [
        "wynik = pd.merge(left = pow2016, right = pow2018, how = \"inner\", on = \"Kod\")\n",
        "print(wynik.shape)\n",
        "wynik.head()"
      ],
      "execution_count": 28,
      "outputs": [
        {
          "output_type": "stream",
          "text": [
            "(380, 4)\n"
          ],
          "name": "stdout"
        },
        {
          "output_type": "execute_result",
          "data": {
            "text/html": [
              "<div>\n",
              "<style scoped>\n",
              "    .dataframe tbody tr th:only-of-type {\n",
              "        vertical-align: middle;\n",
              "    }\n",
              "\n",
              "    .dataframe tbody tr th {\n",
              "        vertical-align: top;\n",
              "    }\n",
              "\n",
              "    .dataframe thead th {\n",
              "        text-align: right;\n",
              "    }\n",
              "</style>\n",
              "<table border=\"1\" class=\"dataframe\">\n",
              "  <thead>\n",
              "    <tr style=\"text-align: right;\">\n",
              "      <th></th>\n",
              "      <th>Kod</th>\n",
              "      <th>Nazwa</th>\n",
              "      <th>Wartosc2016</th>\n",
              "      <th>Wartosc2018</th>\n",
              "    </tr>\n",
              "  </thead>\n",
              "  <tbody>\n",
              "    <tr>\n",
              "      <th>0</th>\n",
              "      <td>0201000</td>\n",
              "      <td>Powiat bolesławiecki</td>\n",
              "      <td>3666.19</td>\n",
              "      <td>4214.66</td>\n",
              "    </tr>\n",
              "    <tr>\n",
              "      <th>1</th>\n",
              "      <td>0202000</td>\n",
              "      <td>Powiat dzierżoniowski</td>\n",
              "      <td>3562.63</td>\n",
              "      <td>4024.94</td>\n",
              "    </tr>\n",
              "    <tr>\n",
              "      <th>2</th>\n",
              "      <td>0203000</td>\n",
              "      <td>Powiat głogowski</td>\n",
              "      <td>3723.59</td>\n",
              "      <td>4077.69</td>\n",
              "    </tr>\n",
              "    <tr>\n",
              "      <th>3</th>\n",
              "      <td>0204000</td>\n",
              "      <td>Powiat górowski</td>\n",
              "      <td>3386.93</td>\n",
              "      <td>3815.89</td>\n",
              "    </tr>\n",
              "    <tr>\n",
              "      <th>4</th>\n",
              "      <td>0205000</td>\n",
              "      <td>Powiat jaworski</td>\n",
              "      <td>3546.24</td>\n",
              "      <td>4029.64</td>\n",
              "    </tr>\n",
              "  </tbody>\n",
              "</table>\n",
              "</div>"
            ],
            "text/plain": [
              "       Kod                  Nazwa  Wartosc2016  Wartosc2018\n",
              "0  0201000   Powiat bolesławiecki      3666.19      4214.66\n",
              "1  0202000  Powiat dzierżoniowski      3562.63      4024.94\n",
              "2  0203000       Powiat głogowski      3723.59      4077.69\n",
              "3  0204000        Powiat górowski      3386.93      3815.89\n",
              "4  0205000        Powiat jaworski      3546.24      4029.64"
            ]
          },
          "metadata": {
            "tags": []
          },
          "execution_count": 28
        }
      ]
    },
    {
      "cell_type": "code",
      "metadata": {
        "id": "7hhIkIeseRkD",
        "outputId": "59321c1e-e406-450b-d020-e92c49ed1beb",
        "colab": {
          "base_uri": "https://localhost:8080/",
          "height": 296
        }
      },
      "source": [
        "wynik.plot.scatter(x = \"Wartosc2016\", y = \"Wartosc2018\")"
      ],
      "execution_count": 29,
      "outputs": [
        {
          "output_type": "execute_result",
          "data": {
            "text/plain": [
              "<matplotlib.axes._subplots.AxesSubplot at 0x7f7597bbe128>"
            ]
          },
          "metadata": {
            "tags": []
          },
          "execution_count": 29
        },
        {
          "output_type": "display_data",
          "data": {
            "image/png": "[encoded data removed]",
            "text/plain": [
              "<Figure size 432x288 with 1 Axes>"
            ]
          },
          "metadata": {
            "tags": [],
            "needs_background": "light"
          }
        }
      ]
    },
    {
      "cell_type": "code",
      "metadata": {
        "id": "aHuqnaZkeReV"
      },
      "source": [
        "## tworzymy wskaźnik pokazujacy jak procentowo zmieniły się wynagrodzenie\n",
        "wynik[\"wskaznik\"] = wynik.Wartosc2018 / wynik.Wartosc2016\n",
        "wynik.sort_values(by = \"wskaznik\", ascending = False, inplace = True)"
      ],
      "execution_count": 34,
      "outputs": []
    },
    {
      "cell_type": "code",
      "metadata": {
        "id": "LBrzhv8UfuMz",
        "outputId": "e15bee0a-63df-4afb-9f19-a5159604bbb2",
        "colab": {
          "base_uri": "https://localhost:8080/",
          "height": 198
        }
      },
      "source": [
        "wynik.head()"
      ],
      "execution_count": 35,
      "outputs": [
        {
          "output_type": "execute_result",
          "data": {
            "text/html": [
              "<div>\n",
              "<style scoped>\n",
              "    .dataframe tbody tr th:only-of-type {\n",
              "        vertical-align: middle;\n",
              "    }\n",
              "\n",
              "    .dataframe tbody tr th {\n",
              "        vertical-align: top;\n",
              "    }\n",
              "\n",
              "    .dataframe thead th {\n",
              "        text-align: right;\n",
              "    }\n",
              "</style>\n",
              "<table border=\"1\" class=\"dataframe\">\n",
              "  <thead>\n",
              "    <tr style=\"text-align: right;\">\n",
              "      <th></th>\n",
              "      <th>Kod</th>\n",
              "      <th>Nazwa</th>\n",
              "      <th>Wartosc2016</th>\n",
              "      <th>Wartosc2018</th>\n",
              "      <th>wskaznik</th>\n",
              "    </tr>\n",
              "  </thead>\n",
              "  <tbody>\n",
              "    <tr>\n",
              "      <th>276</th>\n",
              "      <td>2467000</td>\n",
              "      <td>Powiat m.Jastrzębie-Zdrój</td>\n",
              "      <td>6131.62</td>\n",
              "      <td>8121.08</td>\n",
              "      <td>1.324459</td>\n",
              "    </tr>\n",
              "    <tr>\n",
              "      <th>22</th>\n",
              "      <td>0223000</td>\n",
              "      <td>Powiat wrocławski</td>\n",
              "      <td>3964.54</td>\n",
              "      <td>4880.00</td>\n",
              "      <td>1.230912</td>\n",
              "    </tr>\n",
              "    <tr>\n",
              "      <th>328</th>\n",
              "      <td>3005000</td>\n",
              "      <td>Powiat grodziski</td>\n",
              "      <td>3006.21</td>\n",
              "      <td>3687.82</td>\n",
              "      <td>1.226734</td>\n",
              "    </tr>\n",
              "    <tr>\n",
              "      <th>83</th>\n",
              "      <td>0807000</td>\n",
              "      <td>Powiat sulęciński</td>\n",
              "      <td>3161.56</td>\n",
              "      <td>3829.00</td>\n",
              "      <td>1.211111</td>\n",
              "    </tr>\n",
              "    <tr>\n",
              "      <th>299</th>\n",
              "      <td>2611000</td>\n",
              "      <td>Powiat starachowicki</td>\n",
              "      <td>3444.11</td>\n",
              "      <td>4170.22</td>\n",
              "      <td>1.210827</td>\n",
              "    </tr>\n",
              "  </tbody>\n",
              "</table>\n",
              "</div>"
            ],
            "text/plain": [
              "         Kod                      Nazwa  Wartosc2016  Wartosc2018  wskaznik\n",
              "276  2467000  Powiat m.Jastrzębie-Zdrój      6131.62      8121.08  1.324459\n",
              "22   0223000          Powiat wrocławski      3964.54      4880.00  1.230912\n",
              "328  3005000           Powiat grodziski      3006.21      3687.82  1.226734\n",
              "83   0807000          Powiat sulęciński      3161.56      3829.00  1.211111\n",
              "299  2611000       Powiat starachowicki      3444.11      4170.22  1.210827"
            ]
          },
          "metadata": {
            "tags": []
          },
          "execution_count": 35
        }
      ]
    },
    {
      "cell_type": "markdown",
      "metadata": {
        "id": "KdiFPeUBhR7h"
      },
      "source": [
        "Wczytujemy dane o nieruchomościach za 2018 rok\n"
      ]
    },
    {
      "cell_type": "code",
      "metadata": {
        "id": "mizXeDwqhV_v",
        "outputId": "3e8572ba-5f40-4b67-c958-bcdae4e43695",
        "colab": {
          "base_uri": "https://localhost:8080/",
          "height": 302
        }
      },
      "source": [
        "nieruch=pd.read_excel(io = \"/content/rynek_nieruchomosci_2018.xlsx\", sheet_name=1)\n",
        "nieruch.rename(columns = {\"Transakcje rynkowe\": \"rynek\", \"Wartosc\":\"cena2018\"}, inplace = True)\n",
        "nieruch_sub=nieruch[[\"Kod\", \"rynek\", \"cena2018\"]]\n",
        "nieruch_sub[\"Kod\"]=nieruch_sub.Kod.astype(str).str.pad(width=7,side=\"left\", fillchar=\"0\")\n",
        "nieruch_sub.head()"
      ],
      "execution_count": 39,
      "outputs": [
        {
          "output_type": "stream",
          "text": [
            "/usr/local/lib/python3.6/dist-packages/ipykernel_launcher.py:4: SettingWithCopyWarning: \n",
            "A value is trying to be set on a copy of a slice from a DataFrame.\n",
            "Try using .loc[row_indexer,col_indexer] = value instead\n",
            "\n",
            "See the caveats in the documentation: https://pandas.pydata.org/pandas-docs/stable/user_guide/indexing.html#returning-a-view-versus-a-copy\n",
            "  after removing the cwd from sys.path.\n"
          ],
          "name": "stderr"
        },
        {
          "output_type": "execute_result",
          "data": {
            "text/html": [
              "<div>\n",
              "<style scoped>\n",
              "    .dataframe tbody tr th:only-of-type {\n",
              "        vertical-align: middle;\n",
              "    }\n",
              "\n",
              "    .dataframe tbody tr th {\n",
              "        vertical-align: top;\n",
              "    }\n",
              "\n",
              "    .dataframe thead th {\n",
              "        text-align: right;\n",
              "    }\n",
              "</style>\n",
              "<table border=\"1\" class=\"dataframe\">\n",
              "  <thead>\n",
              "    <tr style=\"text-align: right;\">\n",
              "      <th></th>\n",
              "      <th>Kod</th>\n",
              "      <th>rynek</th>\n",
              "      <th>cena2018</th>\n",
              "    </tr>\n",
              "  </thead>\n",
              "  <tbody>\n",
              "    <tr>\n",
              "      <th>0</th>\n",
              "      <td>0201000</td>\n",
              "      <td>rynek pierwotny</td>\n",
              "      <td>3442</td>\n",
              "    </tr>\n",
              "    <tr>\n",
              "      <th>1</th>\n",
              "      <td>0201000</td>\n",
              "      <td>rynek wtórny</td>\n",
              "      <td>2341</td>\n",
              "    </tr>\n",
              "    <tr>\n",
              "      <th>2</th>\n",
              "      <td>0202000</td>\n",
              "      <td>rynek pierwotny</td>\n",
              "      <td>2650</td>\n",
              "    </tr>\n",
              "    <tr>\n",
              "      <th>3</th>\n",
              "      <td>0202000</td>\n",
              "      <td>rynek wtórny</td>\n",
              "      <td>2148</td>\n",
              "    </tr>\n",
              "    <tr>\n",
              "      <th>4</th>\n",
              "      <td>0203000</td>\n",
              "      <td>rynek pierwotny</td>\n",
              "      <td>4150</td>\n",
              "    </tr>\n",
              "  </tbody>\n",
              "</table>\n",
              "</div>"
            ],
            "text/plain": [
              "       Kod            rynek  cena2018\n",
              "0  0201000  rynek pierwotny      3442\n",
              "1  0201000     rynek wtórny      2341\n",
              "2  0202000  rynek pierwotny      2650\n",
              "3  0202000     rynek wtórny      2148\n",
              "4  0203000  rynek pierwotny      4150"
            ]
          },
          "metadata": {
            "tags": []
          },
          "execution_count": 39
        }
      ]
    },
    {
      "cell_type": "code",
      "metadata": {
        "id": "sZ0Z_YtCjXDk",
        "outputId": "f2681dbd-c38a-4572-c66c-3bf8da06ddee",
        "colab": {
          "base_uri": "https://localhost:8080/"
        }
      },
      "source": [
        "nieruch_sub.rynek.value_counts()"
      ],
      "execution_count": 46,
      "outputs": [
        {
          "output_type": "execute_result",
          "data": {
            "text/plain": [
              "rynek wtórny       377\n",
              "rynek pierwotny    377\n",
              "Name: rynek, dtype: int64"
            ]
          },
          "metadata": {
            "tags": []
          },
          "execution_count": 46
        }
      ]
    },
    {
      "cell_type": "code",
      "metadata": {
        "id": "420Gz0AIidIy",
        "outputId": "aff97f28-3b87-4c7e-c398-492d3faba10f",
        "colab": {
          "base_uri": "https://localhost:8080/",
          "height": 215
        }
      },
      "source": [
        "# wybieramy podzbiór wierszy:\n",
        "## & -- koniunkcja, | - alternatywa\n",
        "## rynek == \"rynek pierwotny\"\n",
        "## cena2018 > 0 \n",
        "\n",
        "ryn_pierw = nieruch_sub[(nieruch_sub.rynek==\"rynek pierwotny\") & (nieruch_sub.cena2018 > 0)] \n",
        "print(ryn_pierw.shape)\n",
        "ryn_pierw.head()"
      ],
      "execution_count": 48,
      "outputs": [
        {
          "output_type": "stream",
          "text": [
            "(215, 3)\n"
          ],
          "name": "stdout"
        },
        {
          "output_type": "execute_result",
          "data": {
            "text/html": [
              "<div>\n",
              "<style scoped>\n",
              "    .dataframe tbody tr th:only-of-type {\n",
              "        vertical-align: middle;\n",
              "    }\n",
              "\n",
              "    .dataframe tbody tr th {\n",
              "        vertical-align: top;\n",
              "    }\n",
              "\n",
              "    .dataframe thead th {\n",
              "        text-align: right;\n",
              "    }\n",
              "</style>\n",
              "<table border=\"1\" class=\"dataframe\">\n",
              "  <thead>\n",
              "    <tr style=\"text-align: right;\">\n",
              "      <th></th>\n",
              "      <th>Kod</th>\n",
              "      <th>rynek</th>\n",
              "      <th>cena2018</th>\n",
              "    </tr>\n",
              "  </thead>\n",
              "  <tbody>\n",
              "    <tr>\n",
              "      <th>0</th>\n",
              "      <td>0201000</td>\n",
              "      <td>rynek pierwotny</td>\n",
              "      <td>3442</td>\n",
              "    </tr>\n",
              "    <tr>\n",
              "      <th>2</th>\n",
              "      <td>0202000</td>\n",
              "      <td>rynek pierwotny</td>\n",
              "      <td>2650</td>\n",
              "    </tr>\n",
              "    <tr>\n",
              "      <th>4</th>\n",
              "      <td>0203000</td>\n",
              "      <td>rynek pierwotny</td>\n",
              "      <td>4150</td>\n",
              "    </tr>\n",
              "    <tr>\n",
              "      <th>10</th>\n",
              "      <td>0206000</td>\n",
              "      <td>rynek pierwotny</td>\n",
              "      <td>9664</td>\n",
              "    </tr>\n",
              "    <tr>\n",
              "      <th>14</th>\n",
              "      <td>0208000</td>\n",
              "      <td>rynek pierwotny</td>\n",
              "      <td>11401</td>\n",
              "    </tr>\n",
              "  </tbody>\n",
              "</table>\n",
              "</div>"
            ],
            "text/plain": [
              "        Kod            rynek  cena2018\n",
              "0   0201000  rynek pierwotny      3442\n",
              "2   0202000  rynek pierwotny      2650\n",
              "4   0203000  rynek pierwotny      4150\n",
              "10  0206000  rynek pierwotny      9664\n",
              "14  0208000  rynek pierwotny     11401"
            ]
          },
          "metadata": {
            "tags": []
          },
          "execution_count": 48
        }
      ]
    },
    {
      "cell_type": "markdown",
      "metadata": {
        "id": "P3WWyDzGkhEx"
      },
      "source": [
        "1. Chcemy sprawdzić ile m2 możemy kupić za średnie miesięczne wyngrodzenie  -- tylko dla powiatów, które występują w obydwu zbiorach danych\n",
        "\n",
        "2. Chcemy sprawdzić w jakich powiatach nie zanotowano transakcji na rynku pierwotnym (do 40m2) w 2018 roku\n",
        "\n",
        "3. Zbudować bazę danych, w której będą wszystkie powiaty z 2016 i 2018 oraz informacje o cenie m2\n"
      ]
    },
    {
      "cell_type": "code",
      "metadata": {
        "id": "T4GPLpUFk_qE",
        "outputId": "dd31cba6-f616-4459-9777-e648c1f9a8a5",
        "colab": {
          "base_uri": "https://localhost:8080/",
          "height": 407
        }
      },
      "source": [
        "### ad1\n",
        "wynik_rynek = pd.merge(left = wynik, right = ryn_pierw, how = \"inner\", on = \"Kod\")\n",
        "wynik_rynek[\"ile_metrow\"] = wynik_rynek.Wartosc2018/wynik_rynek.cena2018\n",
        "wynik_rynek.sort_values(by = \"ile_metrow\", inplace=True, ascending=False)\n",
        "wynik_rynek[wynik_rynek.Nazwa == \"Powiat m.Poznań\"] ## dla poznania\n",
        "wynik_rynek"
      ],
      "execution_count": 57,
      "outputs": [
        {
          "output_type": "execute_result",
          "data": {
            "text/html": [
              "<div>\n",
              "<style scoped>\n",
              "    .dataframe tbody tr th:only-of-type {\n",
              "        vertical-align: middle;\n",
              "    }\n",
              "\n",
              "    .dataframe tbody tr th {\n",
              "        vertical-align: top;\n",
              "    }\n",
              "\n",
              "    .dataframe thead th {\n",
              "        text-align: right;\n",
              "    }\n",
              "</style>\n",
              "<table border=\"1\" class=\"dataframe\">\n",
              "  <thead>\n",
              "    <tr style=\"text-align: right;\">\n",
              "      <th></th>\n",
              "      <th>Kod</th>\n",
              "      <th>Nazwa</th>\n",
              "      <th>Wartosc2016</th>\n",
              "      <th>Wartosc2018</th>\n",
              "      <th>wskaznik</th>\n",
              "      <th>rynek</th>\n",
              "      <th>cena2018</th>\n",
              "      <th>ile_metrow</th>\n",
              "    </tr>\n",
              "  </thead>\n",
              "  <tbody>\n",
              "    <tr>\n",
              "      <th>208</th>\n",
              "      <td>1001000</td>\n",
              "      <td>Powiat bełchatowski</td>\n",
              "      <td>5778.97</td>\n",
              "      <td>6259.40</td>\n",
              "      <td>1.083134</td>\n",
              "      <td>rynek pierwotny</td>\n",
              "      <td>2680</td>\n",
              "      <td>2.335597</td>\n",
              "    </tr>\n",
              "    <tr>\n",
              "      <th>69</th>\n",
              "      <td>0265000</td>\n",
              "      <td>Powiat m.Wałbrzych od 2013</td>\n",
              "      <td>4180.67</td>\n",
              "      <td>4768.01</td>\n",
              "      <td>1.140489</td>\n",
              "      <td>rynek pierwotny</td>\n",
              "      <td>2475</td>\n",
              "      <td>1.926469</td>\n",
              "    </tr>\n",
              "    <tr>\n",
              "      <th>194</th>\n",
              "      <td>2468000</td>\n",
              "      <td>Powiat m.Jaworzno</td>\n",
              "      <td>5314.60</td>\n",
              "      <td>5848.34</td>\n",
              "      <td>1.100429</td>\n",
              "      <td>rynek pierwotny</td>\n",
              "      <td>3107</td>\n",
              "      <td>1.882311</td>\n",
              "    </tr>\n",
              "    <tr>\n",
              "      <th>187</th>\n",
              "      <td>0211000</td>\n",
              "      <td>Powiat lubiński</td>\n",
              "      <td>7170.21</td>\n",
              "      <td>7915.01</td>\n",
              "      <td>1.103874</td>\n",
              "      <td>rynek pierwotny</td>\n",
              "      <td>4354</td>\n",
              "      <td>1.817871</td>\n",
              "    </tr>\n",
              "    <tr>\n",
              "      <th>211</th>\n",
              "      <td>2462000</td>\n",
              "      <td>Powiat m.Bytom</td>\n",
              "      <td>4024.91</td>\n",
              "      <td>4322.58</td>\n",
              "      <td>1.073957</td>\n",
              "      <td>rynek pierwotny</td>\n",
              "      <td>2501</td>\n",
              "      <td>1.728341</td>\n",
              "    </tr>\n",
              "    <tr>\n",
              "      <th>...</th>\n",
              "      <td>...</td>\n",
              "      <td>...</td>\n",
              "      <td>...</td>\n",
              "      <td>...</td>\n",
              "      <td>...</td>\n",
              "      <td>...</td>\n",
              "      <td>...</td>\n",
              "      <td>...</td>\n",
              "    </tr>\n",
              "    <tr>\n",
              "      <th>85</th>\n",
              "      <td>0206000</td>\n",
              "      <td>Powiat jeleniogórski</td>\n",
              "      <td>3548.55</td>\n",
              "      <td>4035.56</td>\n",
              "      <td>1.137242</td>\n",
              "      <td>rynek pierwotny</td>\n",
              "      <td>9664</td>\n",
              "      <td>0.417587</td>\n",
              "    </tr>\n",
              "    <tr>\n",
              "      <th>91</th>\n",
              "      <td>1210000</td>\n",
              "      <td>Powiat nowosądecki</td>\n",
              "      <td>3240.29</td>\n",
              "      <td>3681.50</td>\n",
              "      <td>1.136164</td>\n",
              "      <td>rynek pierwotny</td>\n",
              "      <td>9769</td>\n",
              "      <td>0.376855</td>\n",
              "    </tr>\n",
              "    <tr>\n",
              "      <th>192</th>\n",
              "      <td>3209000</td>\n",
              "      <td>Powiat koszaliński</td>\n",
              "      <td>3558.15</td>\n",
              "      <td>3919.20</td>\n",
              "      <td>1.101471</td>\n",
              "      <td>rynek pierwotny</td>\n",
              "      <td>10423</td>\n",
              "      <td>0.376015</td>\n",
              "    </tr>\n",
              "    <tr>\n",
              "      <th>45</th>\n",
              "      <td>0208000</td>\n",
              "      <td>Powiat kłodzki</td>\n",
              "      <td>3526.67</td>\n",
              "      <td>4054.23</td>\n",
              "      <td>1.149592</td>\n",
              "      <td>rynek pierwotny</td>\n",
              "      <td>11401</td>\n",
              "      <td>0.355603</td>\n",
              "    </tr>\n",
              "    <tr>\n",
              "      <th>90</th>\n",
              "      <td>1217000</td>\n",
              "      <td>Powiat tatrzański</td>\n",
              "      <td>3687.87</td>\n",
              "      <td>4190.35</td>\n",
              "      <td>1.136252</td>\n",
              "      <td>rynek pierwotny</td>\n",
              "      <td>15504</td>\n",
              "      <td>0.270275</td>\n",
              "    </tr>\n",
              "  </tbody>\n",
              "</table>\n",
              "<p>215 rows × 8 columns</p>\n",
              "</div>"
            ],
            "text/plain": [
              "         Kod                       Nazwa  ...  cena2018  ile_metrow\n",
              "208  1001000         Powiat bełchatowski  ...      2680    2.335597\n",
              "69   0265000  Powiat m.Wałbrzych od 2013  ...      2475    1.926469\n",
              "194  2468000           Powiat m.Jaworzno  ...      3107    1.882311\n",
              "187  0211000             Powiat lubiński  ...      4354    1.817871\n",
              "211  2462000              Powiat m.Bytom  ...      2501    1.728341\n",
              "..       ...                         ...  ...       ...         ...\n",
              "85   0206000        Powiat jeleniogórski  ...      9664    0.417587\n",
              "91   1210000          Powiat nowosądecki  ...      9769    0.376855\n",
              "192  3209000          Powiat koszaliński  ...     10423    0.376015\n",
              "45   0208000              Powiat kłodzki  ...     11401    0.355603\n",
              "90   1217000           Powiat tatrzański  ...     15504    0.270275\n",
              "\n",
              "[215 rows x 8 columns]"
            ]
          },
          "metadata": {
            "tags": []
          },
          "execution_count": 57
        }
      ]
    },
    {
      "cell_type": "code",
      "metadata": {
        "id": "sQuYnEDjmyij",
        "outputId": "01d92f46-dc13-454c-bbeb-e0e3d16a77fc",
        "colab": {
          "base_uri": "https://localhost:8080/",
          "height": 407
        }
      },
      "source": [
        "## ad3 i ad2 -- left join i wywalić te rekordy dla których jest brak danych (NaN albo Null)\n",
        "wynik_rynek_brak = pd.merge(left = wynik, right = ryn_pierw, how = \"left\", on = \"Kod\")\n",
        "wynik_rynek_brak[wynik_rynek_brak.rynek.isna()]"
      ],
      "execution_count": 68,
      "outputs": [
        {
          "output_type": "execute_result",
          "data": {
            "text/html": [
              "<div>\n",
              "<style scoped>\n",
              "    .dataframe tbody tr th:only-of-type {\n",
              "        vertical-align: middle;\n",
              "    }\n",
              "\n",
              "    .dataframe tbody tr th {\n",
              "        vertical-align: top;\n",
              "    }\n",
              "\n",
              "    .dataframe thead th {\n",
              "        text-align: right;\n",
              "    }\n",
              "</style>\n",
              "<table border=\"1\" class=\"dataframe\">\n",
              "  <thead>\n",
              "    <tr style=\"text-align: right;\">\n",
              "      <th></th>\n",
              "      <th>Kod</th>\n",
              "      <th>Nazwa</th>\n",
              "      <th>Wartosc2016</th>\n",
              "      <th>Wartosc2018</th>\n",
              "      <th>wskaznik</th>\n",
              "      <th>rynek</th>\n",
              "      <th>cena2018</th>\n",
              "    </tr>\n",
              "  </thead>\n",
              "  <tbody>\n",
              "    <tr>\n",
              "      <th>0</th>\n",
              "      <td>2467000</td>\n",
              "      <td>Powiat m.Jastrzębie-Zdrój</td>\n",
              "      <td>6131.62</td>\n",
              "      <td>8121.08</td>\n",
              "      <td>1.324459</td>\n",
              "      <td>NaN</td>\n",
              "      <td>NaN</td>\n",
              "    </tr>\n",
              "    <tr>\n",
              "      <th>3</th>\n",
              "      <td>0807000</td>\n",
              "      <td>Powiat sulęciński</td>\n",
              "      <td>3161.56</td>\n",
              "      <td>3829.00</td>\n",
              "      <td>1.211111</td>\n",
              "      <td>NaN</td>\n",
              "      <td>NaN</td>\n",
              "    </tr>\n",
              "    <tr>\n",
              "      <th>4</th>\n",
              "      <td>2611000</td>\n",
              "      <td>Powiat starachowicki</td>\n",
              "      <td>3444.11</td>\n",
              "      <td>4170.22</td>\n",
              "      <td>1.210827</td>\n",
              "      <td>NaN</td>\n",
              "      <td>NaN</td>\n",
              "    </tr>\n",
              "    <tr>\n",
              "      <th>5</th>\n",
              "      <td>0222000</td>\n",
              "      <td>Powiat wołowski</td>\n",
              "      <td>4202.10</td>\n",
              "      <td>5086.07</td>\n",
              "      <td>1.210364</td>\n",
              "      <td>NaN</td>\n",
              "      <td>NaN</td>\n",
              "    </tr>\n",
              "    <tr>\n",
              "      <th>6</th>\n",
              "      <td>2407000</td>\n",
              "      <td>Powiat lubliniecki</td>\n",
              "      <td>3558.10</td>\n",
              "      <td>4296.91</td>\n",
              "      <td>1.207642</td>\n",
              "      <td>NaN</td>\n",
              "      <td>NaN</td>\n",
              "    </tr>\n",
              "    <tr>\n",
              "      <th>...</th>\n",
              "      <td>...</td>\n",
              "      <td>...</td>\n",
              "      <td>...</td>\n",
              "      <td>...</td>\n",
              "      <td>...</td>\n",
              "      <td>...</td>\n",
              "      <td>...</td>\n",
              "    </tr>\n",
              "    <tr>\n",
              "      <th>368</th>\n",
              "      <td>0221000</td>\n",
              "      <td>Powiat wałbrzyski</td>\n",
              "      <td>3528.00</td>\n",
              "      <td>3825.44</td>\n",
              "      <td>1.084308</td>\n",
              "      <td>NaN</td>\n",
              "      <td>NaN</td>\n",
              "    </tr>\n",
              "    <tr>\n",
              "      <th>369</th>\n",
              "      <td>2612000</td>\n",
              "      <td>Powiat staszowski</td>\n",
              "      <td>3939.91</td>\n",
              "      <td>4271.73</td>\n",
              "      <td>1.084220</td>\n",
              "      <td>NaN</td>\n",
              "      <td>NaN</td>\n",
              "    </tr>\n",
              "    <tr>\n",
              "      <th>373</th>\n",
              "      <td>0619000</td>\n",
              "      <td>Powiat włodawski</td>\n",
              "      <td>3389.98</td>\n",
              "      <td>3658.82</td>\n",
              "      <td>1.079304</td>\n",
              "      <td>NaN</td>\n",
              "      <td>NaN</td>\n",
              "    </tr>\n",
              "    <tr>\n",
              "      <th>375</th>\n",
              "      <td>0620000</td>\n",
              "      <td>Powiat zamojski</td>\n",
              "      <td>3243.03</td>\n",
              "      <td>3474.14</td>\n",
              "      <td>1.071264</td>\n",
              "      <td>NaN</td>\n",
              "      <td>NaN</td>\n",
              "    </tr>\n",
              "    <tr>\n",
              "      <th>377</th>\n",
              "      <td>1603000</td>\n",
              "      <td>Powiat kędzierzyńsko-kozielski</td>\n",
              "      <td>4627.08</td>\n",
              "      <td>4928.19</td>\n",
              "      <td>1.065076</td>\n",
              "      <td>NaN</td>\n",
              "      <td>NaN</td>\n",
              "    </tr>\n",
              "  </tbody>\n",
              "</table>\n",
              "<p>165 rows × 7 columns</p>\n",
              "</div>"
            ],
            "text/plain": [
              "         Kod                           Nazwa  ...  rynek  cena2018\n",
              "0    2467000       Powiat m.Jastrzębie-Zdrój  ...    NaN       NaN\n",
              "3    0807000               Powiat sulęciński  ...    NaN       NaN\n",
              "4    2611000            Powiat starachowicki  ...    NaN       NaN\n",
              "5    0222000                 Powiat wołowski  ...    NaN       NaN\n",
              "6    2407000              Powiat lubliniecki  ...    NaN       NaN\n",
              "..       ...                             ...  ...    ...       ...\n",
              "368  0221000               Powiat wałbrzyski  ...    NaN       NaN\n",
              "369  2612000               Powiat staszowski  ...    NaN       NaN\n",
              "373  0619000                Powiat włodawski  ...    NaN       NaN\n",
              "375  0620000                 Powiat zamojski  ...    NaN       NaN\n",
              "377  1603000  Powiat kędzierzyńsko-kozielski  ...    NaN       NaN\n",
              "\n",
              "[165 rows x 7 columns]"
            ]
          },
          "metadata": {
            "tags": []
          },
          "execution_count": 68
        }
      ]
    }
  ]
}
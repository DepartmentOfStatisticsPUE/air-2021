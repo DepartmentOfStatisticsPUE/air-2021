{
  "nbformat": 4,
  "nbformat_minor": 0,
  "metadata": {
    "colab": {
      "name": "2-dane-powiaty.ipynb",
      "provenance": [],
      "collapsed_sections": []
    },
    "kernelspec": {
      "name": "python3",
      "display_name": "Python 3"
    }
  },
  "cells": [
    {
      "cell_type": "code",
      "metadata": {
        "id": "MXid2Wx-Up67"
      },
      "source": [
        "import pandas as pd\n",
        "import numpy as np"
      ],
      "execution_count": 1,
      "outputs": []
    },
    {
      "cell_type": "markdown",
      "metadata": {
        "id": "W4JdY7OoU3Zj"
      },
      "source": [
        "Wczytujemy dane do pythona"
      ]
    },
    {
      "cell_type": "code",
      "metadata": {
        "id": "HlaXU-taU5YU",
        "outputId": "3fb0557a-95fe-4f84-a25a-0e832b590437",
        "colab": {
          "base_uri": "https://localhost:8080/",
          "height": 198
        }
      },
      "source": [
        "bez_rej = pd.read_excel(io = \"local_bez_rej.xlsx\", sheet_name = 1)\n",
        "bez_rej.head()"
      ],
      "execution_count": 2,
      "outputs": [
        {
          "output_type": "execute_result",
          "data": {
            "text/html": [
              "<div>\n",
              "<style scoped>\n",
              "    .dataframe tbody tr th:only-of-type {\n",
              "        vertical-align: middle;\n",
              "    }\n",
              "\n",
              "    .dataframe tbody tr th {\n",
              "        vertical-align: top;\n",
              "    }\n",
              "\n",
              "    .dataframe thead th {\n",
              "        text-align: right;\n",
              "    }\n",
              "</style>\n",
              "<table border=\"1\" class=\"dataframe\">\n",
              "  <thead>\n",
              "    <tr style=\"text-align: right;\">\n",
              "      <th></th>\n",
              "      <th>Kod</th>\n",
              "      <th>Nazwa</th>\n",
              "      <th>Ogółem</th>\n",
              "      <th>Rok</th>\n",
              "      <th>Wartosc</th>\n",
              "      <th>Jednostka miary</th>\n",
              "      <th>Atrybut</th>\n",
              "    </tr>\n",
              "  </thead>\n",
              "  <tbody>\n",
              "    <tr>\n",
              "      <th>0</th>\n",
              "      <td>201000</td>\n",
              "      <td>Powiat bolesławiecki</td>\n",
              "      <td>ogółem</td>\n",
              "      <td>2018</td>\n",
              "      <td>3.8</td>\n",
              "      <td>%</td>\n",
              "      <td></td>\n",
              "    </tr>\n",
              "    <tr>\n",
              "      <th>1</th>\n",
              "      <td>202000</td>\n",
              "      <td>Powiat dzierżoniowski</td>\n",
              "      <td>ogółem</td>\n",
              "      <td>2018</td>\n",
              "      <td>6.1</td>\n",
              "      <td>%</td>\n",
              "      <td></td>\n",
              "    </tr>\n",
              "    <tr>\n",
              "      <th>2</th>\n",
              "      <td>203000</td>\n",
              "      <td>Powiat głogowski</td>\n",
              "      <td>ogółem</td>\n",
              "      <td>2018</td>\n",
              "      <td>8.9</td>\n",
              "      <td>%</td>\n",
              "      <td></td>\n",
              "    </tr>\n",
              "    <tr>\n",
              "      <th>3</th>\n",
              "      <td>204000</td>\n",
              "      <td>Powiat górowski</td>\n",
              "      <td>ogółem</td>\n",
              "      <td>2018</td>\n",
              "      <td>15.3</td>\n",
              "      <td>%</td>\n",
              "      <td></td>\n",
              "    </tr>\n",
              "    <tr>\n",
              "      <th>4</th>\n",
              "      <td>205000</td>\n",
              "      <td>Powiat jaworski</td>\n",
              "      <td>ogółem</td>\n",
              "      <td>2018</td>\n",
              "      <td>12.4</td>\n",
              "      <td>%</td>\n",
              "      <td></td>\n",
              "    </tr>\n",
              "  </tbody>\n",
              "</table>\n",
              "</div>"
            ],
            "text/plain": [
              "      Kod                  Nazwa  Ogółem   Rok  Wartosc Jednostka miary Atrybut\n",
              "0  201000   Powiat bolesławiecki  ogółem  2018      3.8               %        \n",
              "1  202000  Powiat dzierżoniowski  ogółem  2018      6.1               %        \n",
              "2  203000       Powiat głogowski  ogółem  2018      8.9               %        \n",
              "3  204000        Powiat górowski  ogółem  2018     15.3               %        \n",
              "4  205000        Powiat jaworski  ogółem  2018     12.4               %        "
            ]
          },
          "metadata": {
            "tags": []
          },
          "execution_count": 2
        }
      ]
    },
    {
      "cell_type": "code",
      "metadata": {
        "id": "zocDRF2oVW-p"
      },
      "source": [
        "ryn_nier = pd.read_excel(io = \"local_rynek_nieruchomosci.xlsx\", sheet_name = 1)\n",
        "wynag = pd.read_excel(io = \"local_wynagrodzenia.xlsx\", sheet_name = 1)"
      ],
      "execution_count": 3,
      "outputs": []
    },
    {
      "cell_type": "markdown",
      "metadata": {
        "id": "YncIdopJXJhm"
      },
      "source": [
        "Jakie zmiany musimy wprowadzić naszego zbioru danych\n",
        "\n",
        "1. Nasz kod jednostki to TERYT ale python potraktował go jak zmienną numeryczną. Musimy zmienić jej typ na typ string i dołożyć zero z przodu.\n",
        "2. Nie potrzebujemy wszystkich kolumn.\n",
        "3. Nazwy kolumn są źle przygotowane i nalezy je zmienić.\n",
        "4. Dane chcemy połączyć w jedna bazę danych.\n",
        "5. Celem jest zbadanie zależności miedzy poszczególnymi zmienny."
      ]
    },
    {
      "cell_type": "code",
      "metadata": {
        "id": "uPN5Fq7AYVCx",
        "outputId": "a2336429-d2bc-45e3-9475-8acc7daa3bdd",
        "colab": {
          "base_uri": "https://localhost:8080/",
          "height": 198
        }
      },
      "source": [
        "## zmieniamy typ zmiennej z numeric na string\n",
        "bez_rej[\"Kod\"] = bez_rej[\"Kod\"].astype(str) ## apply(str)\n",
        "### używamy funkcji str.pad do dodania zer z przodu\n",
        "bez_rej[\"Kod\"] = bez_rej.Kod.str.pad(width=7, side = 'left', fillchar='0')\n",
        "bez_rej.head()"
      ],
      "execution_count": 11,
      "outputs": [
        {
          "output_type": "execute_result",
          "data": {
            "text/html": [
              "<div>\n",
              "<style scoped>\n",
              "    .dataframe tbody tr th:only-of-type {\n",
              "        vertical-align: middle;\n",
              "    }\n",
              "\n",
              "    .dataframe tbody tr th {\n",
              "        vertical-align: top;\n",
              "    }\n",
              "\n",
              "    .dataframe thead th {\n",
              "        text-align: right;\n",
              "    }\n",
              "</style>\n",
              "<table border=\"1\" class=\"dataframe\">\n",
              "  <thead>\n",
              "    <tr style=\"text-align: right;\">\n",
              "      <th></th>\n",
              "      <th>Kod</th>\n",
              "      <th>Nazwa</th>\n",
              "      <th>Ogółem</th>\n",
              "      <th>Rok</th>\n",
              "      <th>Wartosc</th>\n",
              "      <th>Jednostka miary</th>\n",
              "      <th>Atrybut</th>\n",
              "    </tr>\n",
              "  </thead>\n",
              "  <tbody>\n",
              "    <tr>\n",
              "      <th>0</th>\n",
              "      <td>0201000</td>\n",
              "      <td>Powiat bolesławiecki</td>\n",
              "      <td>ogółem</td>\n",
              "      <td>2018</td>\n",
              "      <td>3.8</td>\n",
              "      <td>%</td>\n",
              "      <td></td>\n",
              "    </tr>\n",
              "    <tr>\n",
              "      <th>1</th>\n",
              "      <td>0202000</td>\n",
              "      <td>Powiat dzierżoniowski</td>\n",
              "      <td>ogółem</td>\n",
              "      <td>2018</td>\n",
              "      <td>6.1</td>\n",
              "      <td>%</td>\n",
              "      <td></td>\n",
              "    </tr>\n",
              "    <tr>\n",
              "      <th>2</th>\n",
              "      <td>0203000</td>\n",
              "      <td>Powiat głogowski</td>\n",
              "      <td>ogółem</td>\n",
              "      <td>2018</td>\n",
              "      <td>8.9</td>\n",
              "      <td>%</td>\n",
              "      <td></td>\n",
              "    </tr>\n",
              "    <tr>\n",
              "      <th>3</th>\n",
              "      <td>0204000</td>\n",
              "      <td>Powiat górowski</td>\n",
              "      <td>ogółem</td>\n",
              "      <td>2018</td>\n",
              "      <td>15.3</td>\n",
              "      <td>%</td>\n",
              "      <td></td>\n",
              "    </tr>\n",
              "    <tr>\n",
              "      <th>4</th>\n",
              "      <td>0205000</td>\n",
              "      <td>Powiat jaworski</td>\n",
              "      <td>ogółem</td>\n",
              "      <td>2018</td>\n",
              "      <td>12.4</td>\n",
              "      <td>%</td>\n",
              "      <td></td>\n",
              "    </tr>\n",
              "  </tbody>\n",
              "</table>\n",
              "</div>"
            ],
            "text/plain": [
              "       Kod                  Nazwa  Ogółem  ...  Wartosc  Jednostka miary Atrybut\n",
              "0  0201000   Powiat bolesławiecki  ogółem  ...      3.8                %        \n",
              "1  0202000  Powiat dzierżoniowski  ogółem  ...      6.1                %        \n",
              "2  0203000       Powiat głogowski  ogółem  ...      8.9                %        \n",
              "3  0204000        Powiat górowski  ogółem  ...     15.3                %        \n",
              "4  0205000        Powiat jaworski  ogółem  ...     12.4                %        \n",
              "\n",
              "[5 rows x 7 columns]"
            ]
          },
          "metadata": {
            "tags": []
          },
          "execution_count": 11
        }
      ]
    },
    {
      "cell_type": "markdown",
      "metadata": {
        "id": "5dLeV5djYeIV"
      },
      "source": [
        "Spróbujmy zrobić zmianę typu i dodanie zer w jednym kroku"
      ]
    },
    {
      "cell_type": "code",
      "metadata": {
        "id": "kNev2MhsZ5bz",
        "outputId": "05a229e5-20f0-4e1b-9378-d335cedda3cb",
        "colab": {
          "base_uri": "https://localhost:8080/",
          "height": 198
        }
      },
      "source": [
        "ryn_nier[\"Kod\"] = ryn_nier.Kod.astype(str).str.pad(width = 7, side = 'left', fillchar = '0')\n",
        "wynag[\"Kod\"] = wynag[\"Kod\"].astype(str).str.pad(width = 7, side = 'left', fillchar = '0')\n",
        "wynag.head()"
      ],
      "execution_count": 20,
      "outputs": [
        {
          "output_type": "execute_result",
          "data": {
            "text/html": [
              "<div>\n",
              "<style scoped>\n",
              "    .dataframe tbody tr th:only-of-type {\n",
              "        vertical-align: middle;\n",
              "    }\n",
              "\n",
              "    .dataframe tbody tr th {\n",
              "        vertical-align: top;\n",
              "    }\n",
              "\n",
              "    .dataframe thead th {\n",
              "        text-align: right;\n",
              "    }\n",
              "</style>\n",
              "<table border=\"1\" class=\"dataframe\">\n",
              "  <thead>\n",
              "    <tr style=\"text-align: right;\">\n",
              "      <th></th>\n",
              "      <th>Kod</th>\n",
              "      <th>Nazwa</th>\n",
              "      <th>Wyszczególnienie</th>\n",
              "      <th>Rok</th>\n",
              "      <th>Wartosc</th>\n",
              "      <th>Jednostka miary</th>\n",
              "      <th>Atrybut</th>\n",
              "    </tr>\n",
              "  </thead>\n",
              "  <tbody>\n",
              "    <tr>\n",
              "      <th>0</th>\n",
              "      <td>0201000</td>\n",
              "      <td>Powiat bolesławiecki</td>\n",
              "      <td>ogółem</td>\n",
              "      <td>2018</td>\n",
              "      <td>4214.66</td>\n",
              "      <td>zł</td>\n",
              "      <td></td>\n",
              "    </tr>\n",
              "    <tr>\n",
              "      <th>1</th>\n",
              "      <td>0202000</td>\n",
              "      <td>Powiat dzierżoniowski</td>\n",
              "      <td>ogółem</td>\n",
              "      <td>2018</td>\n",
              "      <td>4024.94</td>\n",
              "      <td>zł</td>\n",
              "      <td></td>\n",
              "    </tr>\n",
              "    <tr>\n",
              "      <th>2</th>\n",
              "      <td>0203000</td>\n",
              "      <td>Powiat głogowski</td>\n",
              "      <td>ogółem</td>\n",
              "      <td>2018</td>\n",
              "      <td>4077.69</td>\n",
              "      <td>zł</td>\n",
              "      <td></td>\n",
              "    </tr>\n",
              "    <tr>\n",
              "      <th>3</th>\n",
              "      <td>0204000</td>\n",
              "      <td>Powiat górowski</td>\n",
              "      <td>ogółem</td>\n",
              "      <td>2018</td>\n",
              "      <td>3815.89</td>\n",
              "      <td>zł</td>\n",
              "      <td></td>\n",
              "    </tr>\n",
              "    <tr>\n",
              "      <th>4</th>\n",
              "      <td>0205000</td>\n",
              "      <td>Powiat jaworski</td>\n",
              "      <td>ogółem</td>\n",
              "      <td>2018</td>\n",
              "      <td>4029.64</td>\n",
              "      <td>zł</td>\n",
              "      <td></td>\n",
              "    </tr>\n",
              "  </tbody>\n",
              "</table>\n",
              "</div>"
            ],
            "text/plain": [
              "       Kod                  Nazwa  ... Jednostka miary  Atrybut\n",
              "0  0201000   Powiat bolesławiecki  ...              zł         \n",
              "1  0202000  Powiat dzierżoniowski  ...              zł         \n",
              "2  0203000       Powiat głogowski  ...              zł         \n",
              "3  0204000        Powiat górowski  ...              zł         \n",
              "4  0205000        Powiat jaworski  ...              zł         \n",
              "\n",
              "[5 rows x 7 columns]"
            ]
          },
          "metadata": {
            "tags": []
          },
          "execution_count": 20
        }
      ]
    },
    {
      "cell_type": "markdown",
      "metadata": {
        "id": "P3JHi3tVazRw"
      },
      "source": [
        "Tworzymy podzbiory na potrzeby dalszych analiz\n",
        "\n",
        "```\n",
        "A[\"zmienna\"]\n",
        "```\n",
        "\n",
        "```\n",
        "A[[\"zmienna\"]]\n",
        "```\n",
        "\n",
        "```\n",
        "A[ [\"zmienna1\", \"zmienna2\", ...] ]\n",
        "```"
      ]
    },
    {
      "cell_type": "code",
      "metadata": {
        "id": "DB0uLnaGayn3"
      },
      "source": [
        "pow_bez_rej = bez_rej[ [\"Kod\", \"Nazwa\", \"Wartosc\"] ]\n",
        "pow_ryn_nier = ryn_nier[[\"Kod\", \"Transakcje rynkowe\", \"Wartosc\"]]\n",
        "pow_wynag = wynag[[\"Kod\", \"Wartosc\"]]"
      ],
      "execution_count": 25,
      "outputs": []
    },
    {
      "cell_type": "markdown",
      "metadata": {
        "id": "uupk3FIuc19f"
      },
      "source": [
        "Jak powinny nazywać się kolumny?\n",
        "\n",
        "\n",
        "*  unikać polskich słów -- \"Wartość\" => \"wartosc\"\n",
        "*  nie powinno być spacji -- \"Rynek nieruchomosci\" => \"rynek_nieruchomosci\", \"rynekNieruchomosci\"\n",
        "* nie powinno być znaków specjalnych -- \"Rynek w $\" => \"rynek_dolar\"\n",
        "* zmienne z latami -- \"StopaBezr2018\", \"stopa_bezr_2019\" => \"stopa_bezr_2018\", \"stopa_bezr_2019\"\n",
        "\n",
        "\n"
      ]
    },
    {
      "cell_type": "code",
      "metadata": {
        "id": "gi3EiYh2aeIR",
        "outputId": "b6ec2570-f88f-452a-c8ea-43c5a8e997ec",
        "colab": {
          "base_uri": "https://localhost:8080/",
          "height": 285
        }
      },
      "source": [
        "## zmieniamy nazwy kolumn\n",
        "pow_bez_rej.rename(columns = {\"Kod\":\"kod\", \"Nazwa\":\"nazwa\", \"Wartosc\": \"stopa_bezr\"}, inplace=True)\n",
        "pow_ryn_nier.rename(columns = {\"Kod\":\"kod\", \"Transakcje rynkowe\": \"rynek\", \"Wartosc\":\"mediana\"}, inplace=True)\n",
        "pow_wynag.rename(columns = {\"Kod\":\"kod\", \"Wartosc\":\"wynagrodzenie\"}, inplace=True)\n",
        "pow_wynag.head()"
      ],
      "execution_count": 32,
      "outputs": [
        {
          "output_type": "stream",
          "text": [
            "/usr/local/lib/python3.6/dist-packages/pandas/core/frame.py:4303: SettingWithCopyWarning: \n",
            "A value is trying to be set on a copy of a slice from a DataFrame\n",
            "\n",
            "See the caveats in the documentation: https://pandas.pydata.org/pandas-docs/stable/user_guide/indexing.html#returning-a-view-versus-a-copy\n",
            "  errors=errors,\n"
          ],
          "name": "stderr"
        },
        {
          "output_type": "execute_result",
          "data": {
            "text/html": [
              "<div>\n",
              "<style scoped>\n",
              "    .dataframe tbody tr th:only-of-type {\n",
              "        vertical-align: middle;\n",
              "    }\n",
              "\n",
              "    .dataframe tbody tr th {\n",
              "        vertical-align: top;\n",
              "    }\n",
              "\n",
              "    .dataframe thead th {\n",
              "        text-align: right;\n",
              "    }\n",
              "</style>\n",
              "<table border=\"1\" class=\"dataframe\">\n",
              "  <thead>\n",
              "    <tr style=\"text-align: right;\">\n",
              "      <th></th>\n",
              "      <th>kod</th>\n",
              "      <th>wynagrodzenie</th>\n",
              "    </tr>\n",
              "  </thead>\n",
              "  <tbody>\n",
              "    <tr>\n",
              "      <th>0</th>\n",
              "      <td>0201000</td>\n",
              "      <td>4214.66</td>\n",
              "    </tr>\n",
              "    <tr>\n",
              "      <th>1</th>\n",
              "      <td>0202000</td>\n",
              "      <td>4024.94</td>\n",
              "    </tr>\n",
              "    <tr>\n",
              "      <th>2</th>\n",
              "      <td>0203000</td>\n",
              "      <td>4077.69</td>\n",
              "    </tr>\n",
              "    <tr>\n",
              "      <th>3</th>\n",
              "      <td>0204000</td>\n",
              "      <td>3815.89</td>\n",
              "    </tr>\n",
              "    <tr>\n",
              "      <th>4</th>\n",
              "      <td>0205000</td>\n",
              "      <td>4029.64</td>\n",
              "    </tr>\n",
              "  </tbody>\n",
              "</table>\n",
              "</div>"
            ],
            "text/plain": [
              "       kod  wynagrodzenie\n",
              "0  0201000        4214.66\n",
              "1  0202000        4024.94\n",
              "2  0203000        4077.69\n",
              "3  0204000        3815.89\n",
              "4  0205000        4029.64"
            ]
          },
          "metadata": {
            "tags": []
          },
          "execution_count": 32
        }
      ]
    },
    {
      "cell_type": "markdown",
      "metadata": {
        "id": "Enx_OEDWgKRM"
      },
      "source": [
        "Łączymy dane z dwóch baz danych (`pow_bez_rej` i `pow_wynag`)"
      ]
    },
    {
      "cell_type": "code",
      "metadata": {
        "id": "HkwBBSE_gSvF",
        "outputId": "6eac673a-75fa-4430-d779-3a03da859dd3",
        "colab": {
          "base_uri": "https://localhost:8080/",
          "height": 198
        }
      },
      "source": [
        "dane_analiza = pd.merge(left = pow_bez_rej, right = pow_wynag, on = \"kod\")\n",
        "dane_analiza.head()"
      ],
      "execution_count": 35,
      "outputs": [
        {
          "output_type": "execute_result",
          "data": {
            "text/html": [
              "<div>\n",
              "<style scoped>\n",
              "    .dataframe tbody tr th:only-of-type {\n",
              "        vertical-align: middle;\n",
              "    }\n",
              "\n",
              "    .dataframe tbody tr th {\n",
              "        vertical-align: top;\n",
              "    }\n",
              "\n",
              "    .dataframe thead th {\n",
              "        text-align: right;\n",
              "    }\n",
              "</style>\n",
              "<table border=\"1\" class=\"dataframe\">\n",
              "  <thead>\n",
              "    <tr style=\"text-align: right;\">\n",
              "      <th></th>\n",
              "      <th>kod</th>\n",
              "      <th>nazwa</th>\n",
              "      <th>stopa_bezr</th>\n",
              "      <th>wynagrodzenie</th>\n",
              "    </tr>\n",
              "  </thead>\n",
              "  <tbody>\n",
              "    <tr>\n",
              "      <th>0</th>\n",
              "      <td>0201000</td>\n",
              "      <td>Powiat bolesławiecki</td>\n",
              "      <td>3.8</td>\n",
              "      <td>4214.66</td>\n",
              "    </tr>\n",
              "    <tr>\n",
              "      <th>1</th>\n",
              "      <td>0202000</td>\n",
              "      <td>Powiat dzierżoniowski</td>\n",
              "      <td>6.1</td>\n",
              "      <td>4024.94</td>\n",
              "    </tr>\n",
              "    <tr>\n",
              "      <th>2</th>\n",
              "      <td>0203000</td>\n",
              "      <td>Powiat głogowski</td>\n",
              "      <td>8.9</td>\n",
              "      <td>4077.69</td>\n",
              "    </tr>\n",
              "    <tr>\n",
              "      <th>3</th>\n",
              "      <td>0204000</td>\n",
              "      <td>Powiat górowski</td>\n",
              "      <td>15.3</td>\n",
              "      <td>3815.89</td>\n",
              "    </tr>\n",
              "    <tr>\n",
              "      <th>4</th>\n",
              "      <td>0205000</td>\n",
              "      <td>Powiat jaworski</td>\n",
              "      <td>12.4</td>\n",
              "      <td>4029.64</td>\n",
              "    </tr>\n",
              "  </tbody>\n",
              "</table>\n",
              "</div>"
            ],
            "text/plain": [
              "       kod                  nazwa  stopa_bezr  wynagrodzenie\n",
              "0  0201000   Powiat bolesławiecki         3.8        4214.66\n",
              "1  0202000  Powiat dzierżoniowski         6.1        4024.94\n",
              "2  0203000       Powiat głogowski         8.9        4077.69\n",
              "3  0204000        Powiat górowski        15.3        3815.89\n",
              "4  0205000        Powiat jaworski        12.4        4029.64"
            ]
          },
          "metadata": {
            "tags": []
          },
          "execution_count": 35
        }
      ]
    },
    {
      "cell_type": "code",
      "metadata": {
        "id": "CHGcpH4dgnl1",
        "outputId": "b1c3f07d-6d48-4cf8-e307-a896664b1f08",
        "colab": {
          "base_uri": "https://localhost:8080/",
          "height": 296
        }
      },
      "source": [
        "dane_analiza.plot.scatter(x = \"wynagrodzenie\", y = \"stopa_bezr\")"
      ],
      "execution_count": 36,
      "outputs": [
        {
          "output_type": "execute_result",
          "data": {
            "text/plain": [
              "<matplotlib.axes._subplots.AxesSubplot at 0x7ff674b876a0>"
            ]
          },
          "metadata": {
            "tags": []
          },
          "execution_count": 36
        },
        {
          "output_type": "display_data",
          "data": {
            "image/png": "[encoded data removed]",
            "text/plain": [
              "<Figure size 432x288 with 1 Axes>"
            ]
          },
          "metadata": {
            "tags": [],
            "needs_background": "light"
          }
        }
      ]
    }
  ]
}
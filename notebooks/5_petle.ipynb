{
  "nbformat": 4,
  "nbformat_minor": 0,
  "metadata": {
    "colab": {
      "name": "5-petle.ipynb",
      "provenance": [],
      "collapsed_sections": []
    },
    "kernelspec": {
      "name": "python3",
      "display_name": "Python 3"
    }
  },
  "cells": [
    {
      "cell_type": "code",
      "metadata": {
        "id": "6bShkcALs41J"
      },
      "source": [
        "for i in range(0,10):\n",
        "  for j in range(0, 10):\n",
        "      print(i, j)"
      ],
      "execution_count": null,
      "outputs": []
    },
    {
      "cell_type": "code",
      "metadata": {
        "colab": {
          "base_uri": "https://localhost:8080/"
        },
        "id": "V84FsAlbtUED",
        "outputId": "a0a99540-74df-46d4-fe12-3151ce5ce947"
      },
      "source": [
        "for i, j in enumerate([\"a\", \"b\", \"c\"]):\n",
        "  print(i, j)\n",
        "  print(\"nowa_zmienna_\" + str(j) + \"_\" + str(i))"
      ],
      "execution_count": 12,
      "outputs": [
        {
          "output_type": "stream",
          "text": [
            "0 a\n",
            "nowa_zmienna_a_0\n",
            "1 b\n",
            "nowa_zmienna_b_1\n",
            "2 c\n",
            "nowa_zmienna_c_2\n"
          ],
          "name": "stdout"
        }
      ]
    },
    {
      "cell_type": "code",
      "metadata": {
        "colab": {
          "base_uri": "https://localhost:8080/"
        },
        "id": "Opf1-NEctodW",
        "outputId": "e345f5d3-df85-46cc-da74-b3d3617b910b"
      },
      "source": [
        "[i for i in range(1,10)]"
      ],
      "execution_count": 7,
      "outputs": [
        {
          "output_type": "execute_result",
          "data": {
            "text/plain": [
              "[1, 2, 3, 4, 5, 6, 7, 8, 9]"
            ]
          },
          "metadata": {
            "tags": []
          },
          "execution_count": 7
        }
      ]
    }
  ]
}
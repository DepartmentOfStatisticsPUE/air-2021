{
  "nbformat": 4,
  "nbformat_minor": 0,
  "metadata": {
    "colab": {
      "name": "5-petle.ipynb",
      "provenance": [],
      "collapsed_sections": []
    },
    "kernelspec": {
      "name": "python3",
      "display_name": "Python 3"
    }
  },
  "cells": [
    {
      "cell_type": "markdown",
      "metadata": {
        "id": "7_KlLkLPeZBN"
      },
      "source": [
        "Przykładowa pętla for w pythonie"
      ]
    },
    {
      "cell_type": "code",
      "metadata": {
        "id": "6bShkcALs41J",
        "colab": {
          "base_uri": "https://localhost:8080/"
        },
        "outputId": "e34cc8c9-f96f-432f-a878-d9da88cf742b"
      },
      "source": [
        "for i in range(0,2):\n",
        "  for j in range(0, 2):\n",
        "      print(i, j)"
      ],
      "execution_count": null,
      "outputs": [
        {
          "output_type": "stream",
          "text": [
            "0 0\n",
            "0 1\n",
            "1 0\n",
            "1 1\n"
          ],
          "name": "stdout"
        }
      ]
    },
    {
      "cell_type": "markdown",
      "metadata": {
        "id": "l07HNthYfE0h"
      },
      "source": [
        "Pętla ale iteracja po wyniku działania `enumerate`"
      ]
    },
    {
      "cell_type": "code",
      "metadata": {
        "colab": {
          "base_uri": "https://localhost:8080/"
        },
        "id": "4ypj15XWfJty",
        "outputId": "03ab8308-5d32-43e7-96db-c27891d0ed0c"
      },
      "source": [
        "enumerate([\"a\", \"b\", \"c\"])"
      ],
      "execution_count": null,
      "outputs": [
        {
          "output_type": "execute_result",
          "data": {
            "text/plain": [
              "<enumerate at 0x7fdbfbc2e240>"
            ]
          },
          "metadata": {
            "tags": []
          },
          "execution_count": 6
        }
      ]
    },
    {
      "cell_type": "code",
      "metadata": {
        "colab": {
          "base_uri": "https://localhost:8080/"
        },
        "id": "LQVitnjkfSEc",
        "outputId": "84b2b620-8b42-49fb-b3a5-1cd3e51efd2d"
      },
      "source": [
        "for i in [\"a\", \"b\", \"c\"]:\n",
        "  print(i)"
      ],
      "execution_count": null,
      "outputs": [
        {
          "output_type": "stream",
          "text": [
            "a\n",
            "b\n",
            "c\n"
          ],
          "name": "stdout"
        }
      ]
    },
    {
      "cell_type": "code",
      "metadata": {
        "colab": {
          "base_uri": "https://localhost:8080/"
        },
        "id": "V84FsAlbtUED",
        "outputId": "9a5e1347-a6af-4659-f55a-04670b665f6b"
      },
      "source": [
        "wektor = [\"a\", \"b\", \"c\"]\n",
        "for i, j in enumerate([\"a\", \"b\", \"c\"]):\n",
        "  print(i, j)\n",
        "  print(wektor[i])"
      ],
      "execution_count": null,
      "outputs": [
        {
          "output_type": "stream",
          "text": [
            "0 a\n",
            "a\n",
            "1 b\n",
            "b\n",
            "2 c\n",
            "c\n"
          ],
          "name": "stdout"
        }
      ]
    },
    {
      "cell_type": "markdown",
      "metadata": {
        "id": "avG20mRLf0mJ"
      },
      "source": [
        "Zrobimy sobie następującą pętlę, która w zależności od tego na co kończy się nazwa (czy to będzie s jak stymulanta czy d jak destymulanta) będzie wykonywała okreslone działanie.\n",
        "\n",
        "W tym przypadku będziemy łączyć dwie rzeczy: \n",
        "\n",
        "1. pętlę `for`\n",
        "2. przetwarzanie warunkowe z `if`, `elif` czy `else`\n",
        "3. przetwarzanie napisów z funkcją `endswith`"
      ]
    },
    {
      "cell_type": "code",
      "metadata": {
        "colab": {
          "base_uri": "https://localhost:8080/"
        },
        "id": "6OH7a04igmt0",
        "outputId": "a05287ea-a9ea-4106-e7b1-81bdc14d2015"
      },
      "source": [
        "nazwy_kolumn = [\"x1_s\", \"x2_d\", \"x3_d\", \"x4_s\", \"x5_s\", \"x5_n\"]\n",
        "\n",
        "for zmienna in nazwy_kolumn:\n",
        "  if zmienna.endswith(\"_s\"):\n",
        "    print(zmienna + \" to stymulanta\")\n",
        "  elif zmienna.endswith(\"_d\"): \n",
        "    print(zmienna + \" to destymulanta\")\n",
        "  else:\n",
        "    print(zmienna + \" to nominanta\")\n"
      ],
      "execution_count": null,
      "outputs": [
        {
          "output_type": "stream",
          "text": [
            "x1_s to stymulanta\n",
            "x2_d to destymulanta\n",
            "x3_d to destymulanta\n",
            "x4_s to stymulanta\n",
            "x5_s to stymulanta\n",
            "x5_n to nominanta\n"
          ],
          "name": "stdout"
        }
      ]
    },
    {
      "cell_type": "markdown",
      "metadata": {
        "id": "ANZGT3Xuisdi"
      },
      "source": [
        "Piszemy funkcję, która będzie sprawdzać czy poszczegolne elementy wektora są stymulantami, destymulantami czy nominantami"
      ]
    },
    {
      "cell_type": "code",
      "metadata": {
        "colab": {
          "base_uri": "https://localhost:8080/"
        },
        "id": "Opf1-NEctodW",
        "outputId": "f5663cf6-977a-4693-a0a9-fc4570e8c671"
      },
      "source": [
        "def sprawdzam(wektor):\n",
        "  for zmienna in wektor:\n",
        "    if zmienna.endswith(\"_s\"):\n",
        "      print(zmienna + \" to stymulanta\")\n",
        "    elif zmienna.endswith(\"_d\"): \n",
        "      print(zmienna + \" to destymulanta\")\n",
        "    elif zmienna.endswith(\"_n\"):\n",
        "      print(zmienna + \" to nominanta\")\n",
        "    else:\n",
        "      print(zmienna + \" to nie jest nom, sty czy dest\")\n",
        "\n",
        "\n",
        "sprawdzam([\"xxx_s\", \"aa_d\", \"sasd\"])"
      ],
      "execution_count": null,
      "outputs": [
        {
          "output_type": "stream",
          "text": [
            "xxx_s to stymulanta\n",
            "aa_d to destymulanta\n",
            "sasd to nie jest nom, sty czy dest\n"
          ],
          "name": "stdout"
        }
      ]
    },
    {
      "cell_type": "markdown",
      "metadata": {
        "id": "V5k0TN9HkIp-"
      },
      "source": [
        "Comprehensions w pythonie"
      ]
    },
    {
      "cell_type": "code",
      "metadata": {
        "colab": {
          "base_uri": "https://localhost:8080/"
        },
        "id": "SVq-E20SkFvm",
        "outputId": "c5fdda97-a0d3-4d4b-9d04-25475c5bad6b"
      },
      "source": [
        "[zmienna.endswith(\"_s\") for zmienna in nazwy_kolumn]"
      ],
      "execution_count": null,
      "outputs": [
        {
          "output_type": "execute_result",
          "data": {
            "text/plain": [
              "[True, False, False, True, True, False]"
            ]
          },
          "metadata": {
            "tags": []
          },
          "execution_count": 16
        }
      ]
    },
    {
      "cell_type": "code",
      "metadata": {
        "colab": {
          "base_uri": "https://localhost:8080/"
        },
        "id": "80WPEQcxkZ_5",
        "outputId": "563617a2-08e8-4a66-ed69-7c55dfe67825"
      },
      "source": [
        "[i**2 for i in range(0,10)]"
      ],
      "execution_count": null,
      "outputs": [
        {
          "output_type": "execute_result",
          "data": {
            "text/plain": [
              "[0, 1, 4, 9, 16, 25, 36, 49, 64, 81]"
            ]
          },
          "metadata": {
            "tags": []
          },
          "execution_count": 17
        }
      ]
    },
    {
      "cell_type": "code",
      "metadata": {
        "colab": {
          "base_uri": "https://localhost:8080/"
        },
        "id": "VXhzlVn8kugk",
        "outputId": "b6ba1706-6b12-4935-c858-5bd1e22bc47a"
      },
      "source": [
        "[ [i*j for i in range(1,6)] for j in range(1,6)]"
      ],
      "execution_count": null,
      "outputs": [
        {
          "output_type": "execute_result",
          "data": {
            "text/plain": [
              "[[1, 2, 3, 4, 5],\n",
              " [2, 4, 6, 8, 10],\n",
              " [3, 6, 9, 12, 15],\n",
              " [4, 8, 12, 16, 20],\n",
              " [5, 10, 15, 20, 25]]"
            ]
          },
          "metadata": {
            "tags": []
          },
          "execution_count": 20
        }
      ]
    }
  ]
}
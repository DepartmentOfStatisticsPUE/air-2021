{
  "nbformat": 4,
  "nbformat_minor": 0,
  "metadata": {
    "colab": {
      "name": "7-regresja-liniowa.ipynb",
      "provenance": [],
      "collapsed_sections": []
    },
    "kernelspec": {
      "name": "python3",
      "display_name": "Python 3"
    }
  },
  "cells": [
    {
      "cell_type": "code",
      "metadata": {
        "id": "clqiJGDYelnp"
      },
      "source": [
        "import pandas as pd\n",
        "import numpy as np\n",
        "import statsmodels.api as sm\n",
        "import statsmodels.formula.api as smf"
      ],
      "execution_count": 1,
      "outputs": []
    },
    {
      "cell_type": "code",
      "metadata": {
        "colab": {
          "base_uri": "https://localhost:8080/",
          "height": 198
        },
        "id": "mDz53XvsihhK",
        "outputId": "a3fa09e0-7a53-49c3-aebe-32d8b2bd0090"
      },
      "source": [
        "gosp = pd.read_excel(\"gospodarstwa.xlsx\")\n",
        "gosp.head()"
      ],
      "execution_count": 2,
      "outputs": [
        {
          "output_type": "execute_result",
          "data": {
            "text/html": [
              "<div>\n",
              "<style scoped>\n",
              "    .dataframe tbody tr th:only-of-type {\n",
              "        vertical-align: middle;\n",
              "    }\n",
              "\n",
              "    .dataframe tbody tr th {\n",
              "        vertical-align: top;\n",
              "    }\n",
              "\n",
              "    .dataframe thead th {\n",
              "        text-align: right;\n",
              "    }\n",
              "</style>\n",
              "<table border=\"1\" class=\"dataframe\">\n",
              "  <thead>\n",
              "    <tr style=\"text-align: right;\">\n",
              "      <th></th>\n",
              "      <th>klm</th>\n",
              "      <th>woj</th>\n",
              "      <th>trb</th>\n",
              "      <th>zut</th>\n",
              "      <th>d21</th>\n",
              "      <th>d32</th>\n",
              "      <th>d345</th>\n",
              "      <th>d347</th>\n",
              "      <th>d348</th>\n",
              "      <th>d36</th>\n",
              "      <th>d38</th>\n",
              "      <th>d61</th>\n",
              "      <th>d63</th>\n",
              "      <th>los</th>\n",
              "      <th>dochg</th>\n",
              "      <th>wydg</th>\n",
              "    </tr>\n",
              "  </thead>\n",
              "  <tbody>\n",
              "    <tr>\n",
              "      <th>0</th>\n",
              "      <td>1</td>\n",
              "      <td>2</td>\n",
              "      <td>11</td>\n",
              "      <td>5</td>\n",
              "      <td>2</td>\n",
              "      <td>1</td>\n",
              "      <td>1</td>\n",
              "      <td>2</td>\n",
              "      <td>1</td>\n",
              "      <td>69</td>\n",
              "      <td>2</td>\n",
              "      <td>3</td>\n",
              "      <td>3</td>\n",
              "      <td>1.0</td>\n",
              "      <td>1191.41</td>\n",
              "      <td>1037.29</td>\n",
              "    </tr>\n",
              "    <tr>\n",
              "      <th>1</th>\n",
              "      <td>1</td>\n",
              "      <td>2</td>\n",
              "      <td>6</td>\n",
              "      <td>1</td>\n",
              "      <td>2</td>\n",
              "      <td>1</td>\n",
              "      <td>2</td>\n",
              "      <td>2</td>\n",
              "      <td>1</td>\n",
              "      <td>74</td>\n",
              "      <td>3</td>\n",
              "      <td>4</td>\n",
              "      <td>2</td>\n",
              "      <td>2.0</td>\n",
              "      <td>821.00</td>\n",
              "      <td>887.01</td>\n",
              "    </tr>\n",
              "    <tr>\n",
              "      <th>2</th>\n",
              "      <td>1</td>\n",
              "      <td>2</td>\n",
              "      <td>3</td>\n",
              "      <td>1</td>\n",
              "      <td>1</td>\n",
              "      <td>3</td>\n",
              "      <td>1</td>\n",
              "      <td>2</td>\n",
              "      <td>1</td>\n",
              "      <td>83</td>\n",
              "      <td>3</td>\n",
              "      <td>4</td>\n",
              "      <td>1</td>\n",
              "      <td>4.0</td>\n",
              "      <td>6669.87</td>\n",
              "      <td>6792.13</td>\n",
              "    </tr>\n",
              "    <tr>\n",
              "      <th>3</th>\n",
              "      <td>1</td>\n",
              "      <td>2</td>\n",
              "      <td>12</td>\n",
              "      <td>5</td>\n",
              "      <td>2</td>\n",
              "      <td>1</td>\n",
              "      <td>3</td>\n",
              "      <td>3</td>\n",
              "      <td>2</td>\n",
              "      <td>44</td>\n",
              "      <td>2</td>\n",
              "      <td>4</td>\n",
              "      <td>1</td>\n",
              "      <td>3.0</td>\n",
              "      <td>1872.59</td>\n",
              "      <td>1806.83</td>\n",
              "    </tr>\n",
              "    <tr>\n",
              "      <th>4</th>\n",
              "      <td>1</td>\n",
              "      <td>2</td>\n",
              "      <td>1</td>\n",
              "      <td>5</td>\n",
              "      <td>1</td>\n",
              "      <td>3</td>\n",
              "      <td>1</td>\n",
              "      <td>2</td>\n",
              "      <td>1</td>\n",
              "      <td>110</td>\n",
              "      <td>5</td>\n",
              "      <td>4</td>\n",
              "      <td>2</td>\n",
              "      <td>2.0</td>\n",
              "      <td>1731.44</td>\n",
              "      <td>2795.08</td>\n",
              "    </tr>\n",
              "  </tbody>\n",
              "</table>\n",
              "</div>"
            ],
            "text/plain": [
              "   klm  woj  trb  zut  d21  d32  ...  d38  d61  d63  los    dochg     wydg\n",
              "0    1    2   11    5    2    1  ...    2    3    3  1.0  1191.41  1037.29\n",
              "1    1    2    6    1    2    1  ...    3    4    2  2.0   821.00   887.01\n",
              "2    1    2    3    1    1    3  ...    3    4    1  4.0  6669.87  6792.13\n",
              "3    1    2   12    5    2    1  ...    2    4    1  3.0  1872.59  1806.83\n",
              "4    1    2    1    5    1    3  ...    5    4    2  2.0  1731.44  2795.08\n",
              "\n",
              "[5 rows x 16 columns]"
            ]
          },
          "metadata": {
            "tags": []
          },
          "execution_count": 2
        }
      ]
    },
    {
      "cell_type": "markdown",
      "metadata": {
        "id": "KKjl-mBKkeM3"
      },
      "source": [
        "Należy pamiętać o jednej, zasadnicznej kwestii: jeżeli w zbiorze danych są zmienne na skalach słabych (tj. nominalna i porządkowa) ale zapisane jako zmienne numeryczne to python (jak i inne języki programowania czy pakiety statystyczne) nie będzie tego świadomy! Oznacza to, że trzeba wcześniej lub na poziomie formuły zadeklarować, które zmienne są na słabej skali (tzw. zmienne jakościowe).\n"
      ]
    },
    {
      "cell_type": "code",
      "metadata": {
        "colab": {
          "base_uri": "https://localhost:8080/"
        },
        "id": "0GIsr3brk-aN",
        "outputId": "4223a4f8-f321-48d0-e877-77f6b4ab642f"
      },
      "source": [
        "gosp.shape"
      ],
      "execution_count": 3,
      "outputs": [
        {
          "output_type": "execute_result",
          "data": {
            "text/plain": [
              "(32487, 16)"
            ]
          },
          "metadata": {
            "tags": []
          },
          "execution_count": 3
        }
      ]
    },
    {
      "cell_type": "code",
      "metadata": {
        "colab": {
          "base_uri": "https://localhost:8080/"
        },
        "id": "KV9x5SofnHG3",
        "outputId": "bea58a73-2d1b-42c1-ef50-3027ff69e346"
      },
      "source": [
        "gosp.dochg.describe()"
      ],
      "execution_count": 15,
      "outputs": [
        {
          "output_type": "execute_result",
          "data": {
            "text/plain": [
              "count    32451.000000\n",
              "mean      2127.432944\n",
              "std       1612.543454\n",
              "min     -21249.110000\n",
              "25%       1200.000000\n",
              "50%       1805.150000\n",
              "75%       2640.305000\n",
              "max      50151.970000\n",
              "Name: dochg, dtype: float64"
            ]
          },
          "metadata": {
            "tags": []
          },
          "execution_count": 15
        }
      ]
    },
    {
      "cell_type": "markdown",
      "metadata": {
        "id": "d9vX0pmulw-k"
      },
      "source": [
        "Czy w naszych danych znajdują się wartości brakujace (NA, NULL)"
      ]
    },
    {
      "cell_type": "code",
      "metadata": {
        "colab": {
          "base_uri": "https://localhost:8080/"
        },
        "id": "aMZBcu2dljWA",
        "outputId": "6285c21e-789c-499a-8385-d7a51746650d"
      },
      "source": [
        "gosp.dochg.isna().value_counts()"
      ],
      "execution_count": 12,
      "outputs": [
        {
          "output_type": "execute_result",
          "data": {
            "text/plain": [
              "False    32451\n",
              "True        36\n",
              "Name: dochg, dtype: int64"
            ]
          },
          "metadata": {
            "tags": []
          },
          "execution_count": 12
        }
      ]
    },
    {
      "cell_type": "code",
      "metadata": {
        "colab": {
          "base_uri": "https://localhost:8080/",
          "height": 198
        },
        "id": "JDvkjWwRmb_0",
        "outputId": "e3711235-219c-4057-c340-ff882c52c7b7"
      },
      "source": [
        "gosp.loc[gosp.dochg.isna()].head()"
      ],
      "execution_count": 14,
      "outputs": [
        {
          "output_type": "execute_result",
          "data": {
            "text/html": [
              "<div>\n",
              "<style scoped>\n",
              "    .dataframe tbody tr th:only-of-type {\n",
              "        vertical-align: middle;\n",
              "    }\n",
              "\n",
              "    .dataframe tbody tr th {\n",
              "        vertical-align: top;\n",
              "    }\n",
              "\n",
              "    .dataframe thead th {\n",
              "        text-align: right;\n",
              "    }\n",
              "</style>\n",
              "<table border=\"1\" class=\"dataframe\">\n",
              "  <thead>\n",
              "    <tr style=\"text-align: right;\">\n",
              "      <th></th>\n",
              "      <th>klm</th>\n",
              "      <th>woj</th>\n",
              "      <th>trb</th>\n",
              "      <th>zut</th>\n",
              "      <th>d21</th>\n",
              "      <th>d32</th>\n",
              "      <th>d345</th>\n",
              "      <th>d347</th>\n",
              "      <th>d348</th>\n",
              "      <th>d36</th>\n",
              "      <th>d38</th>\n",
              "      <th>d61</th>\n",
              "      <th>d63</th>\n",
              "      <th>los</th>\n",
              "      <th>dochg</th>\n",
              "      <th>wydg</th>\n",
              "      <th>dochg_na</th>\n",
              "    </tr>\n",
              "  </thead>\n",
              "  <tbody>\n",
              "    <tr>\n",
              "      <th>415</th>\n",
              "      <td>2</td>\n",
              "      <td>4</td>\n",
              "      <td>6</td>\n",
              "      <td>1</td>\n",
              "      <td>2</td>\n",
              "      <td>1</td>\n",
              "      <td>1</td>\n",
              "      <td>4</td>\n",
              "      <td>1</td>\n",
              "      <td>116</td>\n",
              "      <td>3</td>\n",
              "      <td>4</td>\n",
              "      <td>2</td>\n",
              "      <td>NaN</td>\n",
              "      <td>NaN</td>\n",
              "      <td>NaN</td>\n",
              "      <td>True</td>\n",
              "    </tr>\n",
              "    <tr>\n",
              "      <th>1765</th>\n",
              "      <td>1</td>\n",
              "      <td>14</td>\n",
              "      <td>1</td>\n",
              "      <td>7</td>\n",
              "      <td>2</td>\n",
              "      <td>1</td>\n",
              "      <td>1</td>\n",
              "      <td>1</td>\n",
              "      <td>2</td>\n",
              "      <td>29</td>\n",
              "      <td>1</td>\n",
              "      <td>3</td>\n",
              "      <td>4</td>\n",
              "      <td>NaN</td>\n",
              "      <td>NaN</td>\n",
              "      <td>NaN</td>\n",
              "      <td>True</td>\n",
              "    </tr>\n",
              "    <tr>\n",
              "      <th>1766</th>\n",
              "      <td>1</td>\n",
              "      <td>14</td>\n",
              "      <td>11</td>\n",
              "      <td>5</td>\n",
              "      <td>2</td>\n",
              "      <td>1</td>\n",
              "      <td>1</td>\n",
              "      <td>1</td>\n",
              "      <td>1</td>\n",
              "      <td>38</td>\n",
              "      <td>2</td>\n",
              "      <td>4</td>\n",
              "      <td>1</td>\n",
              "      <td>NaN</td>\n",
              "      <td>NaN</td>\n",
              "      <td>NaN</td>\n",
              "      <td>True</td>\n",
              "    </tr>\n",
              "    <tr>\n",
              "      <th>1769</th>\n",
              "      <td>1</td>\n",
              "      <td>14</td>\n",
              "      <td>2</td>\n",
              "      <td>4</td>\n",
              "      <td>2</td>\n",
              "      <td>1</td>\n",
              "      <td>1</td>\n",
              "      <td>1</td>\n",
              "      <td>2</td>\n",
              "      <td>39</td>\n",
              "      <td>2</td>\n",
              "      <td>5</td>\n",
              "      <td>2</td>\n",
              "      <td>NaN</td>\n",
              "      <td>NaN</td>\n",
              "      <td>NaN</td>\n",
              "      <td>True</td>\n",
              "    </tr>\n",
              "    <tr>\n",
              "      <th>1775</th>\n",
              "      <td>1</td>\n",
              "      <td>14</td>\n",
              "      <td>11</td>\n",
              "      <td>4</td>\n",
              "      <td>2</td>\n",
              "      <td>1</td>\n",
              "      <td>1</td>\n",
              "      <td>1</td>\n",
              "      <td>2</td>\n",
              "      <td>32</td>\n",
              "      <td>1</td>\n",
              "      <td>3</td>\n",
              "      <td>3</td>\n",
              "      <td>NaN</td>\n",
              "      <td>NaN</td>\n",
              "      <td>NaN</td>\n",
              "      <td>True</td>\n",
              "    </tr>\n",
              "  </tbody>\n",
              "</table>\n",
              "</div>"
            ],
            "text/plain": [
              "      klm  woj  trb  zut  d21  d32  ...  d61  d63  los  dochg  wydg  dochg_na\n",
              "415     2    4    6    1    2    1  ...    4    2  NaN    NaN   NaN      True\n",
              "1765    1   14    1    7    2    1  ...    3    4  NaN    NaN   NaN      True\n",
              "1766    1   14   11    5    2    1  ...    4    1  NaN    NaN   NaN      True\n",
              "1769    1   14    2    4    2    1  ...    5    2  NaN    NaN   NaN      True\n",
              "1775    1   14   11    4    2    1  ...    3    3  NaN    NaN   NaN      True\n",
              "\n",
              "[5 rows x 17 columns]"
            ]
          },
          "metadata": {
            "tags": []
          },
          "execution_count": 14
        }
      ]
    },
    {
      "cell_type": "markdown",
      "metadata": {
        "id": "gYVI9ncVnQpD"
      },
      "source": [
        "Ograniczamy zbiór danych do tych obserwacji, które:\n",
        "\n",
        "\n",
        "*   w zmiennej `dochg` nie mają wartości brakujacej\n",
        "*   `dochg` jest większe od 0\n",
        "\n"
      ]
    },
    {
      "cell_type": "code",
      "metadata": {
        "colab": {
          "base_uri": "https://localhost:8080/"
        },
        "id": "DWFgnTNcnE6l",
        "outputId": "3ae3f490-ff96-4a44-c12c-b95b08417a98"
      },
      "source": [
        "gosp_model = gosp.dropna().loc[gosp.dochg > 0]\n",
        "gosp_model.shape"
      ],
      "execution_count": 17,
      "outputs": [
        {
          "output_type": "execute_result",
          "data": {
            "text/plain": [
              "(32291, 17)"
            ]
          },
          "metadata": {
            "tags": []
          },
          "execution_count": 17
        }
      ]
    },
    {
      "cell_type": "markdown",
      "metadata": {
        "id": "YXKzst-XpM93"
      },
      "source": [
        "Sprawdźmy czy jest jakaś zależność między zmienną dochg (dochodami), a wydg (wydataki)\n"
      ]
    },
    {
      "cell_type": "code",
      "metadata": {
        "colab": {
          "base_uri": "https://localhost:8080/",
          "height": 296
        },
        "id": "nkv7yaHYpT5B",
        "outputId": "e52113d1-8a0b-411d-d5b9-3ed2359bca10"
      },
      "source": [
        "gosp_model.plot.scatter(x = \"dochg\", y = \"wydg\")"
      ],
      "execution_count": 18,
      "outputs": [
        {
          "output_type": "execute_result",
          "data": {
            "text/plain": [
              "<matplotlib.axes._subplots.AxesSubplot at 0x7fb9a317ea20>"
            ]
          },
          "metadata": {
            "tags": []
          },
          "execution_count": 18
        },
        {
          "output_type": "display_data",
          "data": {
            "image/png": "[encoded data removed]",
            "text/plain": [
              "<Figure size 432x288 with 1 Axes>"
            ]
          },
          "metadata": {
            "tags": [],
            "needs_background": "light"
          }
        }
      ]
    },
    {
      "cell_type": "code",
      "metadata": {
        "colab": {
          "base_uri": "https://localhost:8080/",
          "height": 297
        },
        "id": "LNpbiYdnqPjt",
        "outputId": "4ea4dce5-b130-4381-f413-3577116e345c"
      },
      "source": [
        "gosp_model[\"dochg_log\"] = np.log(gosp_model.dochg)\n",
        "gosp_model[\"wydg_log\"] = np.log(gosp_model.wydg)\n",
        "gosp_model.plot.scatter(x = \"dochg_log\", y = \"wydg_log\")"
      ],
      "execution_count": 19,
      "outputs": [
        {
          "output_type": "execute_result",
          "data": {
            "text/plain": [
              "<matplotlib.axes._subplots.AxesSubplot at 0x7fb9a3199d68>"
            ]
          },
          "metadata": {
            "tags": []
          },
          "execution_count": 19
        },
        {
          "output_type": "display_data",
          "data": {
            "image/png": "[encoded data removed]",
            "text/plain": [
              "<Figure size 432x288 with 1 Axes>"
            ]
          },
          "metadata": {
            "tags": [],
            "needs_background": "light"
          }
        }
      ]
    },
    {
      "cell_type": "markdown",
      "metadata": {
        "id": "xIoOBGwdrQE6"
      },
      "source": [
        "Tworzymy nowe zmienne, które będą miały jednostkę tysiąć złotych, a nie złotówkę."
      ]
    },
    {
      "cell_type": "code",
      "metadata": {
        "id": "bsrkqp7nq74I"
      },
      "source": [
        "gosp_model[\"dochg_tys\"] = gosp_model.dochg / 1000\n",
        "gosp_model[\"wydg_tys\"] = gosp_model.wydg / 1000"
      ],
      "execution_count": 20,
      "outputs": []
    },
    {
      "cell_type": "markdown",
      "metadata": {
        "id": "VUlQpC1GrtGA"
      },
      "source": [
        "W modelu regresji liniowej zakładamy następującą zależnosć:\n",
        "\n",
        "$$\n",
        "y = \\beta_0 + \\beta_1 x_1 + \\beta_2 x_2 + ... + \\beta_k x_k + \\epsilon\n",
        "$$\n",
        "\n",
        "W pythonie, podobnie jak w R korzysta się z następującej notacji zapisu modelu:\n",
        "\n",
        "+ `y ~ x` -- symbolem tyldy (`~`) odznaczamy co jest zmienną objaśnianą (`y`), a co jest zmienną objaśniającą (`x`)\n",
        "+ `y ~ x1 + x2 + x3` -- po symbolu `+` podajemy kolejne zmienne niezależne (objaśniające)\n",
        "\n",
        "W poniższym przypadku budujemy następujący model regresji liniowej\n",
        "\n",
        "$$\n",
        "wydatki = \\beta_0 + \\beta_1 dochody + \\epsilon\n",
        "$$"
      ]
    },
    {
      "cell_type": "code",
      "metadata": {
        "colab": {
          "base_uri": "https://localhost:8080/"
        },
        "id": "ltuMi1U8rFZr",
        "outputId": "da2338da-60fb-4abe-9a39-6196ecaac64a"
      },
      "source": [
        "## wyłącznie deklaracja modelu!!! Parametry modelu nie są szacowane\n",
        "model1 = smf.ols(formula = \"wydg_tys ~ dochg_tys\", data = gosp_model)\n",
        "model1"
      ],
      "execution_count": 21,
      "outputs": [
        {
          "output_type": "execute_result",
          "data": {
            "text/plain": [
              "<statsmodels.regression.linear_model.OLS at 0x7fb9a4365f98>"
            ]
          },
          "metadata": {
            "tags": []
          },
          "execution_count": 21
        }
      ]
    },
    {
      "cell_type": "code",
      "metadata": {
        "colab": {
          "base_uri": "https://localhost:8080/"
        },
        "id": "lpQk9uystiF0",
        "outputId": "e978e185-d59a-49b3-f2b6-9244f514546c"
      },
      "source": [
        "## tu dokonuje się szacowanie parametrów modelu -- stosowana jest metoda najmniejszych kwadratów\n",
        "model1_fit = model1.fit()\n",
        "model1_fit"
      ],
      "execution_count": 22,
      "outputs": [
        {
          "output_type": "execute_result",
          "data": {
            "text/plain": [
              "<statsmodels.regression.linear_model.RegressionResultsWrapper at 0x7fb9a42d3c18>"
            ]
          },
          "metadata": {
            "tags": []
          },
          "execution_count": 22
        }
      ]
    },
    {
      "cell_type": "code",
      "metadata": {
        "colab": {
          "base_uri": "https://localhost:8080/"
        },
        "id": "ZXJ3efFOtnPa",
        "outputId": "7f997880-451d-4332-c2b6-4c2272f4d125"
      },
      "source": [
        "## dopiero użycie funkcji summary powoduje pokazanie wyników dla oszacowanego modelu\n",
        "print(model1_fit.summary())"
      ],
      "execution_count": 24,
      "outputs": [
        {
          "output_type": "stream",
          "text": [
            "                            OLS Regression Results                            \n",
            "==============================================================================\n",
            "Dep. Variable:               wydg_tys   R-squared:                       0.423\n",
            "Model:                            OLS   Adj. R-squared:                  0.423\n",
            "Method:                 Least Squares   F-statistic:                 2.364e+04\n",
            "Date:                Mon, 07 Dec 2020   Prob (F-statistic):               0.00\n",
            "Time:                        14:59:26   Log-Likelihood:                -50277.\n",
            "No. Observations:               32291   AIC:                         1.006e+05\n",
            "Df Residuals:                   32289   BIC:                         1.006e+05\n",
            "Df Model:                           1                                         \n",
            "Covariance Type:            nonrobust                                         \n",
            "==============================================================================\n",
            "                 coef    std err          t      P>|t|      [0.025      0.975]\n",
            "------------------------------------------------------------------------------\n",
            "Intercept      0.6875      0.011     64.102      0.000       0.666       0.708\n",
            "dochg_tys      0.6176      0.004    153.756      0.000       0.610       0.626\n",
            "==============================================================================\n",
            "Omnibus:                    34915.310   Durbin-Watson:                   1.929\n",
            "Prob(Omnibus):                  0.000   Jarque-Bera (JB):         17943886.599\n",
            "Skew:                           4.808   Prob(JB):                         0.00\n",
            "Kurtosis:                     118.083   Cond. No.                         4.91\n",
            "==============================================================================\n",
            "\n",
            "Warnings:\n",
            "[1] Standard Errors assume that the covariance matrix of the errors is correctly specified.\n"
          ],
          "name": "stdout"
        }
      ]
    },
    {
      "cell_type": "markdown",
      "metadata": {
        "id": "5-NTw5tDwK5a"
      },
      "source": [
        "Model na następującą postać:\n",
        "\n",
        "$$\n",
        "wydg\\_tys = 0.6875 (0.011) + 0.6176 (0.004) \\times dochg\\_tys \n",
        "$$\n",
        "\n",
        "$$\n",
        "\\hat{\\beta}_0 = 0.6875 \\;, \\hat{\\beta}_1 = 0.6176\n",
        "$$\n",
        "\n",
        "\n",
        "Interpretacja $\\hat{\\beta}_1$: jeżeli dochód wzrośnie o jednostkę (o tysiąć złotych) to wydatki wzrosną o 0.6176 jednostki wydatków. Oznacza to, że według tego modelu, każde dodatkowe 1000 złotych skutuje wzrostem wydatków o 618 zł / Z każdego dodatkowego 1000 złotych gospodarstwa wydadzą 618 zł na konsumpcję lub usługi.\n"
      ]
    },
    {
      "cell_type": "markdown",
      "metadata": {
        "id": "aWzSSEbYyAyR"
      },
      "source": [
        "Jak to się stało, że logarytmowanie spowodowało, że pojawił się związek liniowy? Można to wytłumaczyć w następujący sposób:\n",
        "\n",
        "$$\n",
        "y = \\beta_0 X_1^{\\beta_1}\n",
        "$$\n",
        "\n",
        "zlogarytmujemy obydwie strony\n",
        "\n",
        "$$\n",
        "\\log(y) = \\log\\left( \\beta_0 X_1^{\\beta_1} \\right)\n",
        "$$\n",
        "\n",
        "to \n",
        "\n",
        "$$\n",
        "\\log(y) = \\log(\\beta_0) + \\log\\left(X_1^{\\beta_1} \\right)\n",
        "$$\n",
        "\n",
        "to dalej,\n",
        "\n",
        "$$\n",
        "\\log(y) = \\log(\\beta_0) + {\\beta_1}\\log\\left(X_1\\right)\n",
        "$$"
      ]
    },
    {
      "cell_type": "code",
      "metadata": {
        "colab": {
          "base_uri": "https://localhost:8080/",
          "height": 297
        },
        "id": "BJGFGWtezNdl",
        "outputId": "50d7a2b2-e563-4e16-e01d-386b7d63800e"
      },
      "source": [
        "gosp_model.plot.scatter(x = \"dochg_log\", y = \"wydg_log\")"
      ],
      "execution_count": 25,
      "outputs": [
        {
          "output_type": "execute_result",
          "data": {
            "text/plain": [
              "<matplotlib.axes._subplots.AxesSubplot at 0x7fb9a3b5ecc0>"
            ]
          },
          "metadata": {
            "tags": []
          },
          "execution_count": 25
        },
        {
          "output_type": "display_data",
          "data": {
            "image/png": "[encoded data removed]",
            "text/plain": [
              "<Figure size 432x288 with 1 Axes>"
            ]
          },
          "metadata": {
            "tags": [],
            "needs_background": "light"
          }
        }
      ]
    }
  ]
}
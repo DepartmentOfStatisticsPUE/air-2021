{
  "nbformat": 4,
  "nbformat_minor": 0,
  "metadata": {
    "colab": {
      "name": "1-pandas.ipynb",
      "provenance": [],
      "collapsed_sections": []
    },
    "kernelspec": {
      "name": "python3",
      "display_name": "Python 3"
    }
  },
  "cells": [
    {
      "cell_type": "code",
      "metadata": {
        "id": "C_imBKsJ7aVL"
      },
      "source": [
        "import pandas as pd ## pandas -- do przetwarzania danych tabelarycznych\n",
        "import numpy as np ## numpy (numeric python) -- głównie do obliczeń numerycznych "
      ],
      "execution_count": 1,
      "outputs": []
    },
    {
      "cell_type": "markdown",
      "metadata": {
        "id": "x4PbDrg8-3pJ"
      },
      "source": [
        "W `pandas` znajdują się funkcje do wczytywania różnych plików. Przykładowo:\n",
        "\n",
        "*   `read_excel` -- pozwala na wczytanie danych z MS Excel (xls/x)\n",
        "*   `read_sas` -- pozwala na wczytanie danych z SAS (`sas7bdat`)\n",
        "\n"
      ]
    },
    {
      "cell_type": "code",
      "metadata": {
        "id": "b0cY4CAG_TwR",
        "outputId": "6ddff393-e19f-4660-dd6a-803cba90a989",
        "colab": {
          "base_uri": "https://localhost:8080/",
          "height": 198
        }
      },
      "source": [
        "## wczytujemy dane z MS Excel\n",
        "\n",
        "gosp = pd.read_excel(io = \"gospodarstwa.xlsx\")\n",
        "gosp.head()"
      ],
      "execution_count": 6,
      "outputs": [
        {
          "output_type": "execute_result",
          "data": {
            "text/html": [
              "<div>\n",
              "<style scoped>\n",
              "    .dataframe tbody tr th:only-of-type {\n",
              "        vertical-align: middle;\n",
              "    }\n",
              "\n",
              "    .dataframe tbody tr th {\n",
              "        vertical-align: top;\n",
              "    }\n",
              "\n",
              "    .dataframe thead th {\n",
              "        text-align: right;\n",
              "    }\n",
              "</style>\n",
              "<table border=\"1\" class=\"dataframe\">\n",
              "  <thead>\n",
              "    <tr style=\"text-align: right;\">\n",
              "      <th></th>\n",
              "      <th>klm</th>\n",
              "      <th>woj</th>\n",
              "      <th>trb</th>\n",
              "      <th>zut</th>\n",
              "      <th>d21</th>\n",
              "      <th>d32</th>\n",
              "      <th>d345</th>\n",
              "      <th>d347</th>\n",
              "      <th>d348</th>\n",
              "      <th>d36</th>\n",
              "      <th>d38</th>\n",
              "      <th>d61</th>\n",
              "      <th>d63</th>\n",
              "      <th>los</th>\n",
              "      <th>dochg</th>\n",
              "      <th>wydg</th>\n",
              "    </tr>\n",
              "  </thead>\n",
              "  <tbody>\n",
              "    <tr>\n",
              "      <th>0</th>\n",
              "      <td>1</td>\n",
              "      <td>2</td>\n",
              "      <td>11</td>\n",
              "      <td>5</td>\n",
              "      <td>2</td>\n",
              "      <td>1</td>\n",
              "      <td>1</td>\n",
              "      <td>2</td>\n",
              "      <td>1</td>\n",
              "      <td>69</td>\n",
              "      <td>2</td>\n",
              "      <td>3</td>\n",
              "      <td>3</td>\n",
              "      <td>1.0</td>\n",
              "      <td>1191.41</td>\n",
              "      <td>1037.29</td>\n",
              "    </tr>\n",
              "    <tr>\n",
              "      <th>1</th>\n",
              "      <td>1</td>\n",
              "      <td>2</td>\n",
              "      <td>6</td>\n",
              "      <td>1</td>\n",
              "      <td>2</td>\n",
              "      <td>1</td>\n",
              "      <td>2</td>\n",
              "      <td>2</td>\n",
              "      <td>1</td>\n",
              "      <td>74</td>\n",
              "      <td>3</td>\n",
              "      <td>4</td>\n",
              "      <td>2</td>\n",
              "      <td>2.0</td>\n",
              "      <td>821.00</td>\n",
              "      <td>887.01</td>\n",
              "    </tr>\n",
              "    <tr>\n",
              "      <th>2</th>\n",
              "      <td>1</td>\n",
              "      <td>2</td>\n",
              "      <td>3</td>\n",
              "      <td>1</td>\n",
              "      <td>1</td>\n",
              "      <td>3</td>\n",
              "      <td>1</td>\n",
              "      <td>2</td>\n",
              "      <td>1</td>\n",
              "      <td>83</td>\n",
              "      <td>3</td>\n",
              "      <td>4</td>\n",
              "      <td>1</td>\n",
              "      <td>4.0</td>\n",
              "      <td>6669.87</td>\n",
              "      <td>6792.13</td>\n",
              "    </tr>\n",
              "    <tr>\n",
              "      <th>3</th>\n",
              "      <td>1</td>\n",
              "      <td>2</td>\n",
              "      <td>12</td>\n",
              "      <td>5</td>\n",
              "      <td>2</td>\n",
              "      <td>1</td>\n",
              "      <td>3</td>\n",
              "      <td>3</td>\n",
              "      <td>2</td>\n",
              "      <td>44</td>\n",
              "      <td>2</td>\n",
              "      <td>4</td>\n",
              "      <td>1</td>\n",
              "      <td>3.0</td>\n",
              "      <td>1872.59</td>\n",
              "      <td>1806.83</td>\n",
              "    </tr>\n",
              "    <tr>\n",
              "      <th>4</th>\n",
              "      <td>1</td>\n",
              "      <td>2</td>\n",
              "      <td>1</td>\n",
              "      <td>5</td>\n",
              "      <td>1</td>\n",
              "      <td>3</td>\n",
              "      <td>1</td>\n",
              "      <td>2</td>\n",
              "      <td>1</td>\n",
              "      <td>110</td>\n",
              "      <td>5</td>\n",
              "      <td>4</td>\n",
              "      <td>2</td>\n",
              "      <td>2.0</td>\n",
              "      <td>1731.44</td>\n",
              "      <td>2795.08</td>\n",
              "    </tr>\n",
              "  </tbody>\n",
              "</table>\n",
              "</div>"
            ],
            "text/plain": [
              "   klm  woj  trb  zut  d21  d32  ...  d38  d61  d63  los    dochg     wydg\n",
              "0    1    2   11    5    2    1  ...    2    3    3  1.0  1191.41  1037.29\n",
              "1    1    2    6    1    2    1  ...    3    4    2  2.0   821.00   887.01\n",
              "2    1    2    3    1    1    3  ...    3    4    1  4.0  6669.87  6792.13\n",
              "3    1    2   12    5    2    1  ...    2    4    1  3.0  1872.59  1806.83\n",
              "4    1    2    1    5    1    3  ...    5    4    2  2.0  1731.44  2795.08\n",
              "\n",
              "[5 rows x 16 columns]"
            ]
          },
          "metadata": {
            "tags": []
          },
          "execution_count": 6
        }
      ]
    },
    {
      "cell_type": "code",
      "metadata": {
        "id": "YUsUjwZyBBmD",
        "outputId": "cd79baf7-a5a2-4403-bc11-4450e491c2b9",
        "colab": {
          "base_uri": "https://localhost:8080/",
          "height": 198
        }
      },
      "source": [
        "gosp2 = pd.read_sas(\"baza2005.sas7bdat\")\n",
        "gosp2.head()"
      ],
      "execution_count": 5,
      "outputs": [
        {
          "output_type": "execute_result",
          "data": {
            "text/html": [
              "<div>\n",
              "<style scoped>\n",
              "    .dataframe tbody tr th:only-of-type {\n",
              "        vertical-align: middle;\n",
              "    }\n",
              "\n",
              "    .dataframe tbody tr th {\n",
              "        vertical-align: top;\n",
              "    }\n",
              "\n",
              "    .dataframe thead th {\n",
              "        text-align: right;\n",
              "    }\n",
              "</style>\n",
              "<table border=\"1\" class=\"dataframe\">\n",
              "  <thead>\n",
              "    <tr style=\"text-align: right;\">\n",
              "      <th></th>\n",
              "      <th>ROK</th>\n",
              "      <th>NRG</th>\n",
              "      <th>MN</th>\n",
              "      <th>KLM</th>\n",
              "      <th>WOJ</th>\n",
              "      <th>LOS</th>\n",
              "      <th>DOCH</th>\n",
              "      <th>LOS_LT14</th>\n",
              "      <th>LOS_GE14</th>\n",
              "      <th>TG</th>\n",
              "      <th>DOCH_OS</th>\n",
              "      <th>DOCH_EQ</th>\n",
              "    </tr>\n",
              "  </thead>\n",
              "  <tbody>\n",
              "    <tr>\n",
              "      <th>0</th>\n",
              "      <td>b'2005'</td>\n",
              "      <td>b'100010111'</td>\n",
              "      <td>1486.0</td>\n",
              "      <td>1.0</td>\n",
              "      <td>b'02'</td>\n",
              "      <td>3.0</td>\n",
              "      <td>2974.95</td>\n",
              "      <td>0.0</td>\n",
              "      <td>3.0</td>\n",
              "      <td>0.0</td>\n",
              "      <td>991.650</td>\n",
              "      <td>1487.475000</td>\n",
              "    </tr>\n",
              "    <tr>\n",
              "      <th>1</th>\n",
              "      <td>b'2005'</td>\n",
              "      <td>b'100010121'</td>\n",
              "      <td>1444.0</td>\n",
              "      <td>1.0</td>\n",
              "      <td>b'02'</td>\n",
              "      <td>2.0</td>\n",
              "      <td>1700.55</td>\n",
              "      <td>0.0</td>\n",
              "      <td>2.0</td>\n",
              "      <td>0.0</td>\n",
              "      <td>850.275</td>\n",
              "      <td>1133.700000</td>\n",
              "    </tr>\n",
              "    <tr>\n",
              "      <th>2</th>\n",
              "      <td>b'2005'</td>\n",
              "      <td>b'100010211'</td>\n",
              "      <td>1444.0</td>\n",
              "      <td>1.0</td>\n",
              "      <td>b'02'</td>\n",
              "      <td>2.0</td>\n",
              "      <td>821.56</td>\n",
              "      <td>0.0</td>\n",
              "      <td>2.0</td>\n",
              "      <td>0.0</td>\n",
              "      <td>410.780</td>\n",
              "      <td>547.706667</td>\n",
              "    </tr>\n",
              "    <tr>\n",
              "      <th>3</th>\n",
              "      <td>b'2005'</td>\n",
              "      <td>b'100010221'</td>\n",
              "      <td>2603.0</td>\n",
              "      <td>1.0</td>\n",
              "      <td>b'02'</td>\n",
              "      <td>1.0</td>\n",
              "      <td>1369.94</td>\n",
              "      <td>0.0</td>\n",
              "      <td>1.0</td>\n",
              "      <td>1.0</td>\n",
              "      <td>1369.940</td>\n",
              "      <td>1369.940000</td>\n",
              "    </tr>\n",
              "    <tr>\n",
              "      <th>4</th>\n",
              "      <td>b'2005'</td>\n",
              "      <td>b'100010222'</td>\n",
              "      <td>1453.0</td>\n",
              "      <td>1.0</td>\n",
              "      <td>b'02'</td>\n",
              "      <td>4.0</td>\n",
              "      <td>9801.88</td>\n",
              "      <td>2.0</td>\n",
              "      <td>2.0</td>\n",
              "      <td>0.0</td>\n",
              "      <td>2450.470</td>\n",
              "      <td>4667.561905</td>\n",
              "    </tr>\n",
              "  </tbody>\n",
              "</table>\n",
              "</div>"
            ],
            "text/plain": [
              "       ROK           NRG      MN  KLM  ... LOS_GE14   TG   DOCH_OS      DOCH_EQ\n",
              "0  b'2005'  b'100010111'  1486.0  1.0  ...      3.0  0.0   991.650  1487.475000\n",
              "1  b'2005'  b'100010121'  1444.0  1.0  ...      2.0  0.0   850.275  1133.700000\n",
              "2  b'2005'  b'100010211'  1444.0  1.0  ...      2.0  0.0   410.780   547.706667\n",
              "3  b'2005'  b'100010221'  2603.0  1.0  ...      1.0  1.0  1369.940  1369.940000\n",
              "4  b'2005'  b'100010222'  1453.0  1.0  ...      2.0  0.0  2450.470  4667.561905\n",
              "\n",
              "[5 rows x 12 columns]"
            ]
          },
          "metadata": {
            "tags": []
          },
          "execution_count": 5
        }
      ]
    },
    {
      "cell_type": "markdown",
      "metadata": {
        "id": "zae448FjBoso"
      },
      "source": [
        "Podstawowe kroki w analizie danych\n",
        "\n",
        "1. Wizualizacja danych\n",
        "2. Statystyki opisowe\n",
        "\n",
        "Zaczniemy od wizualizacji i zaczniemy od trzech typów wykresów:\n",
        "\n",
        "* histogram\n",
        "* pudełkowy (*boxplot*)\n",
        "* wykresu rozrzutu (*scatterplot*)"
      ]
    },
    {
      "cell_type": "code",
      "metadata": {
        "id": "UheGmO7uB_kw",
        "outputId": "71f227b3-f071-4fcd-aead-723e8cb1dd14",
        "colab": {
          "base_uri": "https://localhost:8080/",
          "height": 282
        }
      },
      "source": [
        "## tworzymy histogram dla zmiennej wydg\n",
        "gosp.wydg.plot.hist(bins = 100)"
      ],
      "execution_count": 12,
      "outputs": [
        {
          "output_type": "execute_result",
          "data": {
            "text/plain": [
              "<matplotlib.axes._subplots.AxesSubplot at 0x7f9b7155c438>"
            ]
          },
          "metadata": {
            "tags": []
          },
          "execution_count": 12
        },
        {
          "output_type": "display_data",
          "data": {
            "image/png": "[encoded data removed]",
            "text/plain": [
              "<Figure size 432x288 with 1 Axes>"
            ]
          },
          "metadata": {
            "tags": [],
            "needs_background": "light"
          }
        }
      ]
    },
    {
      "cell_type": "code",
      "metadata": {
        "id": "zP5H5B0yEUKP",
        "outputId": "2d00dbd5-1e33-445e-fe67-cc751d7d3e3a",
        "colab": {
          "base_uri": "https://localhost:8080/",
          "height": 282
        }
      },
      "source": [
        "gosp.boxplot(column = 'wydg')"
      ],
      "execution_count": 15,
      "outputs": [
        {
          "output_type": "execute_result",
          "data": {
            "text/plain": [
              "<matplotlib.axes._subplots.AxesSubplot at 0x7f9b70eeeb00>"
            ]
          },
          "metadata": {
            "tags": []
          },
          "execution_count": 15
        },
        {
          "output_type": "display_data",
          "data": {
            "image/png": "[encoded data removed]",
            "text/plain": [
              "<Figure size 432x288 with 1 Axes>"
            ]
          },
          "metadata": {
            "tags": [],
            "needs_background": "light"
          }
        }
      ]
    },
    {
      "cell_type": "code",
      "metadata": {
        "id": "YAbRCNj0DnNX",
        "outputId": "f28404eb-9361-4478-fed8-d3f653267e05",
        "colab": {
          "base_uri": "https://localhost:8080/",
          "height": 173
        }
      },
      "source": [
        "gosp.wydg.describe()"
      ],
      "execution_count": 13,
      "outputs": [
        {
          "output_type": "execute_result",
          "data": {
            "text/plain": [
              "count    32451.000000\n",
              "mean      2012.712672\n",
              "std       1511.973936\n",
              "min         73.900000\n",
              "25%       1133.675000\n",
              "50%       1672.740000\n",
              "75%       2453.140000\n",
              "max      34493.620000\n",
              "Name: wydg, dtype: float64"
            ]
          },
          "metadata": {
            "tags": []
          },
          "execution_count": 13
        }
      ]
    },
    {
      "cell_type": "code",
      "metadata": {
        "id": "Jiom_JobFfH0",
        "outputId": "b4926c86-77eb-475a-dc1c-aaa463f799cb",
        "colab": {
          "base_uri": "https://localhost:8080/",
          "height": 296
        }
      },
      "source": [
        "## tworzymy wykres rozrzutu (korelacyjny diagram rozrzutu)\n",
        "\n",
        "gosp.plot.scatter(x = \"dochg\", y = \"wydg\")"
      ],
      "execution_count": 16,
      "outputs": [
        {
          "output_type": "execute_result",
          "data": {
            "text/plain": [
              "<matplotlib.axes._subplots.AxesSubplot at 0x7f9b70eee6a0>"
            ]
          },
          "metadata": {
            "tags": []
          },
          "execution_count": 16
        },
        {
          "output_type": "display_data",
          "data": {
            "image/png": "[encoded data removed]",
            "text/plain": [
              "<Figure size 432x288 with 1 Axes>"
            ]
          },
          "metadata": {
            "tags": [],
            "needs_background": "light"
          }
        }
      ]
    },
    {
      "cell_type": "code",
      "metadata": {
        "id": "SsxqxiZ1Hk2J",
        "outputId": "1a87f675-a137-4ebe-8d46-0341efb95e5e",
        "colab": {
          "base_uri": "https://localhost:8080/",
          "height": 173
        }
      },
      "source": [
        "### liczenie statystyk opisowych dla zmiennych na skali nominalnej nie powinno mieć miejsca\n",
        "gosp.trb.describe()"
      ],
      "execution_count": 17,
      "outputs": [
        {
          "output_type": "execute_result",
          "data": {
            "text/plain": [
              "count    32487.000000\n",
              "mean         6.335273\n",
              "std          4.389238\n",
              "min          1.000000\n",
              "25%          2.000000\n",
              "50%          6.000000\n",
              "75%         11.000000\n",
              "max         12.000000\n",
              "Name: trb, dtype: float64"
            ]
          },
          "metadata": {
            "tags": []
          },
          "execution_count": 17
        }
      ]
    },
    {
      "cell_type": "markdown",
      "metadata": {
        "id": "X3spw-YfID5V"
      },
      "source": [
        "Zliczmy ile gospodarstw domowych było według poszczególnych typów. Do tego możemy wykorzystać funkcję `value_counts()`"
      ]
    },
    {
      "cell_type": "code",
      "metadata": {
        "id": "EsQHSTY1INLY",
        "outputId": "b71dfb1e-3023-4fbe-e26d-3f689b11f318",
        "colab": {
          "base_uri": "https://localhost:8080/",
          "height": 242
        }
      },
      "source": [
        "gosp.trb.value_counts()"
      ],
      "execution_count": 18,
      "outputs": [
        {
          "output_type": "execute_result",
          "data": {
            "text/plain": [
              "12    6279\n",
              "1     5731\n",
              "11    5239\n",
              "3     4288\n",
              "2     4063\n",
              "8     3056\n",
              "4     1429\n",
              "6     1092\n",
              "5      604\n",
              "9      413\n",
              "10     204\n",
              "7       89\n",
              "Name: trb, dtype: int64"
            ]
          },
          "metadata": {
            "tags": []
          },
          "execution_count": 18
        }
      ]
    },
    {
      "cell_type": "markdown",
      "metadata": {
        "id": "T-umQizVJacJ"
      },
      "source": [
        "Przetwarzania danych przez:\n",
        "\n",
        "1. wybieranie kolumn\n",
        "2. wybieranie wierszy\n",
        "3. tworzenie nowych kolumn\n",
        "4. usuwanie istniejących kolumn\n",
        "5. usuwanie wierszy \n",
        "\n"
      ]
    },
    {
      "cell_type": "code",
      "metadata": {
        "id": "GdFemRgnJrQz"
      },
      "source": [
        "## pierwszy sposób\n",
        "gosp.klm.head()\n",
        "## drugi sposób\n",
        "gosp[\"klm\"].head()\n",
        "gosp[ [\"klm\", \"wydg\"] ] ## jedną lub więcej kolumn"
      ],
      "execution_count": null,
      "outputs": []
    },
    {
      "cell_type": "code",
      "metadata": {
        "id": "de6k5oAiKo57",
        "outputId": "11d419f5-f0d9-485d-842d-dd48dd935f58",
        "colab": {
          "base_uri": "https://localhost:8080/",
          "height": 138
        }
      },
      "source": [
        "## wybieranie wierszy\n",
        "gosp.iloc[0]\n",
        "gosp.iloc[0:10]\n",
        "gosp.iloc[ [0, 3, 5] ]\n",
        "gosp.iloc[ [0, 3, 5] , [0, 3, 5]] ## indeksy numerowane"
      ],
      "execution_count": 30,
      "outputs": [
        {
          "output_type": "execute_result",
          "data": {
            "text/html": [
              "<div>\n",
              "<style scoped>\n",
              "    .dataframe tbody tr th:only-of-type {\n",
              "        vertical-align: middle;\n",
              "    }\n",
              "\n",
              "    .dataframe tbody tr th {\n",
              "        vertical-align: top;\n",
              "    }\n",
              "\n",
              "    .dataframe thead th {\n",
              "        text-align: right;\n",
              "    }\n",
              "</style>\n",
              "<table border=\"1\" class=\"dataframe\">\n",
              "  <thead>\n",
              "    <tr style=\"text-align: right;\">\n",
              "      <th></th>\n",
              "      <th>klm</th>\n",
              "      <th>zut</th>\n",
              "      <th>d32</th>\n",
              "    </tr>\n",
              "  </thead>\n",
              "  <tbody>\n",
              "    <tr>\n",
              "      <th>0</th>\n",
              "      <td>1</td>\n",
              "      <td>5</td>\n",
              "      <td>1</td>\n",
              "    </tr>\n",
              "    <tr>\n",
              "      <th>3</th>\n",
              "      <td>1</td>\n",
              "      <td>5</td>\n",
              "      <td>1</td>\n",
              "    </tr>\n",
              "    <tr>\n",
              "      <th>5</th>\n",
              "      <td>1</td>\n",
              "      <td>1</td>\n",
              "      <td>1</td>\n",
              "    </tr>\n",
              "  </tbody>\n",
              "</table>\n",
              "</div>"
            ],
            "text/plain": [
              "   klm  zut  d32\n",
              "0    1    5    1\n",
              "3    1    5    1\n",
              "5    1    1    1"
            ]
          },
          "metadata": {
            "tags": []
          },
          "execution_count": 30
        }
      ]
    },
    {
      "cell_type": "code",
      "metadata": {
        "id": "Zxc_KrpBLXy5",
        "outputId": "c5f1874f-ca82-4924-893a-a4085251725b",
        "colab": {
          "base_uri": "https://localhost:8080/",
          "height": 378
        }
      },
      "source": [
        "## po nazwach kolumn\n",
        "gosp.loc[0:10, [\"klm\", \"zut\"]]"
      ],
      "execution_count": 32,
      "outputs": [
        {
          "output_type": "execute_result",
          "data": {
            "text/html": [
              "<div>\n",
              "<style scoped>\n",
              "    .dataframe tbody tr th:only-of-type {\n",
              "        vertical-align: middle;\n",
              "    }\n",
              "\n",
              "    .dataframe tbody tr th {\n",
              "        vertical-align: top;\n",
              "    }\n",
              "\n",
              "    .dataframe thead th {\n",
              "        text-align: right;\n",
              "    }\n",
              "</style>\n",
              "<table border=\"1\" class=\"dataframe\">\n",
              "  <thead>\n",
              "    <tr style=\"text-align: right;\">\n",
              "      <th></th>\n",
              "      <th>klm</th>\n",
              "      <th>zut</th>\n",
              "    </tr>\n",
              "  </thead>\n",
              "  <tbody>\n",
              "    <tr>\n",
              "      <th>0</th>\n",
              "      <td>1</td>\n",
              "      <td>5</td>\n",
              "    </tr>\n",
              "    <tr>\n",
              "      <th>1</th>\n",
              "      <td>1</td>\n",
              "      <td>1</td>\n",
              "    </tr>\n",
              "    <tr>\n",
              "      <th>2</th>\n",
              "      <td>1</td>\n",
              "      <td>1</td>\n",
              "    </tr>\n",
              "    <tr>\n",
              "      <th>3</th>\n",
              "      <td>1</td>\n",
              "      <td>5</td>\n",
              "    </tr>\n",
              "    <tr>\n",
              "      <th>4</th>\n",
              "      <td>1</td>\n",
              "      <td>5</td>\n",
              "    </tr>\n",
              "    <tr>\n",
              "      <th>5</th>\n",
              "      <td>1</td>\n",
              "      <td>1</td>\n",
              "    </tr>\n",
              "    <tr>\n",
              "      <th>6</th>\n",
              "      <td>1</td>\n",
              "      <td>1</td>\n",
              "    </tr>\n",
              "    <tr>\n",
              "      <th>7</th>\n",
              "      <td>1</td>\n",
              "      <td>5</td>\n",
              "    </tr>\n",
              "    <tr>\n",
              "      <th>8</th>\n",
              "      <td>1</td>\n",
              "      <td>5</td>\n",
              "    </tr>\n",
              "    <tr>\n",
              "      <th>9</th>\n",
              "      <td>1</td>\n",
              "      <td>1</td>\n",
              "    </tr>\n",
              "    <tr>\n",
              "      <th>10</th>\n",
              "      <td>1</td>\n",
              "      <td>5</td>\n",
              "    </tr>\n",
              "  </tbody>\n",
              "</table>\n",
              "</div>"
            ],
            "text/plain": [
              "    klm  zut\n",
              "0     1    5\n",
              "1     1    1\n",
              "2     1    1\n",
              "3     1    5\n",
              "4     1    5\n",
              "5     1    1\n",
              "6     1    1\n",
              "7     1    5\n",
              "8     1    5\n",
              "9     1    1\n",
              "10    1    5"
            ]
          },
          "metadata": {
            "tags": []
          },
          "execution_count": 32
        }
      ]
    },
    {
      "cell_type": "markdown",
      "metadata": {
        "id": "A4WSfNXKL2DA"
      },
      "source": [
        "Wybieranie wierszy na podstawie przetwarzania warunkowego\n"
      ]
    },
    {
      "cell_type": "code",
      "metadata": {
        "id": "fIQG9MZmL6Am",
        "outputId": "bff16ac3-8242-4bd3-eae0-412dae112caa",
        "colab": {
          "base_uri": "https://localhost:8080/",
          "height": 282
        }
      },
      "source": [
        "gosp.loc[ gosp.klm == 6 ]\n",
        "gosp.query(\"klm == 6 & trb == 11\")\n",
        "gosp.query(\"klm == 6 & trb == 11\")[ [\"klm\", \"trb\", \"wydg\"] ]\n",
        "gosp.query(\"klm == 6 & trb == 11\").wydg.hist(bins=100)"
      ],
      "execution_count": 42,
      "outputs": [
        {
          "output_type": "execute_result",
          "data": {
            "text/plain": [
              "<matplotlib.axes._subplots.AxesSubplot at 0x7f9b6dde4128>"
            ]
          },
          "metadata": {
            "tags": []
          },
          "execution_count": 42
        },
        {
          "output_type": "display_data",
          "data": {
            "image/png": "[encoded data removed]",
            "text/plain": [
              "<Figure size 432x288 with 1 Axes>"
            ]
          },
          "metadata": {
            "tags": [],
            "needs_background": "light"
          }
        }
      ]
    },
    {
      "cell_type": "code",
      "metadata": {
        "id": "yqWXrnLXNVj4",
        "outputId": "2fcf0d6c-7320-4a2a-b551-52c0ff1b6c54",
        "colab": {
          "base_uri": "https://localhost:8080/",
          "height": 282
        }
      },
      "source": [
        "## tworzenie nowych kolumn\n",
        "gosp[\"wydg_log\"] = np.log(gosp[\"wydg\"]) ## dodajemy nową kolumnę, która będzie logarytmem (naturalnym) zmiennej wydg \n",
        "\n",
        "gosp.wydg_log.hist(bins=100)"
      ],
      "execution_count": 43,
      "outputs": [
        {
          "output_type": "execute_result",
          "data": {
            "text/plain": [
              "<matplotlib.axes._subplots.AxesSubplot at 0x7f9b668129e8>"
            ]
          },
          "metadata": {
            "tags": []
          },
          "execution_count": 43
        },
        {
          "output_type": "display_data",
          "data": {
            "image/png": "[encoded data removed]",
            "text/plain": [
              "<Figure size 432x288 with 1 Axes>"
            ]
          },
          "metadata": {
            "tags": [],
            "needs_background": "light"
          }
        }
      ]
    }
  ]
}